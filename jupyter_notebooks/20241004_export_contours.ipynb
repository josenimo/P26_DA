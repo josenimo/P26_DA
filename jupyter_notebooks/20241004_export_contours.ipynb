{
 "cells": [
  {
   "cell_type": "code",
   "execution_count": 1,
   "metadata": {},
   "outputs": [
    {
     "name": "stdout",
     "output_type": "stream",
     "text": [
      "Running SCIMAP  2.1.3\n"
     ]
    }
   ],
   "source": [
    "import pandas as pd\n",
    "import anndata as ad\n",
    "from loguru import logger \n",
    "import time\n",
    "\n",
    "import numpy as np\n",
    "import tifffile\n",
    "\n",
    "import matplotlib.pyplot as plt\n",
    "import seaborn as sns\n",
    "\n",
    "import shapely\n",
    "import geopandas as gpd\n",
    "\n",
    "import os\n",
    "import sys\n",
    "sys.path.append(os.path.abspath('../scripts'))\n",
    "import utils\n",
    "import importlib\n",
    "\n",
    "from scipy.spatial import Voronoi, voronoi_plot_2d\n",
    "import geopandas as gpd\n",
    "from shapely.geometry import Polygon, MultiPolygon, box\n",
    "\n",
    "import scimap as sm"
   ]
  },
  {
   "cell_type": "code",
   "execution_count": 2,
   "metadata": {},
   "outputs": [],
   "source": [
    "adata = ad.read_h5ad(\"../data/processed/20241004_1107_991_992_knn_RCN.h5ad\")"
   ]
  },
  {
   "cell_type": "code",
   "execution_count": 3,
   "metadata": {},
   "outputs": [
    {
     "data": {
      "text/plain": [
       "AnnData object with n_obs × n_vars = 1615233 × 8\n",
       "    obs: 'CellID', 'Y_centroid', 'X_centroid', 'Area', 'MajorAxisLength', 'MinorAxisLength', 'Eccentricity', 'Orientation', 'Extent', 'Solidity', 'filter_by_ann', 'mean_DAPI_bg_abs_above_value', 'mean_DAPI_bg_abs_below_value', 'Area_filter_nottoobig', 'Area_filter_nottoolow', 'Area_filter', 'DAPI_ratio', 'DAPI_ratio_pass_nottoolow', 'DAPI_ratio_pass_nottoohigh', 'DAPI_ratio_pass', 'imageid', 'phenotype', 'spatial_lda_knn7_kmeans_k7', 'spatial_lda_knn14_kmeans_k7', 'spatial_lda_knn21_kmeans_k7', 'spatial_lda_knn30_kmeans_k7', 'spatial_lda_knn40_kmeans_k7', 'spatial_lda_knn50_kmeans_k7'\n",
       "    var: 'math', 'marker'\n",
       "    uns: 'spatial_lda_knn14', 'spatial_lda_knn14_probability', 'spatial_lda_knn21', 'spatial_lda_knn21_probability', 'spatial_lda_knn30', 'spatial_lda_knn30_probability', 'spatial_lda_knn40', 'spatial_lda_knn40_probability', 'spatial_lda_knn50', 'spatial_lda_knn50_probability', 'spatial_lda_knn7', 'spatial_lda_knn7_probability'"
      ]
     },
     "execution_count": 3,
     "metadata": {},
     "output_type": "execute_result"
    }
   ],
   "source": [
    "adata"
   ]
  },
  {
   "cell_type": "code",
   "execution_count": 5,
   "metadata": {},
   "outputs": [
    {
     "data": {
      "text/html": [
       "<div>\n",
       "<style scoped>\n",
       "    .dataframe tbody tr th:only-of-type {\n",
       "        vertical-align: middle;\n",
       "    }\n",
       "\n",
       "    .dataframe tbody tr th {\n",
       "        vertical-align: top;\n",
       "    }\n",
       "\n",
       "    .dataframe thead th {\n",
       "        text-align: right;\n",
       "    }\n",
       "</style>\n",
       "<table border=\"1\" class=\"dataframe\">\n",
       "  <thead>\n",
       "    <tr style=\"text-align: right;\">\n",
       "      <th></th>\n",
       "      <th>CellID</th>\n",
       "      <th>Y_centroid</th>\n",
       "      <th>X_centroid</th>\n",
       "      <th>Area</th>\n",
       "      <th>MajorAxisLength</th>\n",
       "      <th>MinorAxisLength</th>\n",
       "      <th>Eccentricity</th>\n",
       "      <th>Orientation</th>\n",
       "      <th>Extent</th>\n",
       "      <th>Solidity</th>\n",
       "      <th>...</th>\n",
       "      <th>DAPI_ratio_pass_nottoohigh</th>\n",
       "      <th>DAPI_ratio_pass</th>\n",
       "      <th>imageid</th>\n",
       "      <th>phenotype</th>\n",
       "      <th>spatial_lda_knn7_kmeans_k7</th>\n",
       "      <th>spatial_lda_knn14_kmeans_k7</th>\n",
       "      <th>spatial_lda_knn21_kmeans_k7</th>\n",
       "      <th>spatial_lda_knn30_kmeans_k7</th>\n",
       "      <th>spatial_lda_knn40_kmeans_k7</th>\n",
       "      <th>spatial_lda_knn50_kmeans_k7</th>\n",
       "    </tr>\n",
       "  </thead>\n",
       "  <tbody>\n",
       "    <tr>\n",
       "      <th>0</th>\n",
       "      <td>0.0</td>\n",
       "      <td>29410.806452</td>\n",
       "      <td>35874.857801</td>\n",
       "      <td>1519.0</td>\n",
       "      <td>98.696620</td>\n",
       "      <td>30.646839</td>\n",
       "      <td>0.950568</td>\n",
       "      <td>-1.524977</td>\n",
       "      <td>228.651804</td>\n",
       "      <td>0.676615</td>\n",
       "      <td>...</td>\n",
       "      <td>True</td>\n",
       "      <td>True</td>\n",
       "      <td>991</td>\n",
       "      <td>Cancer_cells</td>\n",
       "      <td>1</td>\n",
       "      <td>6</td>\n",
       "      <td>4</td>\n",
       "      <td>5</td>\n",
       "      <td>2</td>\n",
       "      <td>0</td>\n",
       "    </tr>\n",
       "    <tr>\n",
       "      <th>1</th>\n",
       "      <td>1.0</td>\n",
       "      <td>29445.080408</td>\n",
       "      <td>36162.243140</td>\n",
       "      <td>1567.0</td>\n",
       "      <td>50.422862</td>\n",
       "      <td>39.687556</td>\n",
       "      <td>0.616832</td>\n",
       "      <td>0.160002</td>\n",
       "      <td>148.710678</td>\n",
       "      <td>0.975109</td>\n",
       "      <td>...</td>\n",
       "      <td>True</td>\n",
       "      <td>True</td>\n",
       "      <td>991</td>\n",
       "      <td>Cancer_cells</td>\n",
       "      <td>4</td>\n",
       "      <td>6</td>\n",
       "      <td>4</td>\n",
       "      <td>5</td>\n",
       "      <td>2</td>\n",
       "      <td>0</td>\n",
       "    </tr>\n",
       "    <tr>\n",
       "      <th>2</th>\n",
       "      <td>2.0</td>\n",
       "      <td>29505.171707</td>\n",
       "      <td>38455.235122</td>\n",
       "      <td>1025.0</td>\n",
       "      <td>40.280587</td>\n",
       "      <td>34.195207</td>\n",
       "      <td>0.528513</td>\n",
       "      <td>-0.346644</td>\n",
       "      <td>131.438600</td>\n",
       "      <td>0.927602</td>\n",
       "      <td>...</td>\n",
       "      <td>True</td>\n",
       "      <td>True</td>\n",
       "      <td>991</td>\n",
       "      <td>Cancer_cells</td>\n",
       "      <td>1</td>\n",
       "      <td>1</td>\n",
       "      <td>1</td>\n",
       "      <td>1</td>\n",
       "      <td>2</td>\n",
       "      <td>0</td>\n",
       "    </tr>\n",
       "    <tr>\n",
       "      <th>3</th>\n",
       "      <td>3.0</td>\n",
       "      <td>29539.721673</td>\n",
       "      <td>35060.844867</td>\n",
       "      <td>1315.0</td>\n",
       "      <td>61.049935</td>\n",
       "      <td>28.208869</td>\n",
       "      <td>0.886848</td>\n",
       "      <td>-1.447088</td>\n",
       "      <td>151.254834</td>\n",
       "      <td>0.947406</td>\n",
       "      <td>...</td>\n",
       "      <td>True</td>\n",
       "      <td>True</td>\n",
       "      <td>991</td>\n",
       "      <td>CD4_Tcells</td>\n",
       "      <td>3</td>\n",
       "      <td>0</td>\n",
       "      <td>6</td>\n",
       "      <td>6</td>\n",
       "      <td>1</td>\n",
       "      <td>6</td>\n",
       "    </tr>\n",
       "    <tr>\n",
       "      <th>4</th>\n",
       "      <td>4.0</td>\n",
       "      <td>29982.642779</td>\n",
       "      <td>36765.660558</td>\n",
       "      <td>3656.0</td>\n",
       "      <td>84.178897</td>\n",
       "      <td>57.384893</td>\n",
       "      <td>0.731630</td>\n",
       "      <td>0.251203</td>\n",
       "      <td>243.379726</td>\n",
       "      <td>0.926743</td>\n",
       "      <td>...</td>\n",
       "      <td>True</td>\n",
       "      <td>True</td>\n",
       "      <td>991</td>\n",
       "      <td>Cancer_cells</td>\n",
       "      <td>1</td>\n",
       "      <td>1</td>\n",
       "      <td>1</td>\n",
       "      <td>1</td>\n",
       "      <td>4</td>\n",
       "      <td>1</td>\n",
       "    </tr>\n",
       "    <tr>\n",
       "      <th>...</th>\n",
       "      <td>...</td>\n",
       "      <td>...</td>\n",
       "      <td>...</td>\n",
       "      <td>...</td>\n",
       "      <td>...</td>\n",
       "      <td>...</td>\n",
       "      <td>...</td>\n",
       "      <td>...</td>\n",
       "      <td>...</td>\n",
       "      <td>...</td>\n",
       "      <td>...</td>\n",
       "      <td>...</td>\n",
       "      <td>...</td>\n",
       "      <td>...</td>\n",
       "      <td>...</td>\n",
       "      <td>...</td>\n",
       "      <td>...</td>\n",
       "      <td>...</td>\n",
       "      <td>...</td>\n",
       "      <td>...</td>\n",
       "      <td>...</td>\n",
       "    </tr>\n",
       "    <tr>\n",
       "      <th>1615228</th>\n",
       "      <td>1134342.0</td>\n",
       "      <td>27270.642157</td>\n",
       "      <td>37569.550980</td>\n",
       "      <td>1020.0</td>\n",
       "      <td>39.707795</td>\n",
       "      <td>32.947621</td>\n",
       "      <td>0.558132</td>\n",
       "      <td>-0.657307</td>\n",
       "      <td>121.639610</td>\n",
       "      <td>0.955951</td>\n",
       "      <td>...</td>\n",
       "      <td>True</td>\n",
       "      <td>True</td>\n",
       "      <td>992</td>\n",
       "      <td>Unknown</td>\n",
       "      <td>2</td>\n",
       "      <td>2</td>\n",
       "      <td>0</td>\n",
       "      <td>0</td>\n",
       "      <td>6</td>\n",
       "      <td>3</td>\n",
       "    </tr>\n",
       "    <tr>\n",
       "      <th>1615229</th>\n",
       "      <td>1134343.0</td>\n",
       "      <td>27274.343598</td>\n",
       "      <td>38996.906807</td>\n",
       "      <td>1234.0</td>\n",
       "      <td>42.622618</td>\n",
       "      <td>37.495770</td>\n",
       "      <td>0.475501</td>\n",
       "      <td>0.465532</td>\n",
       "      <td>133.781746</td>\n",
       "      <td>0.964063</td>\n",
       "      <td>...</td>\n",
       "      <td>True</td>\n",
       "      <td>True</td>\n",
       "      <td>992</td>\n",
       "      <td>Cancer_cells</td>\n",
       "      <td>1</td>\n",
       "      <td>1</td>\n",
       "      <td>0</td>\n",
       "      <td>0</td>\n",
       "      <td>6</td>\n",
       "      <td>3</td>\n",
       "    </tr>\n",
       "    <tr>\n",
       "      <th>1615230</th>\n",
       "      <td>1134344.0</td>\n",
       "      <td>27271.604926</td>\n",
       "      <td>37413.383251</td>\n",
       "      <td>1015.0</td>\n",
       "      <td>60.243974</td>\n",
       "      <td>22.812825</td>\n",
       "      <td>0.925530</td>\n",
       "      <td>-0.625325</td>\n",
       "      <td>144.509668</td>\n",
       "      <td>0.866041</td>\n",
       "      <td>...</td>\n",
       "      <td>True</td>\n",
       "      <td>True</td>\n",
       "      <td>992</td>\n",
       "      <td>Cancer_cells</td>\n",
       "      <td>3</td>\n",
       "      <td>2</td>\n",
       "      <td>0</td>\n",
       "      <td>0</td>\n",
       "      <td>4</td>\n",
       "      <td>3</td>\n",
       "    </tr>\n",
       "    <tr>\n",
       "      <th>1615231</th>\n",
       "      <td>1134345.0</td>\n",
       "      <td>27272.320411</td>\n",
       "      <td>38221.301424</td>\n",
       "      <td>1264.0</td>\n",
       "      <td>50.722945</td>\n",
       "      <td>32.740800</td>\n",
       "      <td>0.763775</td>\n",
       "      <td>-1.218716</td>\n",
       "      <td>143.681241</td>\n",
       "      <td>0.953243</td>\n",
       "      <td>...</td>\n",
       "      <td>True</td>\n",
       "      <td>True</td>\n",
       "      <td>992</td>\n",
       "      <td>Cancer_cells</td>\n",
       "      <td>4</td>\n",
       "      <td>1</td>\n",
       "      <td>1</td>\n",
       "      <td>1</td>\n",
       "      <td>4</td>\n",
       "      <td>1</td>\n",
       "    </tr>\n",
       "    <tr>\n",
       "      <th>1615232</th>\n",
       "      <td>1134346.0</td>\n",
       "      <td>27268.723545</td>\n",
       "      <td>35244.596561</td>\n",
       "      <td>756.0</td>\n",
       "      <td>38.535948</td>\n",
       "      <td>25.918885</td>\n",
       "      <td>0.740016</td>\n",
       "      <td>-0.159388</td>\n",
       "      <td>107.053824</td>\n",
       "      <td>0.966752</td>\n",
       "      <td>...</td>\n",
       "      <td>True</td>\n",
       "      <td>True</td>\n",
       "      <td>992</td>\n",
       "      <td>Cancer_cells</td>\n",
       "      <td>1</td>\n",
       "      <td>1</td>\n",
       "      <td>1</td>\n",
       "      <td>1</td>\n",
       "      <td>4</td>\n",
       "      <td>1</td>\n",
       "    </tr>\n",
       "  </tbody>\n",
       "</table>\n",
       "<p>1615233 rows × 28 columns</p>\n",
       "</div>"
      ],
      "text/plain": [
       "            CellID    Y_centroid    X_centroid    Area  MajorAxisLength  \\\n",
       "0              0.0  29410.806452  35874.857801  1519.0        98.696620   \n",
       "1              1.0  29445.080408  36162.243140  1567.0        50.422862   \n",
       "2              2.0  29505.171707  38455.235122  1025.0        40.280587   \n",
       "3              3.0  29539.721673  35060.844867  1315.0        61.049935   \n",
       "4              4.0  29982.642779  36765.660558  3656.0        84.178897   \n",
       "...            ...           ...           ...     ...              ...   \n",
       "1615228  1134342.0  27270.642157  37569.550980  1020.0        39.707795   \n",
       "1615229  1134343.0  27274.343598  38996.906807  1234.0        42.622618   \n",
       "1615230  1134344.0  27271.604926  37413.383251  1015.0        60.243974   \n",
       "1615231  1134345.0  27272.320411  38221.301424  1264.0        50.722945   \n",
       "1615232  1134346.0  27268.723545  35244.596561   756.0        38.535948   \n",
       "\n",
       "         MinorAxisLength  Eccentricity  Orientation      Extent  Solidity  \\\n",
       "0              30.646839      0.950568    -1.524977  228.651804  0.676615   \n",
       "1              39.687556      0.616832     0.160002  148.710678  0.975109   \n",
       "2              34.195207      0.528513    -0.346644  131.438600  0.927602   \n",
       "3              28.208869      0.886848    -1.447088  151.254834  0.947406   \n",
       "4              57.384893      0.731630     0.251203  243.379726  0.926743   \n",
       "...                  ...           ...          ...         ...       ...   \n",
       "1615228        32.947621      0.558132    -0.657307  121.639610  0.955951   \n",
       "1615229        37.495770      0.475501     0.465532  133.781746  0.964063   \n",
       "1615230        22.812825      0.925530    -0.625325  144.509668  0.866041   \n",
       "1615231        32.740800      0.763775    -1.218716  143.681241  0.953243   \n",
       "1615232        25.918885      0.740016    -0.159388  107.053824  0.966752   \n",
       "\n",
       "         ... DAPI_ratio_pass_nottoohigh DAPI_ratio_pass imageid     phenotype  \\\n",
       "0        ...                       True            True     991  Cancer_cells   \n",
       "1        ...                       True            True     991  Cancer_cells   \n",
       "2        ...                       True            True     991  Cancer_cells   \n",
       "3        ...                       True            True     991    CD4_Tcells   \n",
       "4        ...                       True            True     991  Cancer_cells   \n",
       "...      ...                        ...             ...     ...           ...   \n",
       "1615228  ...                       True            True     992       Unknown   \n",
       "1615229  ...                       True            True     992  Cancer_cells   \n",
       "1615230  ...                       True            True     992  Cancer_cells   \n",
       "1615231  ...                       True            True     992  Cancer_cells   \n",
       "1615232  ...                       True            True     992  Cancer_cells   \n",
       "\n",
       "        spatial_lda_knn7_kmeans_k7 spatial_lda_knn14_kmeans_k7  \\\n",
       "0                                1                           6   \n",
       "1                                4                           6   \n",
       "2                                1                           1   \n",
       "3                                3                           0   \n",
       "4                                1                           1   \n",
       "...                            ...                         ...   \n",
       "1615228                          2                           2   \n",
       "1615229                          1                           1   \n",
       "1615230                          3                           2   \n",
       "1615231                          4                           1   \n",
       "1615232                          1                           1   \n",
       "\n",
       "         spatial_lda_knn21_kmeans_k7 spatial_lda_knn30_kmeans_k7  \\\n",
       "0                                  4                           5   \n",
       "1                                  4                           5   \n",
       "2                                  1                           1   \n",
       "3                                  6                           6   \n",
       "4                                  1                           1   \n",
       "...                              ...                         ...   \n",
       "1615228                            0                           0   \n",
       "1615229                            0                           0   \n",
       "1615230                            0                           0   \n",
       "1615231                            1                           1   \n",
       "1615232                            1                           1   \n",
       "\n",
       "        spatial_lda_knn40_kmeans_k7 spatial_lda_knn50_kmeans_k7  \n",
       "0                                 2                           0  \n",
       "1                                 2                           0  \n",
       "2                                 2                           0  \n",
       "3                                 1                           6  \n",
       "4                                 4                           1  \n",
       "...                             ...                         ...  \n",
       "1615228                           6                           3  \n",
       "1615229                           6                           3  \n",
       "1615230                           4                           3  \n",
       "1615231                           4                           1  \n",
       "1615232                           4                           1  \n",
       "\n",
       "[1615233 rows x 28 columns]"
      ]
     },
     "execution_count": 5,
     "metadata": {},
     "output_type": "execute_result"
    }
   ],
   "source": [
    "adata.obs"
   ]
  },
  {
   "cell_type": "code",
   "execution_count": 7,
   "metadata": {},
   "outputs": [
    {
     "data": {
      "text/plain": [
       "array([[35874.85780118, 29410.80645161],\n",
       "       [36162.24313976, 29445.08040842],\n",
       "       [38455.23512195, 29505.17170732],\n",
       "       ...,\n",
       "       [37413.38325123, 27271.60492611],\n",
       "       [38221.30142405, 27272.32041139],\n",
       "       [35244.59656085, 27268.72354497]])"
      ]
     },
     "execution_count": 7,
     "metadata": {},
     "output_type": "execute_result"
    }
   ],
   "source": [
    "adata.obs[['X_centroid', 'Y_centroid']].values"
   ]
  },
  {
   "cell_type": "code",
   "execution_count": 13,
   "metadata": {},
   "outputs": [],
   "source": [
    "imageid = 991"
   ]
  },
  {
   "cell_type": "code",
   "execution_count": 12,
   "metadata": {},
   "outputs": [
    {
     "data": {
      "text/plain": [
       "CategoricalDtype(categories=['991', '992'], ordered=False, categories_dtype=object)"
      ]
     },
     "execution_count": 12,
     "metadata": {},
     "output_type": "execute_result"
    }
   ],
   "source": [
    "adata.obs.imageid.dtype"
   ]
  },
  {
   "cell_type": "code",
   "execution_count": 17,
   "metadata": {},
   "outputs": [
    {
     "ename": "SyntaxError",
     "evalue": "invalid syntax (3863254007.py, line 1)",
     "output_type": "error",
     "traceback": [
      "\u001b[0;36m  Cell \u001b[0;32mIn[17], line 1\u001b[0;36m\u001b[0m\n\u001b[0;31m    assert type(imageid) == adata.obs.imageid.dtype,\u001b[0m\n\u001b[0m                                                     ^\u001b[0m\n\u001b[0;31mSyntaxError\u001b[0m\u001b[0;31m:\u001b[0m invalid syntax\n"
     ]
    }
   ],
   "source": [
    "assert type(imageid) == adata.obs.imageid.dtype, f\"imageid dtype mismatch, {type(imageid)} =/= {adata.obs.imageid.dtype}\""
   ]
  },
  {
   "cell_type": "code",
   "execution_count": 18,
   "metadata": {},
   "outputs": [
    {
     "data": {
      "text/plain": [
       "'991'"
      ]
     },
     "execution_count": 18,
     "metadata": {},
     "output_type": "execute_result"
    }
   ],
   "source": [
    "str(imageid)"
   ]
  },
  {
   "cell_type": "code",
   "execution_count": 21,
   "metadata": {},
   "outputs": [
    {
     "data": {
      "text/plain": [
       "str"
      ]
     },
     "execution_count": 21,
     "metadata": {},
     "output_type": "execute_result"
    }
   ],
   "source": [
    "type(str(imageid))"
   ]
  },
  {
   "cell_type": "code",
   "execution_count": 22,
   "metadata": {},
   "outputs": [],
   "source": [
    "series = adata.obs.imageid.astype(np.dtype(str))"
   ]
  },
  {
   "cell_type": "code",
   "execution_count": 23,
   "metadata": {},
   "outputs": [
    {
     "data": {
      "text/plain": [
       "dtype('O')"
      ]
     },
     "execution_count": 23,
     "metadata": {},
     "output_type": "execute_result"
    }
   ],
   "source": [
    "series.dtype"
   ]
  },
  {
   "cell_type": "code",
   "execution_count": 24,
   "metadata": {},
   "outputs": [],
   "source": [
    "a = adata.copy()"
   ]
  },
  {
   "cell_type": "code",
   "execution_count": 25,
   "metadata": {},
   "outputs": [],
   "source": [
    "a = a[a.obs.imageid == str(imageid)]"
   ]
  },
  {
   "cell_type": "code",
   "execution_count": 26,
   "metadata": {},
   "outputs": [
    {
     "data": {
      "text/plain": [
       "imageid\n",
       "991    610182\n",
       "Name: count, dtype: int64"
      ]
     },
     "execution_count": 26,
     "metadata": {},
     "output_type": "execute_result"
    }
   ],
   "source": [
    "a.obs.imageid.value_counts()"
   ]
  },
  {
   "cell_type": "code",
   "execution_count": 27,
   "metadata": {},
   "outputs": [
    {
     "name": "stderr",
     "output_type": "stream",
     "text": [
      "\u001b[32m2024-10-04 11:56:47.267\u001b[0m | \u001b[34m\u001b[1mDEBUG   \u001b[0m | \u001b[36mutils\u001b[0m:\u001b[36madataobs_to_voronoi_geojson\u001b[0m:\u001b[36m385\u001b[0m - \u001b[34m\u001b[1m df shape: (1615233, 28)\u001b[0m\n",
      "\u001b[32m2024-10-04 11:56:47.394\u001b[0m | \u001b[34m\u001b[1mDEBUG   \u001b[0m | \u001b[36mutils\u001b[0m:\u001b[36madataobs_to_voronoi_geojson\u001b[0m:\u001b[36m390\u001b[0m - \u001b[34m\u001b[1m df shape after imageid subset: (610182, 28)\u001b[0m\n",
      "\u001b[32m2024-10-04 11:56:47.395\u001b[0m | \u001b[1mINFO    \u001b[0m | \u001b[36mutils\u001b[0m:\u001b[36madataobs_to_voronoi_geojson\u001b[0m:\u001b[36m391\u001b[0m - \u001b[1mProcessing 991, loaded dataframe\u001b[0m\n",
      "\u001b[32m2024-10-04 11:56:47.396\u001b[0m | \u001b[1mINFO    \u001b[0m | \u001b[36mutils\u001b[0m:\u001b[36madataobs_to_voronoi_geojson\u001b[0m:\u001b[36m407\u001b[0m - \u001b[1mRunning Voronoi\u001b[0m\n",
      "\u001b[32m2024-10-04 11:56:59.888\u001b[0m | \u001b[1mINFO    \u001b[0m | \u001b[36mutils\u001b[0m:\u001b[36madataobs_to_voronoi_geojson\u001b[0m:\u001b[36m417\u001b[0m - \u001b[1mVoronoi done\u001b[0m\n",
      "\u001b[32m2024-10-04 11:56:59.978\u001b[0m | \u001b[1mINFO    \u001b[0m | \u001b[36mutils\u001b[0m:\u001b[36madataobs_to_voronoi_geojson\u001b[0m:\u001b[36m421\u001b[0m - \u001b[1mTransformed to geodataframe\u001b[0m\n",
      "\u001b[32m2024-10-04 11:56:59.981\u001b[0m | \u001b[1mINFO    \u001b[0m | \u001b[36mutils\u001b[0m:\u001b[36madataobs_to_voronoi_geojson\u001b[0m:\u001b[36m429\u001b[0m - \u001b[1mBounding box: x_min: 878.0318021201414, x_max: 71605.30902111324, y_min: 6.78003120124805, y_max 42764.688888888886\u001b[0m\n",
      "\u001b[32m2024-10-04 11:57:02.785\u001b[0m | \u001b[1mINFO    \u001b[0m | \u001b[36mutils\u001b[0m:\u001b[36madataobs_to_voronoi_geojson\u001b[0m:\u001b[36m433\u001b[0m - \u001b[1mFiltered out infinite polygons\u001b[0m\n",
      "\u001b[32m2024-10-04 11:57:02.873\u001b[0m | \u001b[1mINFO    \u001b[0m | \u001b[36mutils\u001b[0m:\u001b[36madataobs_to_voronoi_geojson\u001b[0m:\u001b[36m438\u001b[0m - \u001b[1mFiltered out large polygons based on the 98% quantile\u001b[0m\n",
      "\u001b[32m2024-10-04 11:57:02.913\u001b[0m | \u001b[1mINFO    \u001b[0m | \u001b[36mutils\u001b[0m:\u001b[36madataobs_to_voronoi_geojson\u001b[0m:\u001b[36m451\u001b[0m - \u001b[1mMerging polygons for cellular neighborhoods\u001b[0m\n",
      "/opt/homebrew/Caskroom/mambaforge/base/envs/scimap/lib/python3.10/site-packages/pyogrio/raw.py:698: UserWarning:\n",
      "\n",
      "'crs' was not provided.  The output dataset will not have projection information defined and may not be usable in other systems.\n",
      "\n",
      "/opt/homebrew/Caskroom/mambaforge/base/envs/scimap/lib/python3.10/site-packages/pyogrio/raw.py:698: UserWarning:\n",
      "\n",
      "'crs' was not provided.  The output dataset will not have projection information defined and may not be usable in other systems.\n",
      "\n",
      "\u001b[32m2024-10-04 11:57:48.321\u001b[0m | \u001b[32m\u001b[1mSUCCESS \u001b[0m | \u001b[36mutils\u001b[0m:\u001b[36madataobs_to_voronoi_geojson\u001b[0m:\u001b[36m464\u001b[0m - \u001b[32m\u001b[1mExported 991 to geojson\u001b[0m\n"
     ]
    }
   ],
   "source": [
    "#step1: QC knn30 in both tissues in QuPath\n",
    "importlib.reload(utils)\n",
    "\n",
    "utils.adataobs_to_voronoi_geojson(\n",
    "    df=adata.obs,\n",
    "    imageid=991,\n",
    "    category_1=\"phenotype\",\n",
    "    category_2=\"spatial_lda_knn30_kmeans_k7\",\n",
    "    output_path=\"../data/geojson_vor/\"\n",
    ")"
   ]
  },
  {
   "cell_type": "code",
   "execution_count": 28,
   "metadata": {},
   "outputs": [
    {
     "name": "stderr",
     "output_type": "stream",
     "text": [
      "\u001b[32m2024-10-04 11:58:29.813\u001b[0m | \u001b[34m\u001b[1mDEBUG   \u001b[0m | \u001b[36mutils\u001b[0m:\u001b[36madataobs_to_voronoi_geojson\u001b[0m:\u001b[36m385\u001b[0m - \u001b[34m\u001b[1m df shape: (1615233, 28)\u001b[0m\n",
      "\u001b[32m2024-10-04 11:58:29.973\u001b[0m | \u001b[34m\u001b[1mDEBUG   \u001b[0m | \u001b[36mutils\u001b[0m:\u001b[36madataobs_to_voronoi_geojson\u001b[0m:\u001b[36m390\u001b[0m - \u001b[34m\u001b[1m df shape after imageid subset: (1005051, 28)\u001b[0m\n",
      "\u001b[32m2024-10-04 11:58:29.974\u001b[0m | \u001b[1mINFO    \u001b[0m | \u001b[36mutils\u001b[0m:\u001b[36madataobs_to_voronoi_geojson\u001b[0m:\u001b[36m391\u001b[0m - \u001b[1mProcessing 992, loaded dataframe\u001b[0m\n",
      "\u001b[32m2024-10-04 11:58:29.974\u001b[0m | \u001b[1mINFO    \u001b[0m | \u001b[36mutils\u001b[0m:\u001b[36madataobs_to_voronoi_geojson\u001b[0m:\u001b[36m407\u001b[0m - \u001b[1mRunning Voronoi\u001b[0m\n",
      "\u001b[32m2024-10-04 11:58:49.153\u001b[0m | \u001b[1mINFO    \u001b[0m | \u001b[36mutils\u001b[0m:\u001b[36madataobs_to_voronoi_geojson\u001b[0m:\u001b[36m417\u001b[0m - \u001b[1mVoronoi done\u001b[0m\n",
      "\u001b[32m2024-10-04 11:58:49.312\u001b[0m | \u001b[1mINFO    \u001b[0m | \u001b[36mutils\u001b[0m:\u001b[36madataobs_to_voronoi_geojson\u001b[0m:\u001b[36m421\u001b[0m - \u001b[1mTransformed to geodataframe\u001b[0m\n",
      "\u001b[32m2024-10-04 11:58:49.316\u001b[0m | \u001b[1mINFO    \u001b[0m | \u001b[36mutils\u001b[0m:\u001b[36madataobs_to_voronoi_geojson\u001b[0m:\u001b[36m429\u001b[0m - \u001b[1mBounding box: x_min: 2216.9608763693273, x_max: 70848.77680906713, y_min: 20.43081312410842, y_max 47084.98548812665\u001b[0m\n",
      "\u001b[32m2024-10-04 11:58:53.969\u001b[0m | \u001b[1mINFO    \u001b[0m | \u001b[36mutils\u001b[0m:\u001b[36madataobs_to_voronoi_geojson\u001b[0m:\u001b[36m433\u001b[0m - \u001b[1mFiltered out infinite polygons\u001b[0m\n",
      "\u001b[32m2024-10-04 11:58:54.133\u001b[0m | \u001b[1mINFO    \u001b[0m | \u001b[36mutils\u001b[0m:\u001b[36madataobs_to_voronoi_geojson\u001b[0m:\u001b[36m438\u001b[0m - \u001b[1mFiltered out large polygons based on the 98% quantile\u001b[0m\n",
      "\u001b[32m2024-10-04 11:58:54.200\u001b[0m | \u001b[1mINFO    \u001b[0m | \u001b[36mutils\u001b[0m:\u001b[36madataobs_to_voronoi_geojson\u001b[0m:\u001b[36m451\u001b[0m - \u001b[1mMerging polygons for cellular neighborhoods\u001b[0m\n",
      "/opt/homebrew/Caskroom/mambaforge/base/envs/scimap/lib/python3.10/site-packages/pyogrio/raw.py:698: UserWarning:\n",
      "\n",
      "'crs' was not provided.  The output dataset will not have projection information defined and may not be usable in other systems.\n",
      "\n",
      "/opt/homebrew/Caskroom/mambaforge/base/envs/scimap/lib/python3.10/site-packages/pyogrio/raw.py:698: UserWarning:\n",
      "\n",
      "'crs' was not provided.  The output dataset will not have projection information defined and may not be usable in other systems.\n",
      "\n",
      "\u001b[32m2024-10-04 12:00:13.795\u001b[0m | \u001b[32m\u001b[1mSUCCESS \u001b[0m | \u001b[36mutils\u001b[0m:\u001b[36madataobs_to_voronoi_geojson\u001b[0m:\u001b[36m464\u001b[0m - \u001b[32m\u001b[1mExported 992 to geojson\u001b[0m\n"
     ]
    }
   ],
   "source": [
    "#step1: QC knn30 in both tissues in QuPath\n",
    "importlib.reload(utils)\n",
    "\n",
    "utils.adataobs_to_voronoi_geojson(\n",
    "    df=adata.obs,\n",
    "    imageid=992,\n",
    "    category_1=\"phenotype\",\n",
    "    category_2=\"spatial_lda_knn30_kmeans_k7\",\n",
    "    output_path=\"../data/geojson_vor/\"\n",
    ")"
   ]
  },
  {
   "cell_type": "code",
   "execution_count": 29,
   "metadata": {},
   "outputs": [
    {
     "data": {
      "image/png": "[encoded data removed]",
      "text/plain": [
       "<Figure size 640x480 with 1 Axes>"
      ]
     },
     "metadata": {},
     "output_type": "display_data"
    }
   ],
   "source": [
    "sm.pl.stacked_barplot (adata, x_axis='spatial_lda_knn30_kmeans_k7', y_axis='phenotype')"
   ]
  }
 ],
 "metadata": {
  "kernelspec": {
   "display_name": "scimap",
   "language": "python",
   "name": "python3"
  },
  "language_info": {
   "codemirror_mode": {
    "name": "ipython",
    "version": 3
   },
   "file_extension": ".py",
   "mimetype": "text/x-python",
   "name": "python",
   "nbconvert_exporter": "python",
   "pygments_lexer": "ipython3",
   "version": "3.10.0"
  }
 },
 "nbformat": 4,
 "nbformat_minor": 2
}
