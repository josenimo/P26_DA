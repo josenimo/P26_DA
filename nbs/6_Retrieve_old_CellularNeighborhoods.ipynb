{
 "cells": [
  {
   "cell_type": "markdown",
   "metadata": {},
   "source": [
    "# Cellular neighborhood analysis of cells in both slides 991 and 992\n",
    "**Goal:**  Retrieve and replot old RCNs, new ones are not the same, need to align to collection annotations  \n",
    "**Input:** Merged adata from 991 and 992    \n",
    "**Output:** Cellular neighborhood categories for all cells     \n",
    "**Author:** Jose Nimo    \n",
    "**Date_of_creation:** 17.05.2025     \n",
    "**Date_of_latest_modification:** 17.05.2025    \n",
    "**Status:** In Progress"
   ]
  },
  {
   "cell_type": "markdown",
   "metadata": {},
   "source": [
    "# Setup and imports"
   ]
  },
  {
   "cell_type": "code",
   "execution_count": 1,
   "metadata": {},
   "outputs": [
    {
     "name": "stdout",
     "output_type": "stream",
     "text": [
      "numpy 1.26.4\n",
      "pandas 2.2.3\n",
      "geopandas 1.0.1\n",
      "anndata 0.10.9\n"
     ]
    }
   ],
   "source": [
    "import os,sys,time\n",
    "from loguru import logger \n",
    "\n",
    "# import scimap as sm\n",
    "\n",
    "import numpy as np\n",
    "import pandas as pd\n",
    "import shapely\n",
    "import geopandas as gpd\n",
    "import anndata as ad\n",
    "\n",
    "import pyarrow\n",
    "import ast\n",
    "\n",
    "#plotting\n",
    "import matplotlib.pyplot as plt\n",
    "import seaborn as sns\n",
    "\n",
    "#custom functions\n",
    "sys.path.append(os.path.abspath('/Users/jnimoca/Jose_BI/1_Pipelines/openDVP/src/'))\n",
    "from opendvp import anndata_utils, filtering, imaging, utils\n",
    "import importlib\n",
    "\n",
    "for package in [np,pd,gpd,ad]:\n",
    "    print(f\"{package.__name__} {package.__version__}\")"
   ]
  },
  {
   "cell_type": "markdown",
   "metadata": {},
   "source": [
    "# Try to retrieve"
   ]
  },
  {
   "cell_type": "markdown",
   "metadata": {},
   "source": [
    "## adata 1"
   ]
  },
  {
   "cell_type": "code",
   "execution_count": 4,
   "metadata": {},
   "outputs": [],
   "source": [
    "adata = ad.read_h5ad(\"../data/adatas/20241003_1656_991_992_phenotyped.h5ad\")"
   ]
  },
  {
   "cell_type": "code",
   "execution_count": 5,
   "metadata": {},
   "outputs": [
    {
     "data": {
      "text/plain": [
       "AnnData object with n_obs × n_vars = 1615233 × 8\n",
       "    obs: 'CellID', 'Y_centroid', 'X_centroid', 'Area', 'MajorAxisLength', 'MinorAxisLength', 'Eccentricity', 'Orientation', 'Extent', 'Solidity', 'filter_by_ann', 'mean_DAPI_bg_abs_above_value', 'mean_DAPI_bg_abs_below_value', 'Area_filter_nottoobig', 'Area_filter_nottoolow', 'Area_filter', 'DAPI_ratio', 'DAPI_ratio_pass_nottoolow', 'DAPI_ratio_pass_nottoohigh', 'DAPI_ratio_pass', 'imageid', 'phenotype'\n",
       "    var: 'math', 'marker'"
      ]
     },
     "execution_count": 5,
     "metadata": {},
     "output_type": "execute_result"
    }
   ],
   "source": [
    "adata"
   ]
  },
  {
   "cell_type": "code",
   "execution_count": 2,
   "metadata": {},
   "outputs": [],
   "source": [
    "adata = ad.read_h5ad(\"../data/adatas/20241004_1107_991_992_knn_RCN.h5ad\")"
   ]
  },
  {
   "cell_type": "code",
   "execution_count": 3,
   "metadata": {},
   "outputs": [
    {
     "data": {
      "text/plain": [
       "AnnData object with n_obs × n_vars = 1615233 × 8\n",
       "    obs: 'CellID', 'Y_centroid', 'X_centroid', 'Area', 'MajorAxisLength', 'MinorAxisLength', 'Eccentricity', 'Orientation', 'Extent', 'Solidity', 'filter_by_ann', 'mean_DAPI_bg_abs_above_value', 'mean_DAPI_bg_abs_below_value', 'Area_filter_nottoobig', 'Area_filter_nottoolow', 'Area_filter', 'DAPI_ratio', 'DAPI_ratio_pass_nottoolow', 'DAPI_ratio_pass_nottoohigh', 'DAPI_ratio_pass', 'imageid', 'phenotype', 'spatial_lda_knn7_kmeans_k7', 'spatial_lda_knn14_kmeans_k7', 'spatial_lda_knn21_kmeans_k7', 'spatial_lda_knn30_kmeans_k7', 'spatial_lda_knn40_kmeans_k7', 'spatial_lda_knn50_kmeans_k7'\n",
       "    var: 'math', 'marker'\n",
       "    uns: 'spatial_lda_knn14', 'spatial_lda_knn14_probability', 'spatial_lda_knn21', 'spatial_lda_knn21_probability', 'spatial_lda_knn30', 'spatial_lda_knn30_probability', 'spatial_lda_knn40', 'spatial_lda_knn40_probability', 'spatial_lda_knn50', 'spatial_lda_knn50_probability', 'spatial_lda_knn7', 'spatial_lda_knn7_probability'"
      ]
     },
     "execution_count": 3,
     "metadata": {},
     "output_type": "execute_result"
    }
   ],
   "source": [
    "adata"
   ]
  },
  {
   "cell_type": "markdown",
   "metadata": {},
   "source": [
    "# Use KNN30 from replicate"
   ]
  },
  {
   "cell_type": "code",
   "execution_count": 6,
   "metadata": {},
   "outputs": [
    {
     "data": {
      "text/plain": [
       "AnnData object with n_obs × n_vars = 1615233 × 8\n",
       "    obs: 'CellID', 'Y_centroid', 'X_centroid', 'Area', 'MajorAxisLength', 'MinorAxisLength', 'Eccentricity', 'Orientation', 'Extent', 'Solidity', 'artefact', 'Area_filter_nottoobig', 'Area_filter_nottoolow', 'Area_filter', 'DAPI_ratio', 'DAPI_ratio_pass_nottoolow', 'DAPI_ratio_pass_nottoohigh', 'DAPI_ratio_pass', 'filtering', 'imageid', 'phenotype', 'cell_id', 'spatial_lda_knn7_kmeans_k7', 'spatial_lda_knn14_kmeans_k7', 'spatial_lda_knn21_kmeans_k7', 'spatial_lda_knn30_kmeans_k7', 'spatial_lda_knn40_kmeans_k7', 'spatial_lda_knn50_kmeans_k7'\n",
       "    uns: 'spatial_lda_knn14', 'spatial_lda_knn14_probability', 'spatial_lda_knn21', 'spatial_lda_knn21_probability', 'spatial_lda_knn30', 'spatial_lda_knn30_probability', 'spatial_lda_knn40', 'spatial_lda_knn40_probability', 'spatial_lda_knn50', 'spatial_lda_knn50_probability', 'spatial_lda_knn7', 'spatial_lda_knn7_probability'\n",
       "    layers: 'log'"
      ]
     },
     "execution_count": 6,
     "metadata": {},
     "output_type": "execute_result"
    }
   ],
   "source": [
    "adata = ad.read_h5ad(\"../data/perSample/991_992/1_spatial_LDA/20250303_1654_1_spatial_LDA_adata.h5ad\")\n",
    "adata"
   ]
  },
  {
   "cell_type": "code",
   "execution_count": 9,
   "metadata": {},
   "outputs": [
    {
     "name": "stdout",
     "output_type": "stream",
     "text": [
      "Help on function adataobs_to_voronoi_geojson in module opendvp.anndata_utils:\n",
      "\n",
      "adataobs_to_voronoi_geojson(adata, subset_adata_key=None, subset_adata_value=None, color_by_adata_key: str = 'phenotype', color_dict: dict = None, threshold_quantile=0.98, merge_adjacent_shapes=True, save_as_detection=True, output_filepath: str = None)\n",
      "    Generate a Voronoi diagram from cell centroids stored in an AnnData object \n",
      "    and export it as a GeoJSON file or return it as a GeoDataFrame.\n",
      "    \n",
      "    This function computes a 2D Voronoi tessellation from the 'X_centroid' and 'Y_centroid' \n",
      "    columns in `adata.obs`, optionally filters and merges polygons based on user-defined criteria, \n",
      "    and outputs the result in a GeoJSON-compatible format for visualization or downstream analysis \n",
      "    (e.g., in QuPath).\n",
      "    \n",
      "    Parameters\n",
      "    ----------\n",
      "    adata : AnnData\n",
      "        AnnData object with centroid coordinates in `adata.obs[['X_centroid', 'Y_centroid']]`.\n",
      "    \n",
      "    subset_adata_key : str, optional\n",
      "        Column in `adata.obs` used to filter a subset of cells (e.g., a specific image ID or tissue section).\n",
      "    \n",
      "    subset_adata_value : Any, optional\n",
      "        Value used to subset the `subset_adata_key` column. Only rows matching this value will be used.\n",
      "    \n",
      "    color_by_adata_key : str, default \"phenotype\"\n",
      "        Column in `adata.obs` that determines the class or type of each cell. Used for coloring and grouping.\n",
      "    \n",
      "    color_dict : dict, optional\n",
      "        Dictionary mapping class names to RGB color codes. Used to color each class in QuPath style.\n",
      "        If not provided, a default palette will be generated.\n",
      "    \n",
      "    threshold_quantile : float, default 0.98\n",
      "        Polygons with an area greater than this quantile will be excluded (used to remove oversized/outlier regions).\n",
      "    \n",
      "    merge_adjacent_shapes : bool, default True\n",
      "        If True, merges adjacent polygons with the same class label.\n",
      "    \n",
      "    save_as_detection : bool, default True\n",
      "        If True, sets the `objectType` property to \"detection\" in the output for QuPath compatibility.\n",
      "    \n",
      "    output_filepath : str, optional\n",
      "        If provided, saves the output as a GeoJSON file at this path. \n",
      "        If None, returns the GeoDataFrame instead.\n",
      "    \n",
      "    Returns\n",
      "    -------\n",
      "    geopandas.GeoDataFrame or None\n",
      "        If `output_filepath` is None, returns the resulting GeoDataFrame with Voronoi polygons.\n",
      "        Otherwise, writes to file and returns None.\n",
      "    \n",
      "    Notes\n",
      "    -----\n",
      "    - Requires the `scipy`, `shapely`, `geopandas`, and `anndata` packages.\n",
      "    - Assumes `adata.obs` contains valid `X_centroid` and `Y_centroid` columns.\n",
      "\n"
     ]
    }
   ],
   "source": [
    "help(anndata_utils.adataobs_to_voronoi_geojson)"
   ]
  },
  {
   "cell_type": "code",
   "execution_count": 11,
   "metadata": {},
   "outputs": [
    {
     "data": {
      "text/plain": [
       "dtype('int64')"
      ]
     },
     "execution_count": 11,
     "metadata": {},
     "output_type": "execute_result"
    }
   ],
   "source": [
    "adata.obs.imageid.dtype"
   ]
  },
  {
   "cell_type": "code",
   "execution_count": 12,
   "metadata": {},
   "outputs": [
    {
     "data": {
      "text/plain": [
       "{'0': '#FFA3FE',\n",
       " '1': '#F5887F',\n",
       " '2': '#5B5BDB',\n",
       " '3': '#8A7542',\n",
       " '4': '#959191',\n",
       " '5': '#FF973E',\n",
       " '6': '#AAFAB1'}"
      ]
     },
     "execution_count": 12,
     "metadata": {},
     "output_type": "execute_result"
    }
   ],
   "source": [
    "import json\n",
    "with open(\"../assets/RCN_colors.json\") as f:\n",
    "    color_dict = json.load(f)\n",
    "color_dict"
   ]
  },
  {
   "cell_type": "code",
   "execution_count": 13,
   "metadata": {},
   "outputs": [
    {
     "name": "stderr",
     "output_type": "stream",
     "text": [
      "\u001b[32m2025-05-17 14:00:33.550\u001b[0m | \u001b[1mINFO    \u001b[0m | \u001b[36mopendvp.anndata_utils\u001b[0m:\u001b[36madataobs_to_voronoi_geojson\u001b[0m:\u001b[36m277\u001b[0m - \u001b[1m[991 992]\u001b[0m\n",
      "\u001b[32m2025-05-17 14:00:33.551\u001b[0m | \u001b[1mINFO    \u001b[0m | \u001b[36mopendvp.anndata_utils\u001b[0m:\u001b[36madataobs_to_voronoi_geojson\u001b[0m:\u001b[36m278\u001b[0m - \u001b[1mSubset adata col dtype: int64\u001b[0m\n",
      "\u001b[32m2025-05-17 14:00:33.620\u001b[0m | \u001b[1mINFO    \u001b[0m | \u001b[36mopendvp.anndata_utils\u001b[0m:\u001b[36madataobs_to_voronoi_geojson\u001b[0m:\u001b[36m280\u001b[0m - \u001b[1m Shape after subset: (610182, 28)\u001b[0m\n",
      "\u001b[32m2025-05-17 14:00:33.621\u001b[0m | \u001b[1mINFO    \u001b[0m | \u001b[36mopendvp.anndata_utils\u001b[0m:\u001b[36madataobs_to_voronoi_geojson\u001b[0m:\u001b[36m283\u001b[0m - \u001b[1mRunning Voronoi\u001b[0m\n",
      "\u001b[32m2025-05-17 14:01:11.388\u001b[0m | \u001b[1mINFO    \u001b[0m | \u001b[36mopendvp.anndata_utils\u001b[0m:\u001b[36madataobs_to_voronoi_geojson\u001b[0m:\u001b[36m286\u001b[0m - \u001b[1mVoronoi done\u001b[0m\n",
      "\u001b[32m2025-05-17 14:01:11.495\u001b[0m | \u001b[1mINFO    \u001b[0m | \u001b[36mopendvp.anndata_utils\u001b[0m:\u001b[36madataobs_to_voronoi_geojson\u001b[0m:\u001b[36m290\u001b[0m - \u001b[1mTransformed to geodataframe\u001b[0m\n",
      "\u001b[32m2025-05-17 14:01:11.499\u001b[0m | \u001b[1mINFO    \u001b[0m | \u001b[36mopendvp.anndata_utils\u001b[0m:\u001b[36madataobs_to_voronoi_geojson\u001b[0m:\u001b[36m295\u001b[0m - \u001b[1mBounding box: x_min: 878.0, x_max: 71605.3, y_min: 6.8, y_max 42764.7\u001b[0m\n",
      "\u001b[32m2025-05-17 14:01:12.753\u001b[0m | \u001b[1mINFO    \u001b[0m | \u001b[36mopendvp.anndata_utils\u001b[0m:\u001b[36madataobs_to_voronoi_geojson\u001b[0m:\u001b[36m300\u001b[0m - \u001b[1mRetaining 609923 valid polygons after filtering large and infinite ones.\u001b[0m\n",
      "\u001b[32m2025-05-17 14:01:12.843\u001b[0m | \u001b[1mINFO    \u001b[0m | \u001b[36mopendvp.anndata_utils\u001b[0m:\u001b[36madataobs_to_voronoi_geojson\u001b[0m:\u001b[36m305\u001b[0m - \u001b[1mFiltered out large polygons based on the 0.98 quantile\u001b[0m\n",
      "\u001b[32m2025-05-17 14:01:12.846\u001b[0m | \u001b[1mINFO    \u001b[0m | \u001b[36mopendvp.anndata_utils\u001b[0m:\u001b[36madataobs_to_voronoi_geojson\u001b[0m:\u001b[36m313\u001b[0m - \u001b[1mMerging polygons adjacent and of same category\u001b[0m\n",
      "\u001b[32m2025-05-17 14:01:31.711\u001b[0m | \u001b[1mINFO    \u001b[0m | \u001b[36mopendvp.utils\u001b[0m:\u001b[36mparse_color_for_qupath\u001b[0m:\u001b[36m129\u001b[0m - \u001b[1mParsing colors compatible with QuPath\u001b[0m\n",
      "\u001b[32m2025-05-17 14:01:31.712\u001b[0m | \u001b[1mINFO    \u001b[0m | \u001b[36mopendvp.utils\u001b[0m:\u001b[36mparse_color_for_qupath\u001b[0m:\u001b[36m138\u001b[0m - \u001b[1mCustom color dictionary passed, adapting to QuPath color format\u001b[0m\n",
      "/Users/jnimoca/Jose_BI/4_Projects/P26_BCCN/P26E10_E11_ImageAnalysis/.pixi/envs/default/lib/python3.11/site-packages/pyogrio/geopandas.py:662: UserWarning: 'crs' was not provided.  The output dataset will not have projection information defined and may not be usable in other systems.\n",
      "  write(\n",
      "\u001b[32m2025-05-17 14:01:34.557\u001b[0m | \u001b[32m\u001b[1mSUCCESS \u001b[0m | \u001b[36mopendvp.anndata_utils\u001b[0m:\u001b[36madataobs_to_voronoi_geojson\u001b[0m:\u001b[36m327\u001b[0m - \u001b[32m\u001b[1mExported Voronoi projection to ../data/perSample/991/qc/20250517_991_voronoi_RCN_knn30_replicate.geojson\u001b[0m\n"
     ]
    }
   ],
   "source": [
    "anndata_utils.adataobs_to_voronoi_geojson(\n",
    "    adata = adata,\n",
    "    subset_adata_key = \"imageid\", \n",
    "    subset_adata_value = 991,\n",
    "    color_by_adata_key = \"spatial_lda_knn30_kmeans_k7\",\n",
    "    color_dict = color_dict,\n",
    "    threshold_quantile = 0.98,\n",
    "    merge_adjacent_shapes = True,\n",
    "    save_as_detection = True,  \n",
    "    output_filepath = \"../data/perSample/991/qc/20250517_991_voronoi_RCN_knn30_replicate.geojson\"\n",
    ")"
   ]
  },
  {
   "cell_type": "markdown",
   "metadata": {},
   "source": [
    "## Barplots"
   ]
  },
  {
   "cell_type": "markdown",
   "metadata": {},
   "source": [
    "### Composition barplots"
   ]
  },
  {
   "cell_type": "code",
   "execution_count": 26,
   "metadata": {},
   "outputs": [
    {
     "name": "stderr",
     "output_type": "stream",
     "text": [
      "/var/folders/x7/grkjlk8s223dy6234rnz1885mxz2_6/T/ipykernel_11969/1273600839.py:8: FutureWarning: The default of observed=False is deprecated and will be changed to True in a future version of pandas. Pass observed=False to retain current behavior or observed=True to adopt the future default and silence this warning.\n",
      "  total = df.groupby([x_axis, y_axis]).size().unstack().fillna(0).sum(axis=1)\n",
      "/var/folders/x7/grkjlk8s223dy6234rnz1885mxz2_6/T/ipykernel_11969/1273600839.py:11: FutureWarning: The default of observed=False is deprecated and will be changed to True in a future version of pandas. Pass observed=False to retain current behavior or observed=True to adopt the future default and silence this warning.\n",
      "  df.groupby([x_axis, y_axis]).size().unstack().fillna(0).div(total, axis=0).stack())\n"
     ]
    },
    {
     "name": "stdout",
     "output_type": "stream",
     "text": [
      "Figure saved as: ../figures/RCN_bar_plot/20250517_1452_RCN_bar_knn30_withUnknowns.pdf and ../figures/RCN_bar_plot/20250517_1452_RCN_bar_knn30_withUnknowns.svg\n"
     ]
    },
    {
     "data": {
      "image/png": "[encoded data removed]",
      "text/plain": [
       "<Figure size 400x600 with 1 Axes>"
      ]
     },
     "metadata": {},
     "output_type": "display_data"
    }
   ],
   "source": [
    "adata = ad.read_h5ad(\"../data/perSample/991_992/2_spatial_distance/20250411_1544_2_spatial_distance_adata.h5ad\")\n",
    "\n",
    "x_axis = \"spatial_lda_knn30_kmeans_k7\"\n",
    "y_axis = \"phenotype\"\n",
    "\n",
    "df = pd.DataFrame(data = adata.obs[[x_axis, y_axis]])\n",
    "\n",
    "total = df.groupby([x_axis, y_axis]).size().unstack().fillna(0).sum(axis=1)\n",
    "\n",
    "rg = pd.DataFrame(\n",
    "    df.groupby([x_axis, y_axis]).size().unstack().fillna(0).div(total, axis=0).stack())\n",
    "rg.columns = ['count']\n",
    "rg.reset_index(inplace=True)\n",
    "pivot_df = rg.pivot(index=x_axis, columns=y_axis, values=\"count\")\n",
    "\n",
    "# load colors\n",
    "import json\n",
    "with open(\"../assets/pheno_colors.json\") as f:\n",
    "    pheno_colors = json.load(f)\n",
    "pheno_colors\n",
    "\n",
    "fig,ax = plt.subplots()\n",
    "fig.set_size_inches(4, 6)\n",
    "pivot_df.plot.bar(\n",
    "                color=pheno_colors, \n",
    "                stacked=True, \n",
    "                ax=ax, \n",
    "                linewidth=0.3)\n",
    "\n",
    "plt.legend(bbox_to_anchor=(1,1))\n",
    "utils.export_figure(fig, \"../figures/RCN_bar_plot/\", suffix=\"RCN_bar_knn30_withUnknowns\")\n",
    "plt.show()"
   ]
  },
  {
   "cell_type": "code",
   "execution_count": 27,
   "metadata": {},
   "outputs": [
    {
     "name": "stderr",
     "output_type": "stream",
     "text": [
      "/var/folders/x7/grkjlk8s223dy6234rnz1885mxz2_6/T/ipykernel_11969/291760003.py:10: FutureWarning: The default of observed=False is deprecated and will be changed to True in a future version of pandas. Pass observed=False to retain current behavior or observed=True to adopt the future default and silence this warning.\n",
      "  total = df.groupby([x_axis, y_axis]).size().unstack().fillna(0).sum(axis=1)\n",
      "/var/folders/x7/grkjlk8s223dy6234rnz1885mxz2_6/T/ipykernel_11969/291760003.py:13: FutureWarning: The default of observed=False is deprecated and will be changed to True in a future version of pandas. Pass observed=False to retain current behavior or observed=True to adopt the future default and silence this warning.\n",
      "  df.groupby([x_axis, y_axis]).size().unstack().fillna(0).div(total, axis=0).stack())\n"
     ]
    },
    {
     "name": "stdout",
     "output_type": "stream",
     "text": [
      "Figure saved as: ../figures/RCN_bar_plot/20250517_1452_RCN_bar_knn30_withoutUnknowns.pdf and ../figures/RCN_bar_plot/20250517_1452_RCN_bar_knn30_withoutUnknowns.svg\n"
     ]
    },
    {
     "data": {
      "image/png": "[encoded data removed]",
      "text/plain": [
       "<Figure size 400x600 with 1 Axes>"
      ]
     },
     "metadata": {},
     "output_type": "display_data"
    }
   ],
   "source": [
    "adata = ad.read_h5ad(\"../data/perSample/991_992/2_spatial_distance/20250411_1544_2_spatial_distance_adata.h5ad\")\n",
    "\n",
    "x_axis = \"spatial_lda_knn30_kmeans_k7\"\n",
    "y_axis = \"phenotype\"\n",
    "\n",
    "df = pd.DataFrame(data = adata.obs[[x_axis, y_axis]])\n",
    "\n",
    "df = df[df['phenotype'] != \"Unknown\"]\n",
    "\n",
    "total = df.groupby([x_axis, y_axis]).size().unstack().fillna(0).sum(axis=1)\n",
    "\n",
    "rg = pd.DataFrame(\n",
    "    df.groupby([x_axis, y_axis]).size().unstack().fillna(0).div(total, axis=0).stack())\n",
    "rg.columns = ['count']\n",
    "rg.reset_index(inplace=True)\n",
    "pivot_df = rg.pivot(index=x_axis, columns=y_axis, values=\"count\")\n",
    "\n",
    "# load colors\n",
    "import json\n",
    "with open(\"../assets/pheno_colors.json\") as f:\n",
    "    pheno_colors = json.load(f)\n",
    "pheno_colors\n",
    "\n",
    "fig,ax = plt.subplots()\n",
    "fig.set_size_inches(4, 6)\n",
    "pivot_df.plot.bar(\n",
    "                color=pheno_colors, \n",
    "                stacked=True, \n",
    "                ax=ax, \n",
    "                linewidth=0.3)\n",
    "\n",
    "plt.legend(bbox_to_anchor=(1,1))\n",
    "utils.export_figure(fig, \"../figures/RCN_bar_plot/\", suffix=\"RCN_bar_knn30_withoutUnknowns\")\n",
    "plt.show()"
   ]
  },
  {
   "cell_type": "markdown",
   "metadata": {},
   "source": [
    "## barplot per slide"
   ]
  },
  {
   "cell_type": "code",
   "execution_count": 15,
   "metadata": {},
   "outputs": [
    {
     "name": "stderr",
     "output_type": "stream",
     "text": [
      "/var/folders/x7/grkjlk8s223dy6234rnz1885mxz2_6/T/ipykernel_11969/2889502342.py:12: FutureWarning: The default of observed=False is deprecated and will be changed to True in a future version of pandas. Pass observed=False to retain current behavior or observed=True to adopt the future default and silence this warning.\n",
      "  total_991 = df_991.groupby([x_axis]).size()\n",
      "/var/folders/x7/grkjlk8s223dy6234rnz1885mxz2_6/T/ipykernel_11969/2889502342.py:13: FutureWarning: The default of observed=False is deprecated and will be changed to True in a future version of pandas. Pass observed=False to retain current behavior or observed=True to adopt the future default and silence this warning.\n",
      "  total_992 = df_992.groupby([x_axis]).size()\n",
      "/var/folders/x7/grkjlk8s223dy6234rnz1885mxz2_6/T/ipykernel_11969/2889502342.py:15: FutureWarning: The default of observed=False is deprecated and will be changed to True in a future version of pandas. Pass observed=False to retain current behavior or observed=True to adopt the future default and silence this warning.\n",
      "  rg_991 = pd.DataFrame(df_991.groupby([x_axis, y_axis]).size().unstack().fillna(0).div(total_991, axis=0).stack())\n",
      "/var/folders/x7/grkjlk8s223dy6234rnz1885mxz2_6/T/ipykernel_11969/2889502342.py:20: FutureWarning: The default of observed=False is deprecated and will be changed to True in a future version of pandas. Pass observed=False to retain current behavior or observed=True to adopt the future default and silence this warning.\n",
      "  rg_992 = pd.DataFrame(df_992.groupby([x_axis, y_axis]).size().unstack().fillna(0).div(total_992, axis=0).stack())\n"
     ]
    },
    {
     "name": "stdout",
     "output_type": "stream",
     "text": [
      "Figure saved as: ../figures/RCN_bar_plot/20250517_1426_RCN_bar_perSample_relative_withUnknowns.pdf and ../figures/RCN_bar_plot/20250517_1426_RCN_bar_perSample_relative_withUnknowns.svg\n"
     ]
    },
    {
     "data": {
      "image/png": "[encoded data removed]",
      "text/plain": [
       "<Figure size 800x800 with 2 Axes>"
      ]
     },
     "metadata": {},
     "output_type": "display_data"
    }
   ],
   "source": [
    "adata = ad.read_h5ad(\"../data/perSample/991_992/2_spatial_distance/20250411_1544_2_spatial_distance_adata.h5ad\")\n",
    "\n",
    "x_axis = \"spatial_lda_knn30_kmeans_k7\"\n",
    "y_axis = \"phenotype\"\n",
    "plot_axis = \"imageid\"\n",
    "\n",
    "df = pd.DataFrame(data = adata.obs[[x_axis, y_axis, plot_axis]])\n",
    "\n",
    "df_991 = df[df['imageid']==991]\n",
    "df_992 = df[df['imageid']==992]\n",
    "\n",
    "total_991 = df_991.groupby([x_axis]).size()\n",
    "total_992 = df_992.groupby([x_axis]).size()\n",
    "\n",
    "rg_991 = pd.DataFrame(df_991.groupby([x_axis, y_axis]).size().unstack().fillna(0).div(total_991, axis=0).stack())\n",
    "rg_991.columns = ['count']\n",
    "rg_991.reset_index(inplace=True)\n",
    "pivot_df_991 = rg_991.pivot(index=x_axis, columns=y_axis, values=\"count\")\n",
    "\n",
    "rg_992 = pd.DataFrame(df_992.groupby([x_axis, y_axis]).size().unstack().fillna(0).div(total_992, axis=0).stack())\n",
    "rg_992.columns = ['count']\n",
    "rg_992.reset_index(inplace=True)\n",
    "pivot_df_992 = rg_992.pivot(index=x_axis, columns=y_axis, values=\"count\")\n",
    "\n",
    "fig,ax = plt.subplots(ncols=2, nrows=1, sharey=True)\n",
    "fig.set_size_inches(8, 8)\n",
    "\n",
    "pivot_df_991.plot.bar(\n",
    "                color=pheno_colors, \n",
    "                stacked=True, \n",
    "                ax=ax[0], \n",
    "                #  edgecolor='none', \n",
    "                linewidth=0.3)\n",
    "\n",
    "pivot_df_992.plot.bar(\n",
    "                color=pheno_colors, \n",
    "                stacked=True, \n",
    "                ax=ax[1], \n",
    "                #  edgecolor='none', \n",
    "                linewidth=0.3)\n",
    "\n",
    "ax[0].legend().set_visible(False)\n",
    "\n",
    "#titles\n",
    "ax[0].set_title(\"Primary\")\n",
    "ax[1].set_title(\"Relapse\")\n",
    "ax[1].yaxis.set_visible(False)\n",
    "plt.legend(bbox_to_anchor=(1,1))\n",
    "# utils.export_figure(fig, \"../figures/RCN_bar_plot/\", suffix=\"RCN_bar_perSample_relative_withUnknowns\")\n",
    "plt.tight_layout()\n",
    "plt.show()"
   ]
  },
  {
   "cell_type": "code",
   "execution_count": 25,
   "metadata": {},
   "outputs": [
    {
     "name": "stderr",
     "output_type": "stream",
     "text": [
      "/var/folders/x7/grkjlk8s223dy6234rnz1885mxz2_6/T/ipykernel_11969/1891532972.py:16: FutureWarning: The default of observed=False is deprecated and will be changed to True in a future version of pandas. Pass observed=False to retain current behavior or observed=True to adopt the future default and silence this warning.\n",
      "  total_991 = df_991.groupby([x_axis]).size()\n",
      "/var/folders/x7/grkjlk8s223dy6234rnz1885mxz2_6/T/ipykernel_11969/1891532972.py:17: FutureWarning: The default of observed=False is deprecated and will be changed to True in a future version of pandas. Pass observed=False to retain current behavior or observed=True to adopt the future default and silence this warning.\n",
      "  total_992 = df_992.groupby([x_axis]).size()\n",
      "/var/folders/x7/grkjlk8s223dy6234rnz1885mxz2_6/T/ipykernel_11969/1891532972.py:19: FutureWarning: The default of observed=False is deprecated and will be changed to True in a future version of pandas. Pass observed=False to retain current behavior or observed=True to adopt the future default and silence this warning.\n",
      "  rg_991 = pd.DataFrame(df_991.groupby([x_axis, y_axis]).size().unstack().fillna(0).div(total_991, axis=0).stack())\n",
      "/var/folders/x7/grkjlk8s223dy6234rnz1885mxz2_6/T/ipykernel_11969/1891532972.py:24: FutureWarning: The default of observed=False is deprecated and will be changed to True in a future version of pandas. Pass observed=False to retain current behavior or observed=True to adopt the future default and silence this warning.\n",
      "  rg_992 = pd.DataFrame(df_992.groupby([x_axis, y_axis]).size().unstack().fillna(0).div(total_992, axis=0).stack())\n"
     ]
    },
    {
     "name": "stdout",
     "output_type": "stream",
     "text": [
      "Figure saved as: ../figures/RCN_bar_plot/20250517_1451_RCN_bar_perSample_relative_withoutUnknowns.pdf and ../figures/RCN_bar_plot/20250517_1451_RCN_bar_perSample_relative_withoutUnknowns.svg\n"
     ]
    },
    {
     "data": {
      "image/png": "[encoded data removed]",
      "text/plain": [
       "<Figure size 800x800 with 2 Axes>"
      ]
     },
     "metadata": {},
     "output_type": "display_data"
    }
   ],
   "source": [
    "adata = ad.read_h5ad(\"../data/perSample/991_992/2_spatial_distance/20250411_1544_2_spatial_distance_adata.h5ad\")\n",
    "\n",
    "x_axis = \"spatial_lda_knn30_kmeans_k7\"\n",
    "y_axis = \"phenotype\"\n",
    "plot_axis = \"imageid\"\n",
    "\n",
    "df = pd.DataFrame(data = adata.obs[[x_axis, y_axis, plot_axis]])\n",
    "\n",
    "df_991 = df[df['imageid']==991]\n",
    "df_992 = df[df['imageid']==992]\n",
    "\n",
    "#remove unknowns\n",
    "df_991 = df_991[df_991['phenotype'] != \"Unknown\"]\n",
    "df_992 = df_992[df_992['phenotype'] != \"Unknown\"]\n",
    "\n",
    "total_991 = df_991.groupby([x_axis]).size()\n",
    "total_992 = df_992.groupby([x_axis]).size()\n",
    "\n",
    "rg_991 = pd.DataFrame(df_991.groupby([x_axis, y_axis]).size().unstack().fillna(0).div(total_991, axis=0).stack())\n",
    "rg_991.columns = ['count']\n",
    "rg_991.reset_index(inplace=True)\n",
    "pivot_df_991 = rg_991.pivot(index=x_axis, columns=y_axis, values=\"count\")\n",
    "\n",
    "rg_992 = pd.DataFrame(df_992.groupby([x_axis, y_axis]).size().unstack().fillna(0).div(total_992, axis=0).stack())\n",
    "rg_992.columns = ['count']\n",
    "rg_992.reset_index(inplace=True)\n",
    "pivot_df_992 = rg_992.pivot(index=x_axis, columns=y_axis, values=\"count\")\n",
    "\n",
    "fig,ax = plt.subplots(ncols=2, nrows=1, sharey=True)\n",
    "fig.set_size_inches(8, 8)\n",
    "\n",
    "pivot_df_991.plot.bar(\n",
    "                color=pheno_colors, \n",
    "                stacked=True, \n",
    "                ax=ax[0], \n",
    "                #  edgecolor='none', \n",
    "                linewidth=0.3)\n",
    "\n",
    "pivot_df_992.plot.bar(\n",
    "                color=pheno_colors, \n",
    "                stacked=True, \n",
    "                ax=ax[1], \n",
    "                #  edgecolor='none', \n",
    "                linewidth=0.3)\n",
    "\n",
    "ax[0].legend().set_visible(False)\n",
    "\n",
    "#titles\n",
    "ax[0].set_title(\"Primary\")\n",
    "ax[1].set_title(\"Relapse\")\n",
    "ax[1].yaxis.set_visible(False)\n",
    "plt.legend(bbox_to_anchor=(1,1))\n",
    "utils.export_figure(fig, \"../figures/RCN_bar_plot/\", suffix=\"RCN_bar_perSample_relative_withoutUnknowns\")\n",
    "plt.tight_layout()\n",
    "plt.show()"
   ]
  },
  {
   "cell_type": "code",
   "execution_count": 17,
   "metadata": {},
   "outputs": [
    {
     "data": {
      "text/plain": [
       "{'0': '#FFA3FE',\n",
       " '1': '#F5887F',\n",
       " '2': '#5B5BDB',\n",
       " '3': '#8A7542',\n",
       " '4': '#959191',\n",
       " '5': '#FF973E',\n",
       " '6': '#AAFAB1'}"
      ]
     },
     "execution_count": 17,
     "metadata": {},
     "output_type": "execute_result"
    }
   ],
   "source": [
    "# choose new colors\n",
    "with open(\"../assets/RCN_colors.json\") as f:\n",
    "    RCN_colors = json.load(f)\n",
    "RCN_colors"
   ]
  },
  {
   "cell_type": "code",
   "execution_count": 18,
   "metadata": {},
   "outputs": [
    {
     "data": {
      "image/png": "[encoded data removed]",
      "text/plain": [
       "<Figure size 800x350 with 1 Axes>"
      ]
     },
     "metadata": {},
     "output_type": "display_data"
    }
   ],
   "source": [
    "utils.print_color_dict(RCN_colors)"
   ]
  },
  {
   "cell_type": "code",
   "execution_count": null,
   "metadata": {},
   "outputs": [],
   "source": [
    "new_RCN_colors = {\n",
    "    \"0\": \"#F5887F\" , # old 1\n",
    "    \"1\":  \"#959191\", # old 4\n",
    "    \"2\":  \"#8A7542\", #old 3\n",
    "    \"3\": \"#FF973E\", # old 5\n",
    "    \"4\": \"#FFA3FE\", # old 0\n",
    "    \"5\": \"#5B5BDB\", # old 2\n",
    "    \"6\": \"#AAFAB1\", #stays 6\n",
    "}\n",
    "\n",
    "with open(\"../assets/20250517_new_RCN_colors.json\", \"w\") as f:\n",
    "    json.dump(new_RCN_colors, f, indent=4)"
   ]
  },
  {
   "cell_type": "code",
   "execution_count": 21,
   "metadata": {},
   "outputs": [
    {
     "data": {
      "image/png": "[encoded data removed]",
      "text/plain": [
       "<Figure size 800x350 with 1 Axes>"
      ]
     },
     "metadata": {},
     "output_type": "display_data"
    }
   ],
   "source": [
    "utils.print_color_dict(new_RCN_colors)"
   ]
  },
  {
   "cell_type": "code",
   "execution_count": 22,
   "metadata": {},
   "outputs": [
    {
     "data": {
      "text/plain": [
       "AnnData object with n_obs × n_vars = 1615233 × 8\n",
       "    obs: 'CellID', 'Y_centroid', 'X_centroid', 'Area', 'MajorAxisLength', 'MinorAxisLength', 'Eccentricity', 'Orientation', 'Extent', 'Solidity', 'artefact', 'Area_filter_nottoobig', 'Area_filter_nottoolow', 'Area_filter', 'DAPI_ratio', 'DAPI_ratio_pass_nottoolow', 'DAPI_ratio_pass_nottoohigh', 'DAPI_ratio_pass', 'filtering', 'imageid', 'phenotype', 'cell_id', 'spatial_lda_knn7_kmeans_k7', 'spatial_lda_knn14_kmeans_k7', 'spatial_lda_knn21_kmeans_k7', 'spatial_lda_knn30_kmeans_k7', 'spatial_lda_knn40_kmeans_k7', 'spatial_lda_knn50_kmeans_k7'\n",
       "    uns: 'spatial_distance', 'spatial_interaction_radius', 'spatial_interaction_radius_perimage', 'spatial_lda_knn14', 'spatial_lda_knn14_probability', 'spatial_lda_knn21', 'spatial_lda_knn21_probability', 'spatial_lda_knn30', 'spatial_lda_knn30_probability', 'spatial_lda_knn40', 'spatial_lda_knn40_probability', 'spatial_lda_knn50', 'spatial_lda_knn50_probability', 'spatial_lda_knn7', 'spatial_lda_knn7_probability'\n",
       "    layers: 'log'"
      ]
     },
     "execution_count": 22,
     "metadata": {},
     "output_type": "execute_result"
    }
   ],
   "source": [
    "adata"
   ]
  },
  {
   "cell_type": "code",
   "execution_count": 23,
   "metadata": {},
   "outputs": [
    {
     "name": "stderr",
     "output_type": "stream",
     "text": [
      "\u001b[32m2025-05-17 14:40:16.154\u001b[0m | \u001b[1mINFO    \u001b[0m | \u001b[36mopendvp.anndata_utils\u001b[0m:\u001b[36madataobs_to_voronoi_geojson\u001b[0m:\u001b[36m277\u001b[0m - \u001b[1m[991 992]\u001b[0m\n",
      "\u001b[32m2025-05-17 14:40:16.157\u001b[0m | \u001b[1mINFO    \u001b[0m | \u001b[36mopendvp.anndata_utils\u001b[0m:\u001b[36madataobs_to_voronoi_geojson\u001b[0m:\u001b[36m278\u001b[0m - \u001b[1mSubset adata col dtype: int64\u001b[0m\n",
      "\u001b[32m2025-05-17 14:40:16.203\u001b[0m | \u001b[1mINFO    \u001b[0m | \u001b[36mopendvp.anndata_utils\u001b[0m:\u001b[36madataobs_to_voronoi_geojson\u001b[0m:\u001b[36m280\u001b[0m - \u001b[1m Shape after subset: (610182, 28)\u001b[0m\n",
      "\u001b[32m2025-05-17 14:40:16.203\u001b[0m | \u001b[1mINFO    \u001b[0m | \u001b[36mopendvp.anndata_utils\u001b[0m:\u001b[36madataobs_to_voronoi_geojson\u001b[0m:\u001b[36m283\u001b[0m - \u001b[1mRunning Voronoi\u001b[0m\n",
      "\u001b[32m2025-05-17 14:40:54.498\u001b[0m | \u001b[1mINFO    \u001b[0m | \u001b[36mopendvp.anndata_utils\u001b[0m:\u001b[36madataobs_to_voronoi_geojson\u001b[0m:\u001b[36m286\u001b[0m - \u001b[1mVoronoi done\u001b[0m\n",
      "\u001b[32m2025-05-17 14:40:54.575\u001b[0m | \u001b[1mINFO    \u001b[0m | \u001b[36mopendvp.anndata_utils\u001b[0m:\u001b[36madataobs_to_voronoi_geojson\u001b[0m:\u001b[36m290\u001b[0m - \u001b[1mTransformed to geodataframe\u001b[0m\n",
      "\u001b[32m2025-05-17 14:40:54.578\u001b[0m | \u001b[1mINFO    \u001b[0m | \u001b[36mopendvp.anndata_utils\u001b[0m:\u001b[36madataobs_to_voronoi_geojson\u001b[0m:\u001b[36m295\u001b[0m - \u001b[1mBounding box: x_min: 878.0, x_max: 71605.3, y_min: 6.8, y_max 42764.7\u001b[0m\n",
      "\u001b[32m2025-05-17 14:40:55.817\u001b[0m | \u001b[1mINFO    \u001b[0m | \u001b[36mopendvp.anndata_utils\u001b[0m:\u001b[36madataobs_to_voronoi_geojson\u001b[0m:\u001b[36m300\u001b[0m - \u001b[1mRetaining 609923 valid polygons after filtering large and infinite ones.\u001b[0m\n",
      "\u001b[32m2025-05-17 14:40:55.900\u001b[0m | \u001b[1mINFO    \u001b[0m | \u001b[36mopendvp.anndata_utils\u001b[0m:\u001b[36madataobs_to_voronoi_geojson\u001b[0m:\u001b[36m305\u001b[0m - \u001b[1mFiltered out large polygons based on the 0.98 quantile\u001b[0m\n",
      "\u001b[32m2025-05-17 14:40:55.903\u001b[0m | \u001b[1mINFO    \u001b[0m | \u001b[36mopendvp.anndata_utils\u001b[0m:\u001b[36madataobs_to_voronoi_geojson\u001b[0m:\u001b[36m313\u001b[0m - \u001b[1mMerging polygons adjacent and of same category\u001b[0m\n",
      "\u001b[32m2025-05-17 14:41:14.747\u001b[0m | \u001b[1mINFO    \u001b[0m | \u001b[36mopendvp.utils\u001b[0m:\u001b[36mparse_color_for_qupath\u001b[0m:\u001b[36m129\u001b[0m - \u001b[1mParsing colors compatible with QuPath\u001b[0m\n",
      "\u001b[32m2025-05-17 14:41:14.748\u001b[0m | \u001b[1mINFO    \u001b[0m | \u001b[36mopendvp.utils\u001b[0m:\u001b[36mparse_color_for_qupath\u001b[0m:\u001b[36m138\u001b[0m - \u001b[1mCustom color dictionary passed, adapting to QuPath color format\u001b[0m\n",
      "/Users/jnimoca/Jose_BI/4_Projects/P26_BCCN/P26E10_E11_ImageAnalysis/.pixi/envs/default/lib/python3.11/site-packages/pyogrio/geopandas.py:662: UserWarning: 'crs' was not provided.  The output dataset will not have projection information defined and may not be usable in other systems.\n",
      "  write(\n",
      "\u001b[32m2025-05-17 14:41:16.624\u001b[0m | \u001b[32m\u001b[1mSUCCESS \u001b[0m | \u001b[36mopendvp.anndata_utils\u001b[0m:\u001b[36madataobs_to_voronoi_geojson\u001b[0m:\u001b[36m327\u001b[0m - \u001b[32m\u001b[1mExported Voronoi projection to ../data/perSample/991/qc/20250517_991_voronoi_RCN_knn30_newcolors.geojson\u001b[0m\n"
     ]
    }
   ],
   "source": [
    "## save new voronoi with new colors\n",
    "\n",
    "anndata_utils.adataobs_to_voronoi_geojson(\n",
    "    adata = adata,\n",
    "    subset_adata_key = \"imageid\", \n",
    "    subset_adata_value = 991,\n",
    "    color_by_adata_key = \"spatial_lda_knn30_kmeans_k7\",\n",
    "    color_dict = new_RCN_colors,\n",
    "    threshold_quantile = 0.98,\n",
    "    merge_adjacent_shapes = True,\n",
    "    save_as_detection = True,  \n",
    "    output_filepath = \"../data/perSample/991/qc/20250517_991_voronoi_RCN_knn30_newcolors.geojson\"\n",
    ")"
   ]
  },
  {
   "cell_type": "markdown",
   "metadata": {},
   "source": [
    "### Plot CN Change with new colors and KNN30 RCNs"
   ]
  },
  {
   "cell_type": "code",
   "execution_count": 29,
   "metadata": {},
   "outputs": [
    {
     "name": "stdout",
     "output_type": "stream",
     "text": [
      "Figure saved as: ../figures/RCN_bar_plot/20250517_1500_CN_changes_proportion_per_imageid.pdf and ../figures/RCN_bar_plot/20250517_1500_CN_changes_proportion_per_imageid.svg\n"
     ]
    },
    {
     "name": "stderr",
     "output_type": "stream",
     "text": [
      "/var/folders/x7/grkjlk8s223dy6234rnz1885mxz2_6/T/ipykernel_11969/390843168.py:9: FutureWarning: The default of observed=False is deprecated and will be changed to True in a future version of pandas. Pass observed=False to retain current behavior or observed=True to adopt the future default and silence this warning.\n",
      "  counts = pd.DataFrame(df.groupby([\"imageid\", RCN]).size().div(total,axis=0))\n"
     ]
    },
    {
     "data": {
      "image/png": "[encoded data removed]",
      "text/plain": [
       "<Figure size 400x800 with 1 Axes>"
      ]
     },
     "metadata": {},
     "output_type": "display_data"
    }
   ],
   "source": [
    "adata = ad.read_h5ad(\"../data/perSample/991_992/2_spatial_distance/20250411_1544_2_spatial_distance_adata.h5ad\")\n",
    "\n",
    "RCN = \"spatial_lda_knn30_kmeans_k7\"\n",
    "df = adata.obs.copy()\n",
    "df = df[[\"CellID\", \"imageid\", \"cell_id\", \"phenotype\", RCN]]\n",
    "\n",
    "total = df.groupby([\"imageid\"]).size()\n",
    "\n",
    "counts = pd.DataFrame(df.groupby([\"imageid\", RCN]).size().div(total,axis=0))\n",
    "counts.columns = ['proportion']\n",
    "counts.reset_index(inplace=True)\n",
    "\n",
    "x_axis = \"imageid\"\n",
    "y_axis = RCN\n",
    "\n",
    "pivot_df = counts.pivot(\n",
    "    index = x_axis, \n",
    "    columns = y_axis, \n",
    "    values=\"proportion\" )\n",
    "\n",
    "df = pivot_df *100\n",
    "df = df.T\n",
    "df['diff'] = df[992] - df[991]\n",
    "df_sorted = df.sort_values(by=\"diff\", ascending=True)\n",
    "\n",
    "fig,ax = plt.subplots()\n",
    "fig.set_size_inches(4, 8)\n",
    "\n",
    "pivot_df[df_sorted.index].plot.bar(\n",
    "                color=new_RCN_colors, \n",
    "                stacked=True, \n",
    "                ax=ax, \n",
    "                linewidth=0.3)\n",
    "\n",
    "plt.legend(bbox_to_anchor=(1,1))\n",
    "\n",
    "utils.export_figure(fig, path=\"../figures/RCN_bar_plot\", suffix=\"CN_changes_proportion_per_imageid\", dpi=600 )\n",
    "\n",
    "plt.show()"
   ]
  },
  {
   "cell_type": "code",
   "execution_count": 31,
   "metadata": {},
   "outputs": [
    {
     "data": {
      "text/html": [
       "<div>\n",
       "<style scoped>\n",
       "    .dataframe tbody tr th:only-of-type {\n",
       "        vertical-align: middle;\n",
       "    }\n",
       "\n",
       "    .dataframe tbody tr th {\n",
       "        vertical-align: top;\n",
       "    }\n",
       "\n",
       "    .dataframe thead th {\n",
       "        text-align: right;\n",
       "    }\n",
       "</style>\n",
       "<table border=\"1\" class=\"dataframe\">\n",
       "  <thead>\n",
       "    <tr style=\"text-align: right;\">\n",
       "      <th>imageid</th>\n",
       "      <th>991</th>\n",
       "      <th>992</th>\n",
       "      <th>diff</th>\n",
       "    </tr>\n",
       "    <tr>\n",
       "      <th>spatial_lda_knn30_kmeans_k7</th>\n",
       "      <th></th>\n",
       "      <th></th>\n",
       "      <th></th>\n",
       "    </tr>\n",
       "  </thead>\n",
       "  <tbody>\n",
       "    <tr>\n",
       "      <th>1</th>\n",
       "      <td>25.746908</td>\n",
       "      <td>6.855970</td>\n",
       "      <td>-18.890938</td>\n",
       "    </tr>\n",
       "    <tr>\n",
       "      <th>6</th>\n",
       "      <td>15.619438</td>\n",
       "      <td>1.284313</td>\n",
       "      <td>-14.335125</td>\n",
       "    </tr>\n",
       "    <tr>\n",
       "      <th>4</th>\n",
       "      <td>11.809427</td>\n",
       "      <td>5.506785</td>\n",
       "      <td>-6.302642</td>\n",
       "    </tr>\n",
       "    <tr>\n",
       "      <th>3</th>\n",
       "      <td>6.111619</td>\n",
       "      <td>4.835377</td>\n",
       "      <td>-1.276243</td>\n",
       "    </tr>\n",
       "    <tr>\n",
       "      <th>2</th>\n",
       "      <td>8.170021</td>\n",
       "      <td>8.145159</td>\n",
       "      <td>-0.024863</td>\n",
       "    </tr>\n",
       "    <tr>\n",
       "      <th>5</th>\n",
       "      <td>9.281985</td>\n",
       "      <td>9.526382</td>\n",
       "      <td>0.244398</td>\n",
       "    </tr>\n",
       "    <tr>\n",
       "      <th>0</th>\n",
       "      <td>23.260601</td>\n",
       "      <td>63.846014</td>\n",
       "      <td>40.585413</td>\n",
       "    </tr>\n",
       "  </tbody>\n",
       "</table>\n",
       "</div>"
      ],
      "text/plain": [
       "imageid                            991        992       diff\n",
       "spatial_lda_knn30_kmeans_k7                                 \n",
       "1                            25.746908   6.855970 -18.890938\n",
       "6                            15.619438   1.284313 -14.335125\n",
       "4                            11.809427   5.506785  -6.302642\n",
       "3                             6.111619   4.835377  -1.276243\n",
       "2                             8.170021   8.145159  -0.024863\n",
       "5                             9.281985   9.526382   0.244398\n",
       "0                            23.260601  63.846014  40.585413"
      ]
     },
     "execution_count": 31,
     "metadata": {},
     "output_type": "execute_result"
    }
   ],
   "source": [
    "df_sorted"
   ]
  },
  {
   "cell_type": "markdown",
   "metadata": {},
   "source": [
    "## export 992 RCNs"
   ]
  },
  {
   "cell_type": "code",
   "execution_count": 32,
   "metadata": {},
   "outputs": [
    {
     "data": {
      "text/plain": [
       "{'0': '#F5887F',\n",
       " '1': '#959191',\n",
       " '2': '#8A7542',\n",
       " '3': '#FF973E',\n",
       " '4': '#FFA3FE',\n",
       " '5': '#5B5BDB',\n",
       " '6': '#AAFAB1'}"
      ]
     },
     "execution_count": 32,
     "metadata": {},
     "output_type": "execute_result"
    }
   ],
   "source": [
    "new_RCN_colors"
   ]
  },
  {
   "cell_type": "code",
   "execution_count": 33,
   "metadata": {},
   "outputs": [],
   "source": [
    "adata = ad.read_h5ad(\"../data/perSample/991_992/2_spatial_distance/20250411_1544_2_spatial_distance_adata.h5ad\")"
   ]
  },
  {
   "cell_type": "code",
   "execution_count": 34,
   "metadata": {},
   "outputs": [
    {
     "name": "stderr",
     "output_type": "stream",
     "text": [
      "\u001b[32m2025-05-17 18:54:15.527\u001b[0m | \u001b[1mINFO    \u001b[0m | \u001b[36mopendvp.anndata_utils\u001b[0m:\u001b[36madataobs_to_voronoi_geojson\u001b[0m:\u001b[36m277\u001b[0m - \u001b[1m[991 992]\u001b[0m\n",
      "\u001b[32m2025-05-17 18:54:15.533\u001b[0m | \u001b[1mINFO    \u001b[0m | \u001b[36mopendvp.anndata_utils\u001b[0m:\u001b[36madataobs_to_voronoi_geojson\u001b[0m:\u001b[36m278\u001b[0m - \u001b[1mSubset adata col dtype: int64\u001b[0m\n",
      "\u001b[32m2025-05-17 18:54:15.629\u001b[0m | \u001b[1mINFO    \u001b[0m | \u001b[36mopendvp.anndata_utils\u001b[0m:\u001b[36madataobs_to_voronoi_geojson\u001b[0m:\u001b[36m280\u001b[0m - \u001b[1m Shape after subset: (1005051, 28)\u001b[0m\n",
      "\u001b[32m2025-05-17 18:54:15.630\u001b[0m | \u001b[1mINFO    \u001b[0m | \u001b[36mopendvp.anndata_utils\u001b[0m:\u001b[36madataobs_to_voronoi_geojson\u001b[0m:\u001b[36m283\u001b[0m - \u001b[1mRunning Voronoi\u001b[0m\n",
      "\u001b[32m2025-05-17 18:55:30.160\u001b[0m | \u001b[1mINFO    \u001b[0m | \u001b[36mopendvp.anndata_utils\u001b[0m:\u001b[36madataobs_to_voronoi_geojson\u001b[0m:\u001b[36m286\u001b[0m - \u001b[1mVoronoi done\u001b[0m\n",
      "\u001b[32m2025-05-17 18:55:30.381\u001b[0m | \u001b[1mINFO    \u001b[0m | \u001b[36mopendvp.anndata_utils\u001b[0m:\u001b[36madataobs_to_voronoi_geojson\u001b[0m:\u001b[36m290\u001b[0m - \u001b[1mTransformed to geodataframe\u001b[0m\n",
      "\u001b[32m2025-05-17 18:55:30.385\u001b[0m | \u001b[1mINFO    \u001b[0m | \u001b[36mopendvp.anndata_utils\u001b[0m:\u001b[36madataobs_to_voronoi_geojson\u001b[0m:\u001b[36m295\u001b[0m - \u001b[1mBounding box: x_min: 2217.0, x_max: 70848.8, y_min: 20.4, y_max 47085.0\u001b[0m\n",
      "\u001b[32m2025-05-17 18:55:32.688\u001b[0m | \u001b[1mINFO    \u001b[0m | \u001b[36mopendvp.anndata_utils\u001b[0m:\u001b[36madataobs_to_voronoi_geojson\u001b[0m:\u001b[36m300\u001b[0m - \u001b[1mRetaining 1003632 valid polygons after filtering large and infinite ones.\u001b[0m\n",
      "\u001b[32m2025-05-17 18:55:32.843\u001b[0m | \u001b[1mINFO    \u001b[0m | \u001b[36mopendvp.anndata_utils\u001b[0m:\u001b[36madataobs_to_voronoi_geojson\u001b[0m:\u001b[36m305\u001b[0m - \u001b[1mFiltered out large polygons based on the 0.98 quantile\u001b[0m\n",
      "\u001b[32m2025-05-17 18:55:32.847\u001b[0m | \u001b[1mINFO    \u001b[0m | \u001b[36mopendvp.anndata_utils\u001b[0m:\u001b[36madataobs_to_voronoi_geojson\u001b[0m:\u001b[36m313\u001b[0m - \u001b[1mMerging polygons adjacent and of same category\u001b[0m\n",
      "\u001b[32m2025-05-17 18:56:04.099\u001b[0m | \u001b[1mINFO    \u001b[0m | \u001b[36mopendvp.utils\u001b[0m:\u001b[36mparse_color_for_qupath\u001b[0m:\u001b[36m129\u001b[0m - \u001b[1mParsing colors compatible with QuPath\u001b[0m\n",
      "\u001b[32m2025-05-17 18:56:04.101\u001b[0m | \u001b[1mINFO    \u001b[0m | \u001b[36mopendvp.utils\u001b[0m:\u001b[36mparse_color_for_qupath\u001b[0m:\u001b[36m138\u001b[0m - \u001b[1mCustom color dictionary passed, adapting to QuPath color format\u001b[0m\n",
      "/Users/jnimoca/Jose_BI/4_Projects/P26_BCCN/P26E10_E11_ImageAnalysis/.pixi/envs/default/lib/python3.11/site-packages/pyogrio/geopandas.py:662: UserWarning: 'crs' was not provided.  The output dataset will not have projection information defined and may not be usable in other systems.\n",
      "  write(\n",
      "\u001b[32m2025-05-17 18:56:06.270\u001b[0m | \u001b[32m\u001b[1mSUCCESS \u001b[0m | \u001b[36mopendvp.anndata_utils\u001b[0m:\u001b[36madataobs_to_voronoi_geojson\u001b[0m:\u001b[36m327\u001b[0m - \u001b[32m\u001b[1mExported Voronoi projection to ../data/perSample/992/qc/20250517_992_voronoi_RCN_knn30_newcolors.geojson\u001b[0m\n"
     ]
    }
   ],
   "source": [
    "## save new voronoi with new colors\n",
    "\n",
    "anndata_utils.adataobs_to_voronoi_geojson(\n",
    "    adata = adata,\n",
    "    subset_adata_key = \"imageid\", \n",
    "    subset_adata_value = 992,\n",
    "    color_by_adata_key = \"spatial_lda_knn30_kmeans_k7\",\n",
    "    color_dict = new_RCN_colors,\n",
    "    threshold_quantile = 0.98,\n",
    "    merge_adjacent_shapes = True,\n",
    "    save_as_detection = True,  \n",
    "    output_filepath = \"../data/perSample/992/qc/20250517_992_voronoi_RCN_knn30_newcolors.geojson\"\n",
    ")"
   ]
  }
 ],
 "metadata": {
  "kernelspec": {
   "display_name": "default",
   "language": "python",
   "name": "python3"
  },
  "language_info": {
   "codemirror_mode": {
    "name": "ipython",
    "version": 3
   },
   "file_extension": ".py",
   "mimetype": "text/x-python",
   "name": "python",
   "nbconvert_exporter": "python",
   "pygments_lexer": "ipython3",
   "version": "3.11.11"
  }
 },
 "nbformat": 4,
 "nbformat_minor": 2
}
