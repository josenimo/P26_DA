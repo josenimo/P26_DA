{
 "cells": [
  {
   "cell_type": "code",
   "execution_count": 1,
   "metadata": {},
   "outputs": [
    {
     "name": "stdout",
     "output_type": "stream",
     "text": [
      "Running SCIMAP  2.2.11\n",
      "numpy 1.26.4\n",
      "pandas 2.2.3\n",
      "geopandas 1.0.1\n",
      "anndata 0.10.9\n",
      "scimap 2.2.11\n"
     ]
    }
   ],
   "source": [
    "import os,sys,time\n",
    "from loguru import logger \n",
    "\n",
    "import scimap as sm\n",
    "\n",
    "import numpy as np\n",
    "import pandas as pd\n",
    "import shapely\n",
    "import geopandas as gpd\n",
    "import anndata as ad\n",
    "\n",
    "import pyarrow\n",
    "import ast\n",
    "\n",
    "#plotting\n",
    "import matplotlib.pyplot as plt\n",
    "import seaborn as sns\n",
    "\n",
    "#custom functions\n",
    "sys.path.append(os.path.abspath('/Users/jnimoca/Jose_BI/1_Pipelines/openDVP/src/'))\n",
    "import opendvp.anndata_utils\n",
    "import opendvp.filtering\n",
    "import importlib\n",
    "\n",
    "for package in [np,pd,gpd,ad,sm]:\n",
    "    print(f\"{package.__name__} {package.__version__}\")"
   ]
  },
  {
   "cell_type": "code",
   "execution_count": 4,
   "metadata": {},
   "outputs": [
    {
     "name": "stderr",
     "output_type": "stream",
     "text": [
      "/Users/jnimoca/Jose_BI/4_Projects/P26_BCCN/P26E10_E11_ImageAnalysis/.pixi/envs/default/lib/python3.11/site-packages/anndata/_core/anndata.py:1754: UserWarning:\n",
      "\n",
      "Observation names are not unique. To make them unique, call `.obs_names_make_unique`.\n",
      "\n"
     ]
    }
   ],
   "source": [
    "adata = ad.read_h5ad(\"../data/perSample/991_992/0_concat/20250303_1336_0_concat_adata.h5ad\")"
   ]
  },
  {
   "cell_type": "code",
   "execution_count": 5,
   "metadata": {},
   "outputs": [],
   "source": [
    "adata.obs_names_make_unique()"
   ]
  },
  {
   "cell_type": "code",
   "execution_count": 7,
   "metadata": {},
   "outputs": [
    {
     "name": "stderr",
     "output_type": "stream",
     "text": [
      "\u001b[32m2025-03-03 15:55:02.641\u001b[0m | \u001b[1mINFO    \u001b[0m | \u001b[36m__main__\u001b[0m:\u001b[36m<module>\u001b[0m:\u001b[36m4\u001b[0m - \u001b[1mProcessing knn=7\u001b[0m\n"
     ]
    },
    {
     "name": "stdout",
     "output_type": "stream",
     "text": [
      "Processing: [991]\n",
      "Identifying the 7 nearest neighbours for every cell\n",
      "Processing: [992]\n",
      "Identifying the 7 nearest neighbours for every cell\n",
      "Pre-Processing Spatial LDA\n",
      "Training Spatial LDA\n",
      "Calculating the Coherence Score\n",
      "\n",
      "Coherence Score:  0.3178528435660482\n",
      "Gathering the latent weights\n",
      "Kmeans clustering\n"
     ]
    },
    {
     "name": "stderr",
     "output_type": "stream",
     "text": [
      "\u001b[32m2025-03-03 15:57:25.338\u001b[0m | \u001b[1mINFO    \u001b[0m | \u001b[36m__main__\u001b[0m:\u001b[36m<module>\u001b[0m:\u001b[36m18\u001b[0m - \u001b[1mDone in 142.69472813606262 seconds\u001b[0m\n",
      "\u001b[32m2025-03-03 15:57:25.339\u001b[0m | \u001b[1mINFO    \u001b[0m | \u001b[36m__main__\u001b[0m:\u001b[36m<module>\u001b[0m:\u001b[36m4\u001b[0m - \u001b[1mProcessing knn=14\u001b[0m\n"
     ]
    },
    {
     "name": "stdout",
     "output_type": "stream",
     "text": [
      "Processing: [991]\n",
      "Identifying the 14 nearest neighbours for every cell\n",
      "Processing: [992]\n",
      "Identifying the 14 nearest neighbours for every cell\n",
      "Pre-Processing Spatial LDA\n",
      "Training Spatial LDA\n",
      "Calculating the Coherence Score\n",
      "\n",
      "Coherence Score:  0.34420324107822475\n",
      "Gathering the latent weights\n",
      "Kmeans clustering\n"
     ]
    },
    {
     "name": "stderr",
     "output_type": "stream",
     "text": [
      "\u001b[32m2025-03-03 16:00:48.351\u001b[0m | \u001b[1mINFO    \u001b[0m | \u001b[36m__main__\u001b[0m:\u001b[36m<module>\u001b[0m:\u001b[36m18\u001b[0m - \u001b[1mDone in 203.0119869709015 seconds\u001b[0m\n",
      "\u001b[32m2025-03-03 16:00:48.352\u001b[0m | \u001b[1mINFO    \u001b[0m | \u001b[36m__main__\u001b[0m:\u001b[36m<module>\u001b[0m:\u001b[36m4\u001b[0m - \u001b[1mProcessing knn=21\u001b[0m\n"
     ]
    },
    {
     "name": "stdout",
     "output_type": "stream",
     "text": [
      "Processing: [991]\n",
      "Identifying the 21 nearest neighbours for every cell\n",
      "Processing: [992]\n",
      "Identifying the 21 nearest neighbours for every cell\n",
      "Pre-Processing Spatial LDA\n",
      "Training Spatial LDA\n",
      "Calculating the Coherence Score\n",
      "\n",
      "Coherence Score:  0.3516907772022454\n",
      "Gathering the latent weights\n",
      "Kmeans clustering\n"
     ]
    },
    {
     "name": "stderr",
     "output_type": "stream",
     "text": [
      "\u001b[32m2025-03-03 16:04:48.706\u001b[0m | \u001b[1mINFO    \u001b[0m | \u001b[36m__main__\u001b[0m:\u001b[36m<module>\u001b[0m:\u001b[36m18\u001b[0m - \u001b[1mDone in 240.3536880016327 seconds\u001b[0m\n",
      "\u001b[32m2025-03-03 16:04:48.706\u001b[0m | \u001b[1mINFO    \u001b[0m | \u001b[36m__main__\u001b[0m:\u001b[36m<module>\u001b[0m:\u001b[36m4\u001b[0m - \u001b[1mProcessing knn=30\u001b[0m\n"
     ]
    },
    {
     "name": "stdout",
     "output_type": "stream",
     "text": [
      "Processing: [991]\n",
      "Identifying the 30 nearest neighbours for every cell\n",
      "Processing: [992]\n",
      "Identifying the 30 nearest neighbours for every cell\n",
      "Pre-Processing Spatial LDA\n",
      "Training Spatial LDA\n",
      "Calculating the Coherence Score\n",
      "\n",
      "Coherence Score:  0.35583355796432947\n",
      "Gathering the latent weights\n",
      "Kmeans clustering\n"
     ]
    },
    {
     "name": "stderr",
     "output_type": "stream",
     "text": [
      "\u001b[32m2025-03-03 16:09:31.288\u001b[0m | \u001b[1mINFO    \u001b[0m | \u001b[36m__main__\u001b[0m:\u001b[36m<module>\u001b[0m:\u001b[36m18\u001b[0m - \u001b[1mDone in 282.58131408691406 seconds\u001b[0m\n",
      "\u001b[32m2025-03-03 16:09:31.289\u001b[0m | \u001b[1mINFO    \u001b[0m | \u001b[36m__main__\u001b[0m:\u001b[36m<module>\u001b[0m:\u001b[36m4\u001b[0m - \u001b[1mProcessing knn=40\u001b[0m\n"
     ]
    },
    {
     "name": "stdout",
     "output_type": "stream",
     "text": [
      "Processing: [991]\n",
      "Identifying the 40 nearest neighbours for every cell\n",
      "Processing: [992]\n",
      "Identifying the 40 nearest neighbours for every cell\n",
      "Pre-Processing Spatial LDA\n",
      "Training Spatial LDA\n",
      "Calculating the Coherence Score\n",
      "\n",
      "Coherence Score:  0.3577975141441595\n",
      "Gathering the latent weights\n",
      "Kmeans clustering\n"
     ]
    },
    {
     "name": "stderr",
     "output_type": "stream",
     "text": [
      "\u001b[32m2025-03-03 16:15:07.620\u001b[0m | \u001b[1mINFO    \u001b[0m | \u001b[36m__main__\u001b[0m:\u001b[36m<module>\u001b[0m:\u001b[36m18\u001b[0m - \u001b[1mDone in 336.3305866718292 seconds\u001b[0m\n",
      "\u001b[32m2025-03-03 16:15:07.621\u001b[0m | \u001b[1mINFO    \u001b[0m | \u001b[36m__main__\u001b[0m:\u001b[36m<module>\u001b[0m:\u001b[36m4\u001b[0m - \u001b[1mProcessing knn=50\u001b[0m\n"
     ]
    },
    {
     "name": "stdout",
     "output_type": "stream",
     "text": [
      "Processing: [991]\n",
      "Identifying the 50 nearest neighbours for every cell\n",
      "Processing: [992]\n",
      "Identifying the 50 nearest neighbours for every cell\n",
      "Pre-Processing Spatial LDA\n",
      "Training Spatial LDA\n",
      "Calculating the Coherence Score\n",
      "\n",
      "Coherence Score:  0.3593188273293075\n",
      "Gathering the latent weights\n",
      "Kmeans clustering\n"
     ]
    },
    {
     "name": "stderr",
     "output_type": "stream",
     "text": [
      "\u001b[32m2025-03-03 16:38:11.138\u001b[0m | \u001b[1mINFO    \u001b[0m | \u001b[36m__main__\u001b[0m:\u001b[36m<module>\u001b[0m:\u001b[36m18\u001b[0m - \u001b[1mDone in 1383.5169188976288 seconds\u001b[0m\n"
     ]
    }
   ],
   "source": [
    "knn_list = [7,14,21,30,40,50]\n",
    "\n",
    "for knn_number in knn_list:\n",
    "    logger.info(f\"Processing knn={knn_number}\")\n",
    "    start = time.time()\n",
    "\n",
    "    adata = sm.tl.spatial_lda(adata, \n",
    "                              method='knn', \n",
    "                              knn=knn_number, \n",
    "                              label=f'spatial_lda_knn{knn_number}')\n",
    "    \n",
    "    adata = sm.tl.spatial_cluster(adata, \n",
    "                                  df_name=f'spatial_lda_knn{knn_number}', \n",
    "                                  method='kmeans', \n",
    "                                  k=7, \n",
    "                                  label=f'spatial_lda_knn{knn_number}_kmeans_k7')\n",
    "\n",
    "    logger.info(f\"Done in {time.time()-start} seconds\")"
   ]
  },
  {
   "cell_type": "code",
   "execution_count": 9,
   "metadata": {},
   "outputs": [
    {
     "data": {
      "text/plain": [
       "AnnData object with n_obs × n_vars = 1615233 × 8\n",
       "    obs: 'CellID', 'Y_centroid', 'X_centroid', 'Area', 'MajorAxisLength', 'MinorAxisLength', 'Eccentricity', 'Orientation', 'Extent', 'Solidity', 'artefact', 'Area_filter_nottoobig', 'Area_filter_nottoolow', 'Area_filter', 'DAPI_ratio', 'DAPI_ratio_pass_nottoolow', 'DAPI_ratio_pass_nottoohigh', 'DAPI_ratio_pass', 'filtering', 'imageid', 'phenotype', 'cell_id', 'spatial_lda_knn7_kmeans_k7', 'spatial_lda_knn14_kmeans_k7', 'spatial_lda_knn21_kmeans_k7', 'spatial_lda_knn30_kmeans_k7', 'spatial_lda_knn40_kmeans_k7', 'spatial_lda_knn50_kmeans_k7'\n",
       "    uns: 'spatial_lda_knn7', 'spatial_lda_knn7_probability', 'spatial_lda_knn14', 'spatial_lda_knn14_probability', 'spatial_lda_knn21', 'spatial_lda_knn21_probability', 'spatial_lda_knn30', 'spatial_lda_knn30_probability', 'spatial_lda_knn40', 'spatial_lda_knn40_probability', 'spatial_lda_knn50', 'spatial_lda_knn50_probability'\n",
       "    layers: 'log'"
      ]
     },
     "execution_count": 9,
     "metadata": {},
     "output_type": "execute_result"
    }
   ],
   "source": [
    "adata"
   ]
  },
  {
   "cell_type": "code",
   "execution_count": null,
   "metadata": {},
   "outputs": [],
   "source": [
    "import opendvp.anndata_utils"
   ]
  },
  {
   "cell_type": "code",
   "execution_count": 11,
   "metadata": {},
   "outputs": [
    {
     "name": "stderr",
     "output_type": "stream",
     "text": [
      "\u001b[32m2025-03-03 16:54:17.626\u001b[0m | \u001b[1mINFO    \u001b[0m | \u001b[36mopendvp.anndata_utils\u001b[0m:\u001b[36msave_adata_checkpoint\u001b[0m:\u001b[36m73\u001b[0m - \u001b[1mWriting h5ad\u001b[0m\n",
      "\u001b[32m2025-03-03 16:54:22.675\u001b[0m | \u001b[32m\u001b[1mSUCCESS \u001b[0m | \u001b[36mopendvp.anndata_utils\u001b[0m:\u001b[36msave_adata_checkpoint\u001b[0m:\u001b[36m75\u001b[0m - \u001b[32m\u001b[1mWrote h5ad file\u001b[0m\n",
      "\u001b[32m2025-03-03 16:54:22.676\u001b[0m | \u001b[1mINFO    \u001b[0m | \u001b[36mopendvp.anndata_utils\u001b[0m:\u001b[36msave_adata_checkpoint\u001b[0m:\u001b[36m82\u001b[0m - \u001b[1mWriting parquet\u001b[0m\n",
      "\u001b[32m2025-03-03 16:54:23.129\u001b[0m | \u001b[32m\u001b[1mSUCCESS \u001b[0m | \u001b[36mopendvp.anndata_utils\u001b[0m:\u001b[36msave_adata_checkpoint\u001b[0m:\u001b[36m84\u001b[0m - \u001b[32m\u001b[1mWrote parquet file\u001b[0m\n"
     ]
    }
   ],
   "source": [
    "opendvp.anndata_utils.save_adata_checkpoint(adata, path_to_dir=\"../data/perSample/991_992\", checkpoint_name=\"1_spatial_LDA\" )"
   ]
  },
  {
   "cell_type": "code",
   "execution_count": 12,
   "metadata": {},
   "outputs": [
    {
     "data": {
      "text/plain": [
       "AnnData object with n_obs × n_vars = 1615233 × 8\n",
       "    obs: 'CellID', 'Y_centroid', 'X_centroid', 'Area', 'MajorAxisLength', 'MinorAxisLength', 'Eccentricity', 'Orientation', 'Extent', 'Solidity', 'artefact', 'Area_filter_nottoobig', 'Area_filter_nottoolow', 'Area_filter', 'DAPI_ratio', 'DAPI_ratio_pass_nottoolow', 'DAPI_ratio_pass_nottoohigh', 'DAPI_ratio_pass', 'filtering', 'imageid', 'phenotype', 'cell_id', 'spatial_lda_knn7_kmeans_k7', 'spatial_lda_knn14_kmeans_k7', 'spatial_lda_knn21_kmeans_k7', 'spatial_lda_knn30_kmeans_k7', 'spatial_lda_knn40_kmeans_k7', 'spatial_lda_knn50_kmeans_k7'\n",
       "    uns: 'spatial_lda_knn7', 'spatial_lda_knn7_probability', 'spatial_lda_knn14', 'spatial_lda_knn14_probability', 'spatial_lda_knn21', 'spatial_lda_knn21_probability', 'spatial_lda_knn30', 'spatial_lda_knn30_probability', 'spatial_lda_knn40', 'spatial_lda_knn40_probability', 'spatial_lda_knn50', 'spatial_lda_knn50_probability'\n",
       "    layers: 'log'"
      ]
     },
     "execution_count": 12,
     "metadata": {},
     "output_type": "execute_result"
    }
   ],
   "source": [
    "adata"
   ]
  }
 ],
 "metadata": {
  "kernelspec": {
   "display_name": "default",
   "language": "python",
   "name": "python3"
  },
  "language_info": {
   "codemirror_mode": {
    "name": "ipython",
    "version": 3
   },
   "file_extension": ".py",
   "mimetype": "text/x-python",
   "name": "python",
   "nbconvert_exporter": "python",
   "pygments_lexer": "ipython3",
   "version": "3.11.11"
  }
 },
 "nbformat": 4,
 "nbformat_minor": 2
}
