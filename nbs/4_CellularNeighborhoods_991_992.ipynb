{
 "cells": [
  {
   "cell_type": "markdown",
   "metadata": {},
   "source": [
    "# Cellular neighborhood analysis of cells in both slides 991 and 992\n",
    "**Goal:**  Perform cellular neighborhood analysis    \n",
    "**Input:** Merged adata from 991 and 992    \n",
    "**Output:** Cellular neighborhood categories for all cells     \n",
    "**Author:** Jose Nimo    \n",
    "**Date_of_creation:** 15.01.2025     \n",
    "**Date_of_latest_modification:** 25.04.2025    \n",
    "**Status:** In Progress"
   ]
  },
  {
   "cell_type": "markdown",
   "metadata": {},
   "source": [
    "# Setup and imports"
   ]
  },
  {
   "cell_type": "code",
   "execution_count": 2,
   "metadata": {},
   "outputs": [
    {
     "name": "stdout",
     "output_type": "stream",
     "text": [
      "numpy 1.26.4\n",
      "pandas 2.2.2\n",
      "geopandas 1.0.1\n",
      "anndata 0.11.3\n"
     ]
    }
   ],
   "source": [
    "import os,sys,time\n",
    "from loguru import logger \n",
    "\n",
    "# import scimap as sm\n",
    "\n",
    "import numpy as np\n",
    "import pandas as pd\n",
    "import shapely\n",
    "import geopandas as gpd\n",
    "import anndata as ad\n",
    "\n",
    "import pyarrow\n",
    "import ast\n",
    "\n",
    "#plotting\n",
    "import matplotlib.pyplot as plt\n",
    "import seaborn as sns\n",
    "\n",
    "#custom functions\n",
    "sys.path.append(os.path.abspath('/Users/jnimoca/Jose_BI/1_Pipelines/openDVP/src/'))\n",
    "from opendvp import anndata_utils, filtering, imaging, utils\n",
    "import importlib\n",
    "\n",
    "for package in [np,pd,gpd,ad]:\n",
    "    print(f\"{package.__name__} {package.__version__}\")"
   ]
  },
  {
   "cell_type": "markdown",
   "metadata": {},
   "source": [
    "## Create recurrent cellular neighborhood labels for all cells in 991 and 992"
   ]
  },
  {
   "cell_type": "code",
   "execution_count": 4,
   "metadata": {},
   "outputs": [
    {
     "name": "stderr",
     "output_type": "stream",
     "text": [
      "/Users/jnimoca/Jose_BI/4_Projects/P26_BCCN/P26E10_E11_ImageAnalysis/.pixi/envs/default/lib/python3.11/site-packages/anndata/_core/anndata.py:1754: UserWarning:\n",
      "\n",
      "Observation names are not unique. To make them unique, call `.obs_names_make_unique`.\n",
      "\n"
     ]
    }
   ],
   "source": [
    "adata = ad.read_h5ad(\"../data/perSample/991_992/0_concat/20250303_1336_0_concat_adata.h5ad\")"
   ]
  },
  {
   "cell_type": "code",
   "execution_count": 5,
   "metadata": {},
   "outputs": [],
   "source": [
    "adata.obs_names_make_unique()"
   ]
  },
  {
   "cell_type": "code",
   "execution_count": 7,
   "metadata": {},
   "outputs": [
    {
     "name": "stderr",
     "output_type": "stream",
     "text": [
      "\u001b[32m2025-03-03 15:55:02.641\u001b[0m | \u001b[1mINFO    \u001b[0m | \u001b[36m__main__\u001b[0m:\u001b[36m<module>\u001b[0m:\u001b[36m4\u001b[0m - \u001b[1mProcessing knn=7\u001b[0m\n"
     ]
    },
    {
     "name": "stdout",
     "output_type": "stream",
     "text": [
      "Processing: [991]\n",
      "Identifying the 7 nearest neighbours for every cell\n",
      "Processing: [992]\n",
      "Identifying the 7 nearest neighbours for every cell\n",
      "Pre-Processing Spatial LDA\n",
      "Training Spatial LDA\n",
      "Calculating the Coherence Score\n",
      "\n",
      "Coherence Score:  0.3178528435660482\n",
      "Gathering the latent weights\n",
      "Kmeans clustering\n"
     ]
    },
    {
     "name": "stderr",
     "output_type": "stream",
     "text": [
      "\u001b[32m2025-03-03 15:57:25.338\u001b[0m | \u001b[1mINFO    \u001b[0m | \u001b[36m__main__\u001b[0m:\u001b[36m<module>\u001b[0m:\u001b[36m18\u001b[0m - \u001b[1mDone in 142.69472813606262 seconds\u001b[0m\n",
      "\u001b[32m2025-03-03 15:57:25.339\u001b[0m | \u001b[1mINFO    \u001b[0m | \u001b[36m__main__\u001b[0m:\u001b[36m<module>\u001b[0m:\u001b[36m4\u001b[0m - \u001b[1mProcessing knn=14\u001b[0m\n"
     ]
    },
    {
     "name": "stdout",
     "output_type": "stream",
     "text": [
      "Processing: [991]\n",
      "Identifying the 14 nearest neighbours for every cell\n",
      "Processing: [992]\n",
      "Identifying the 14 nearest neighbours for every cell\n",
      "Pre-Processing Spatial LDA\n",
      "Training Spatial LDA\n",
      "Calculating the Coherence Score\n",
      "\n",
      "Coherence Score:  0.34420324107822475\n",
      "Gathering the latent weights\n",
      "Kmeans clustering\n"
     ]
    },
    {
     "name": "stderr",
     "output_type": "stream",
     "text": [
      "\u001b[32m2025-03-03 16:00:48.351\u001b[0m | \u001b[1mINFO    \u001b[0m | \u001b[36m__main__\u001b[0m:\u001b[36m<module>\u001b[0m:\u001b[36m18\u001b[0m - \u001b[1mDone in 203.0119869709015 seconds\u001b[0m\n",
      "\u001b[32m2025-03-03 16:00:48.352\u001b[0m | \u001b[1mINFO    \u001b[0m | \u001b[36m__main__\u001b[0m:\u001b[36m<module>\u001b[0m:\u001b[36m4\u001b[0m - \u001b[1mProcessing knn=21\u001b[0m\n"
     ]
    },
    {
     "name": "stdout",
     "output_type": "stream",
     "text": [
      "Processing: [991]\n",
      "Identifying the 21 nearest neighbours for every cell\n",
      "Processing: [992]\n",
      "Identifying the 21 nearest neighbours for every cell\n",
      "Pre-Processing Spatial LDA\n",
      "Training Spatial LDA\n",
      "Calculating the Coherence Score\n",
      "\n",
      "Coherence Score:  0.3516907772022454\n",
      "Gathering the latent weights\n",
      "Kmeans clustering\n"
     ]
    },
    {
     "name": "stderr",
     "output_type": "stream",
     "text": [
      "\u001b[32m2025-03-03 16:04:48.706\u001b[0m | \u001b[1mINFO    \u001b[0m | \u001b[36m__main__\u001b[0m:\u001b[36m<module>\u001b[0m:\u001b[36m18\u001b[0m - \u001b[1mDone in 240.3536880016327 seconds\u001b[0m\n",
      "\u001b[32m2025-03-03 16:04:48.706\u001b[0m | \u001b[1mINFO    \u001b[0m | \u001b[36m__main__\u001b[0m:\u001b[36m<module>\u001b[0m:\u001b[36m4\u001b[0m - \u001b[1mProcessing knn=30\u001b[0m\n"
     ]
    },
    {
     "name": "stdout",
     "output_type": "stream",
     "text": [
      "Processing: [991]\n",
      "Identifying the 30 nearest neighbours for every cell\n",
      "Processing: [992]\n",
      "Identifying the 30 nearest neighbours for every cell\n",
      "Pre-Processing Spatial LDA\n",
      "Training Spatial LDA\n",
      "Calculating the Coherence Score\n",
      "\n",
      "Coherence Score:  0.35583355796432947\n",
      "Gathering the latent weights\n",
      "Kmeans clustering\n"
     ]
    },
    {
     "name": "stderr",
     "output_type": "stream",
     "text": [
      "\u001b[32m2025-03-03 16:09:31.288\u001b[0m | \u001b[1mINFO    \u001b[0m | \u001b[36m__main__\u001b[0m:\u001b[36m<module>\u001b[0m:\u001b[36m18\u001b[0m - \u001b[1mDone in 282.58131408691406 seconds\u001b[0m\n",
      "\u001b[32m2025-03-03 16:09:31.289\u001b[0m | \u001b[1mINFO    \u001b[0m | \u001b[36m__main__\u001b[0m:\u001b[36m<module>\u001b[0m:\u001b[36m4\u001b[0m - \u001b[1mProcessing knn=40\u001b[0m\n"
     ]
    },
    {
     "name": "stdout",
     "output_type": "stream",
     "text": [
      "Processing: [991]\n",
      "Identifying the 40 nearest neighbours for every cell\n",
      "Processing: [992]\n",
      "Identifying the 40 nearest neighbours for every cell\n",
      "Pre-Processing Spatial LDA\n",
      "Training Spatial LDA\n",
      "Calculating the Coherence Score\n",
      "\n",
      "Coherence Score:  0.3577975141441595\n",
      "Gathering the latent weights\n",
      "Kmeans clustering\n"
     ]
    },
    {
     "name": "stderr",
     "output_type": "stream",
     "text": [
      "\u001b[32m2025-03-03 16:15:07.620\u001b[0m | \u001b[1mINFO    \u001b[0m | \u001b[36m__main__\u001b[0m:\u001b[36m<module>\u001b[0m:\u001b[36m18\u001b[0m - \u001b[1mDone in 336.3305866718292 seconds\u001b[0m\n",
      "\u001b[32m2025-03-03 16:15:07.621\u001b[0m | \u001b[1mINFO    \u001b[0m | \u001b[36m__main__\u001b[0m:\u001b[36m<module>\u001b[0m:\u001b[36m4\u001b[0m - \u001b[1mProcessing knn=50\u001b[0m\n"
     ]
    },
    {
     "name": "stdout",
     "output_type": "stream",
     "text": [
      "Processing: [991]\n",
      "Identifying the 50 nearest neighbours for every cell\n",
      "Processing: [992]\n",
      "Identifying the 50 nearest neighbours for every cell\n",
      "Pre-Processing Spatial LDA\n",
      "Training Spatial LDA\n",
      "Calculating the Coherence Score\n",
      "\n",
      "Coherence Score:  0.3593188273293075\n",
      "Gathering the latent weights\n",
      "Kmeans clustering\n"
     ]
    },
    {
     "name": "stderr",
     "output_type": "stream",
     "text": [
      "\u001b[32m2025-03-03 16:38:11.138\u001b[0m | \u001b[1mINFO    \u001b[0m | \u001b[36m__main__\u001b[0m:\u001b[36m<module>\u001b[0m:\u001b[36m18\u001b[0m - \u001b[1mDone in 1383.5169188976288 seconds\u001b[0m\n"
     ]
    }
   ],
   "source": [
    "knn_list = [7,14,21,30,40,50]\n",
    "\n",
    "for knn_number in knn_list:\n",
    "    logger.info(f\"Processing knn={knn_number}\")\n",
    "    start = time.time()\n",
    "\n",
    "    adata = sm.tl.spatial_lda(adata, \n",
    "                              method='knn', \n",
    "                              knn=knn_number, \n",
    "                              label=f'spatial_lda_knn{knn_number}')\n",
    "    \n",
    "    adata = sm.tl.spatial_cluster(adata, \n",
    "                                  df_name=f'spatial_lda_knn{knn_number}', \n",
    "                                  method='kmeans', \n",
    "                                  k=7, \n",
    "                                  label=f'spatial_lda_knn{knn_number}_kmeans_k7')\n",
    "\n",
    "    logger.info(f\"Done in {time.time()-start} seconds\")"
   ]
  },
  {
   "cell_type": "code",
   "execution_count": null,
   "metadata": {},
   "outputs": [
    {
     "name": "stderr",
     "output_type": "stream",
     "text": [
      "\u001b[32m2025-03-03 16:54:17.626\u001b[0m | \u001b[1mINFO    \u001b[0m | \u001b[36mopendvp.anndata_utils\u001b[0m:\u001b[36msave_adata_checkpoint\u001b[0m:\u001b[36m73\u001b[0m - \u001b[1mWriting h5ad\u001b[0m\n",
      "\u001b[32m2025-03-03 16:54:22.675\u001b[0m | \u001b[32m\u001b[1mSUCCESS \u001b[0m | \u001b[36mopendvp.anndata_utils\u001b[0m:\u001b[36msave_adata_checkpoint\u001b[0m:\u001b[36m75\u001b[0m - \u001b[32m\u001b[1mWrote h5ad file\u001b[0m\n",
      "\u001b[32m2025-03-03 16:54:22.676\u001b[0m | \u001b[1mINFO    \u001b[0m | \u001b[36mopendvp.anndata_utils\u001b[0m:\u001b[36msave_adata_checkpoint\u001b[0m:\u001b[36m82\u001b[0m - \u001b[1mWriting parquet\u001b[0m\n",
      "\u001b[32m2025-03-03 16:54:23.129\u001b[0m | \u001b[32m\u001b[1mSUCCESS \u001b[0m | \u001b[36mopendvp.anndata_utils\u001b[0m:\u001b[36msave_adata_checkpoint\u001b[0m:\u001b[36m84\u001b[0m - \u001b[32m\u001b[1mWrote parquet file\u001b[0m\n"
     ]
    }
   ],
   "source": [
    "anndata_utils.save_adata_checkpoint(adata, path_to_dir=\"../data/perSample/991_992\", checkpoint_name=\"1_spatial_LDA\" )"
   ]
  },
  {
   "cell_type": "markdown",
   "metadata": {},
   "source": [
    "## QC with QuPath"
   ]
  },
  {
   "cell_type": "markdown",
   "metadata": {},
   "source": [
    "### export RCN as geojsons for 991"
   ]
  },
  {
   "cell_type": "code",
   "execution_count": 7,
   "metadata": {},
   "outputs": [],
   "source": [
    "import geopandas as gpd\n",
    "import json\n",
    "import anndata as ad"
   ]
  },
  {
   "cell_type": "code",
   "execution_count": 8,
   "metadata": {},
   "outputs": [],
   "source": [
    "adata = ad.read_h5ad(\"../data/perSample/991_992/1_spatial_LDA/20250303_1654_1_spatial_LDA_adata.h5ad\")"
   ]
  },
  {
   "cell_type": "code",
   "execution_count": 9,
   "metadata": {},
   "outputs": [
    {
     "data": {
      "text/plain": [
       "AnnData object with n_obs × n_vars = 1615233 × 8\n",
       "    obs: 'CellID', 'Y_centroid', 'X_centroid', 'Area', 'MajorAxisLength', 'MinorAxisLength', 'Eccentricity', 'Orientation', 'Extent', 'Solidity', 'artefact', 'Area_filter_nottoobig', 'Area_filter_nottoolow', 'Area_filter', 'DAPI_ratio', 'DAPI_ratio_pass_nottoolow', 'DAPI_ratio_pass_nottoohigh', 'DAPI_ratio_pass', 'filtering', 'imageid', 'phenotype', 'cell_id', 'spatial_lda_knn7_kmeans_k7', 'spatial_lda_knn14_kmeans_k7', 'spatial_lda_knn21_kmeans_k7', 'spatial_lda_knn30_kmeans_k7', 'spatial_lda_knn40_kmeans_k7', 'spatial_lda_knn50_kmeans_k7'\n",
       "    uns: 'spatial_lda_knn14', 'spatial_lda_knn14_probability', 'spatial_lda_knn21', 'spatial_lda_knn21_probability', 'spatial_lda_knn30', 'spatial_lda_knn30_probability', 'spatial_lda_knn40', 'spatial_lda_knn40_probability', 'spatial_lda_knn50', 'spatial_lda_knn50_probability', 'spatial_lda_knn7', 'spatial_lda_knn7_probability'\n",
       "    layers: 'log'"
      ]
     },
     "execution_count": 9,
     "metadata": {},
     "output_type": "execute_result"
    }
   ],
   "source": [
    "adata"
   ]
  },
  {
   "cell_type": "code",
   "execution_count": 10,
   "metadata": {},
   "outputs": [
    {
     "data": {
      "text/plain": [
       "Index(['CellID', 'Y_centroid', 'X_centroid', 'Area', 'MajorAxisLength',\n",
       "       'MinorAxisLength', 'Eccentricity', 'Orientation', 'Extent', 'Solidity',\n",
       "       'artefact', 'Area_filter_nottoobig', 'Area_filter_nottoolow',\n",
       "       'Area_filter', 'DAPI_ratio', 'DAPI_ratio_pass_nottoolow',\n",
       "       'DAPI_ratio_pass_nottoohigh', 'DAPI_ratio_pass', 'filtering', 'imageid',\n",
       "       'phenotype', 'cell_id', 'spatial_lda_knn7_kmeans_k7',\n",
       "       'spatial_lda_knn14_kmeans_k7', 'spatial_lda_knn21_kmeans_k7',\n",
       "       'spatial_lda_knn30_kmeans_k7', 'spatial_lda_knn40_kmeans_k7',\n",
       "       'spatial_lda_knn50_kmeans_k7'],\n",
       "      dtype='object')"
      ]
     },
     "execution_count": 10,
     "metadata": {},
     "output_type": "execute_result"
    }
   ],
   "source": [
    "adata.obs.columns"
   ]
  },
  {
   "cell_type": "code",
   "execution_count": 13,
   "metadata": {},
   "outputs": [
    {
     "data": {
      "text/plain": [
       "imageid\n",
       "992    1005051\n",
       "991     610182\n",
       "Name: count, dtype: int64"
      ]
     },
     "execution_count": 13,
     "metadata": {},
     "output_type": "execute_result"
    }
   ],
   "source": [
    "adata.obs.imageid.value_counts()"
   ]
  },
  {
   "cell_type": "code",
   "execution_count": 14,
   "metadata": {},
   "outputs": [
    {
     "data": {
      "text/plain": [
       "dtype('int64')"
      ]
     },
     "execution_count": 14,
     "metadata": {},
     "output_type": "execute_result"
    }
   ],
   "source": [
    "adata.obs.imageid.dtype"
   ]
  },
  {
   "cell_type": "code",
   "execution_count": 15,
   "metadata": {},
   "outputs": [
    {
     "data": {
      "text/html": [
       "<div>\n",
       "<style scoped>\n",
       "    .dataframe tbody tr th:only-of-type {\n",
       "        vertical-align: middle;\n",
       "    }\n",
       "\n",
       "    .dataframe tbody tr th {\n",
       "        vertical-align: top;\n",
       "    }\n",
       "\n",
       "    .dataframe thead th {\n",
       "        text-align: right;\n",
       "    }\n",
       "</style>\n",
       "<table border=\"1\" class=\"dataframe\">\n",
       "  <thead>\n",
       "    <tr style=\"text-align: right;\">\n",
       "      <th></th>\n",
       "      <th>CellID</th>\n",
       "      <th>Y_centroid</th>\n",
       "      <th>X_centroid</th>\n",
       "      <th>Area</th>\n",
       "      <th>MajorAxisLength</th>\n",
       "      <th>MinorAxisLength</th>\n",
       "      <th>Eccentricity</th>\n",
       "      <th>Orientation</th>\n",
       "      <th>Extent</th>\n",
       "      <th>Solidity</th>\n",
       "      <th>...</th>\n",
       "      <th>filtering</th>\n",
       "      <th>imageid</th>\n",
       "      <th>phenotype</th>\n",
       "      <th>cell_id</th>\n",
       "      <th>spatial_lda_knn7_kmeans_k7</th>\n",
       "      <th>spatial_lda_knn14_kmeans_k7</th>\n",
       "      <th>spatial_lda_knn21_kmeans_k7</th>\n",
       "      <th>spatial_lda_knn30_kmeans_k7</th>\n",
       "      <th>spatial_lda_knn40_kmeans_k7</th>\n",
       "      <th>spatial_lda_knn50_kmeans_k7</th>\n",
       "    </tr>\n",
       "  </thead>\n",
       "  <tbody>\n",
       "    <tr>\n",
       "      <th>0</th>\n",
       "      <td>1</td>\n",
       "      <td>29410.806452</td>\n",
       "      <td>35874.857801</td>\n",
       "      <td>1519.0</td>\n",
       "      <td>98.696620</td>\n",
       "      <td>30.646839</td>\n",
       "      <td>0.950568</td>\n",
       "      <td>-1.524977</td>\n",
       "      <td>228.651804</td>\n",
       "      <td>0.676615</td>\n",
       "      <td>...</td>\n",
       "      <td>True</td>\n",
       "      <td>991</td>\n",
       "      <td>Cancer_cells</td>\n",
       "      <td>991_1</td>\n",
       "      <td>0</td>\n",
       "      <td>3</td>\n",
       "      <td>2</td>\n",
       "      <td>5</td>\n",
       "      <td>3</td>\n",
       "      <td>6</td>\n",
       "    </tr>\n",
       "    <tr>\n",
       "      <th>1</th>\n",
       "      <td>2</td>\n",
       "      <td>29445.080408</td>\n",
       "      <td>36162.243140</td>\n",
       "      <td>1567.0</td>\n",
       "      <td>50.422862</td>\n",
       "      <td>39.687556</td>\n",
       "      <td>0.616832</td>\n",
       "      <td>0.160002</td>\n",
       "      <td>148.710678</td>\n",
       "      <td>0.975109</td>\n",
       "      <td>...</td>\n",
       "      <td>True</td>\n",
       "      <td>991</td>\n",
       "      <td>Cancer_cells</td>\n",
       "      <td>991_2</td>\n",
       "      <td>2</td>\n",
       "      <td>3</td>\n",
       "      <td>2</td>\n",
       "      <td>5</td>\n",
       "      <td>3</td>\n",
       "      <td>6</td>\n",
       "    </tr>\n",
       "    <tr>\n",
       "      <th>2</th>\n",
       "      <td>3</td>\n",
       "      <td>29505.171707</td>\n",
       "      <td>38455.235122</td>\n",
       "      <td>1025.0</td>\n",
       "      <td>40.280587</td>\n",
       "      <td>34.195207</td>\n",
       "      <td>0.528513</td>\n",
       "      <td>-0.346644</td>\n",
       "      <td>131.438600</td>\n",
       "      <td>0.927602</td>\n",
       "      <td>...</td>\n",
       "      <td>True</td>\n",
       "      <td>991</td>\n",
       "      <td>Cancer_cells</td>\n",
       "      <td>991_3</td>\n",
       "      <td>0</td>\n",
       "      <td>0</td>\n",
       "      <td>1</td>\n",
       "      <td>0</td>\n",
       "      <td>3</td>\n",
       "      <td>6</td>\n",
       "    </tr>\n",
       "    <tr>\n",
       "      <th>3</th>\n",
       "      <td>4</td>\n",
       "      <td>29539.721673</td>\n",
       "      <td>35060.844867</td>\n",
       "      <td>1315.0</td>\n",
       "      <td>61.049935</td>\n",
       "      <td>28.208869</td>\n",
       "      <td>0.886848</td>\n",
       "      <td>-1.447088</td>\n",
       "      <td>151.254834</td>\n",
       "      <td>0.947406</td>\n",
       "      <td>...</td>\n",
       "      <td>True</td>\n",
       "      <td>991</td>\n",
       "      <td>CD4_Tcells</td>\n",
       "      <td>991_4</td>\n",
       "      <td>3</td>\n",
       "      <td>5</td>\n",
       "      <td>0</td>\n",
       "      <td>2</td>\n",
       "      <td>4</td>\n",
       "      <td>2</td>\n",
       "    </tr>\n",
       "    <tr>\n",
       "      <th>4</th>\n",
       "      <td>5</td>\n",
       "      <td>29982.642779</td>\n",
       "      <td>36765.660558</td>\n",
       "      <td>3656.0</td>\n",
       "      <td>84.178897</td>\n",
       "      <td>57.384893</td>\n",
       "      <td>0.731630</td>\n",
       "      <td>0.251203</td>\n",
       "      <td>243.379726</td>\n",
       "      <td>0.926743</td>\n",
       "      <td>...</td>\n",
       "      <td>True</td>\n",
       "      <td>991</td>\n",
       "      <td>Cancer_cells</td>\n",
       "      <td>991_5</td>\n",
       "      <td>0</td>\n",
       "      <td>0</td>\n",
       "      <td>1</td>\n",
       "      <td>0</td>\n",
       "      <td>1</td>\n",
       "      <td>3</td>\n",
       "    </tr>\n",
       "    <tr>\n",
       "      <th>...</th>\n",
       "      <td>...</td>\n",
       "      <td>...</td>\n",
       "      <td>...</td>\n",
       "      <td>...</td>\n",
       "      <td>...</td>\n",
       "      <td>...</td>\n",
       "      <td>...</td>\n",
       "      <td>...</td>\n",
       "      <td>...</td>\n",
       "      <td>...</td>\n",
       "      <td>...</td>\n",
       "      <td>...</td>\n",
       "      <td>...</td>\n",
       "      <td>...</td>\n",
       "      <td>...</td>\n",
       "      <td>...</td>\n",
       "      <td>...</td>\n",
       "      <td>...</td>\n",
       "      <td>...</td>\n",
       "      <td>...</td>\n",
       "      <td>...</td>\n",
       "    </tr>\n",
       "    <tr>\n",
       "      <th>685800</th>\n",
       "      <td>685801</td>\n",
       "      <td>40389.067593</td>\n",
       "      <td>46087.962963</td>\n",
       "      <td>1080.0</td>\n",
       "      <td>56.372404</td>\n",
       "      <td>25.352581</td>\n",
       "      <td>0.893163</td>\n",
       "      <td>1.002754</td>\n",
       "      <td>141.610173</td>\n",
       "      <td>0.961710</td>\n",
       "      <td>...</td>\n",
       "      <td>True</td>\n",
       "      <td>991</td>\n",
       "      <td>COL1A1_cells</td>\n",
       "      <td>991_685801</td>\n",
       "      <td>1</td>\n",
       "      <td>5</td>\n",
       "      <td>0</td>\n",
       "      <td>2</td>\n",
       "      <td>4</td>\n",
       "      <td>4</td>\n",
       "    </tr>\n",
       "    <tr>\n",
       "      <th>685801</th>\n",
       "      <td>685802</td>\n",
       "      <td>40382.629182</td>\n",
       "      <td>47716.017658</td>\n",
       "      <td>1076.0</td>\n",
       "      <td>41.856049</td>\n",
       "      <td>34.076776</td>\n",
       "      <td>0.580666</td>\n",
       "      <td>1.330143</td>\n",
       "      <td>129.396970</td>\n",
       "      <td>0.951370</td>\n",
       "      <td>...</td>\n",
       "      <td>True</td>\n",
       "      <td>991</td>\n",
       "      <td>Cancer_cells</td>\n",
       "      <td>991_685802</td>\n",
       "      <td>0</td>\n",
       "      <td>0</td>\n",
       "      <td>1</td>\n",
       "      <td>0</td>\n",
       "      <td>1</td>\n",
       "      <td>3</td>\n",
       "    </tr>\n",
       "    <tr>\n",
       "      <th>685802</th>\n",
       "      <td>685803</td>\n",
       "      <td>40382.072917</td>\n",
       "      <td>48436.798177</td>\n",
       "      <td>768.0</td>\n",
       "      <td>33.256837</td>\n",
       "      <td>29.969709</td>\n",
       "      <td>0.433488</td>\n",
       "      <td>0.983058</td>\n",
       "      <td>105.254834</td>\n",
       "      <td>0.957606</td>\n",
       "      <td>...</td>\n",
       "      <td>True</td>\n",
       "      <td>991</td>\n",
       "      <td>CD8_Tcells</td>\n",
       "      <td>991_685803</td>\n",
       "      <td>1</td>\n",
       "      <td>5</td>\n",
       "      <td>6</td>\n",
       "      <td>6</td>\n",
       "      <td>0</td>\n",
       "      <td>5</td>\n",
       "    </tr>\n",
       "    <tr>\n",
       "      <th>685803</th>\n",
       "      <td>685804</td>\n",
       "      <td>40383.786948</td>\n",
       "      <td>45011.021113</td>\n",
       "      <td>1042.0</td>\n",
       "      <td>45.051210</td>\n",
       "      <td>31.924524</td>\n",
       "      <td>0.705583</td>\n",
       "      <td>1.218499</td>\n",
       "      <td>133.189863</td>\n",
       "      <td>0.964815</td>\n",
       "      <td>...</td>\n",
       "      <td>True</td>\n",
       "      <td>991</td>\n",
       "      <td>Unknown</td>\n",
       "      <td>991_685804</td>\n",
       "      <td>6</td>\n",
       "      <td>6</td>\n",
       "      <td>0</td>\n",
       "      <td>6</td>\n",
       "      <td>4</td>\n",
       "      <td>2</td>\n",
       "    </tr>\n",
       "    <tr>\n",
       "      <th>685804</th>\n",
       "      <td>685805</td>\n",
       "      <td>40381.744269</td>\n",
       "      <td>45377.274355</td>\n",
       "      <td>1396.0</td>\n",
       "      <td>54.635806</td>\n",
       "      <td>32.941409</td>\n",
       "      <td>0.797796</td>\n",
       "      <td>1.467234</td>\n",
       "      <td>148.953319</td>\n",
       "      <td>0.960771</td>\n",
       "      <td>...</td>\n",
       "      <td>True</td>\n",
       "      <td>991</td>\n",
       "      <td>CD4_Tcells</td>\n",
       "      <td>991_685805</td>\n",
       "      <td>5</td>\n",
       "      <td>5</td>\n",
       "      <td>0</td>\n",
       "      <td>6</td>\n",
       "      <td>0</td>\n",
       "      <td>2</td>\n",
       "    </tr>\n",
       "  </tbody>\n",
       "</table>\n",
       "<p>610182 rows × 28 columns</p>\n",
       "</div>"
      ],
      "text/plain": [
       "        CellID    Y_centroid    X_centroid    Area  MajorAxisLength  \\\n",
       "0            1  29410.806452  35874.857801  1519.0        98.696620   \n",
       "1            2  29445.080408  36162.243140  1567.0        50.422862   \n",
       "2            3  29505.171707  38455.235122  1025.0        40.280587   \n",
       "3            4  29539.721673  35060.844867  1315.0        61.049935   \n",
       "4            5  29982.642779  36765.660558  3656.0        84.178897   \n",
       "...        ...           ...           ...     ...              ...   \n",
       "685800  685801  40389.067593  46087.962963  1080.0        56.372404   \n",
       "685801  685802  40382.629182  47716.017658  1076.0        41.856049   \n",
       "685802  685803  40382.072917  48436.798177   768.0        33.256837   \n",
       "685803  685804  40383.786948  45011.021113  1042.0        45.051210   \n",
       "685804  685805  40381.744269  45377.274355  1396.0        54.635806   \n",
       "\n",
       "        MinorAxisLength  Eccentricity  Orientation      Extent  Solidity  ...  \\\n",
       "0             30.646839      0.950568    -1.524977  228.651804  0.676615  ...   \n",
       "1             39.687556      0.616832     0.160002  148.710678  0.975109  ...   \n",
       "2             34.195207      0.528513    -0.346644  131.438600  0.927602  ...   \n",
       "3             28.208869      0.886848    -1.447088  151.254834  0.947406  ...   \n",
       "4             57.384893      0.731630     0.251203  243.379726  0.926743  ...   \n",
       "...                 ...           ...          ...         ...       ...  ...   \n",
       "685800        25.352581      0.893163     1.002754  141.610173  0.961710  ...   \n",
       "685801        34.076776      0.580666     1.330143  129.396970  0.951370  ...   \n",
       "685802        29.969709      0.433488     0.983058  105.254834  0.957606  ...   \n",
       "685803        31.924524      0.705583     1.218499  133.189863  0.964815  ...   \n",
       "685804        32.941409      0.797796     1.467234  148.953319  0.960771  ...   \n",
       "\n",
       "        filtering  imageid     phenotype     cell_id  \\\n",
       "0            True      991  Cancer_cells       991_1   \n",
       "1            True      991  Cancer_cells       991_2   \n",
       "2            True      991  Cancer_cells       991_3   \n",
       "3            True      991    CD4_Tcells       991_4   \n",
       "4            True      991  Cancer_cells       991_5   \n",
       "...           ...      ...           ...         ...   \n",
       "685800       True      991  COL1A1_cells  991_685801   \n",
       "685801       True      991  Cancer_cells  991_685802   \n",
       "685802       True      991    CD8_Tcells  991_685803   \n",
       "685803       True      991       Unknown  991_685804   \n",
       "685804       True      991    CD4_Tcells  991_685805   \n",
       "\n",
       "        spatial_lda_knn7_kmeans_k7  spatial_lda_knn14_kmeans_k7  \\\n",
       "0                                0                            3   \n",
       "1                                2                            3   \n",
       "2                                0                            0   \n",
       "3                                3                            5   \n",
       "4                                0                            0   \n",
       "...                            ...                          ...   \n",
       "685800                           1                            5   \n",
       "685801                           0                            0   \n",
       "685802                           1                            5   \n",
       "685803                           6                            6   \n",
       "685804                           5                            5   \n",
       "\n",
       "        spatial_lda_knn21_kmeans_k7  spatial_lda_knn30_kmeans_k7  \\\n",
       "0                                 2                            5   \n",
       "1                                 2                            5   \n",
       "2                                 1                            0   \n",
       "3                                 0                            2   \n",
       "4                                 1                            0   \n",
       "...                             ...                          ...   \n",
       "685800                            0                            2   \n",
       "685801                            1                            0   \n",
       "685802                            6                            6   \n",
       "685803                            0                            6   \n",
       "685804                            0                            6   \n",
       "\n",
       "        spatial_lda_knn40_kmeans_k7  spatial_lda_knn50_kmeans_k7  \n",
       "0                                 3                            6  \n",
       "1                                 3                            6  \n",
       "2                                 3                            6  \n",
       "3                                 4                            2  \n",
       "4                                 1                            3  \n",
       "...                             ...                          ...  \n",
       "685800                            4                            4  \n",
       "685801                            1                            3  \n",
       "685802                            0                            5  \n",
       "685803                            4                            2  \n",
       "685804                            0                            2  \n",
       "\n",
       "[610182 rows x 28 columns]"
      ]
     },
     "execution_count": 15,
     "metadata": {},
     "output_type": "execute_result"
    }
   ],
   "source": [
    "adata_991 = adata[adata.obs[\"imageid\"]==991].copy()\n",
    "adata_991.obs"
   ]
  },
  {
   "cell_type": "code",
   "execution_count": 19,
   "metadata": {},
   "outputs": [],
   "source": [
    "# 991\n",
    "# load gdf with segmentation mask\n",
    "gdf = gpd.read_file(\"../data/perSample/991/qc/20250410_991_segmentation_as_polygons.geojson\")"
   ]
  },
  {
   "cell_type": "code",
   "execution_count": 20,
   "metadata": {},
   "outputs": [
    {
     "data": {
      "text/html": [
       "<div>\n",
       "<style scoped>\n",
       "    .dataframe tbody tr th:only-of-type {\n",
       "        vertical-align: middle;\n",
       "    }\n",
       "\n",
       "    .dataframe tbody tr th {\n",
       "        vertical-align: top;\n",
       "    }\n",
       "\n",
       "    .dataframe thead th {\n",
       "        text-align: right;\n",
       "    }\n",
       "</style>\n",
       "<table border=\"1\" class=\"dataframe\">\n",
       "  <thead>\n",
       "    <tr style=\"text-align: right;\">\n",
       "      <th></th>\n",
       "      <th>cellId</th>\n",
       "      <th>geometry</th>\n",
       "    </tr>\n",
       "  </thead>\n",
       "  <tbody>\n",
       "    <tr>\n",
       "      <th>0</th>\n",
       "      <td>262908</td>\n",
       "      <td>POLYGON ((38223 0, 38222 3, 38226 9, 38233 11,...</td>\n",
       "    </tr>\n",
       "    <tr>\n",
       "      <th>1</th>\n",
       "      <td>262909</td>\n",
       "      <td>POLYGON ((38270 0, 38270 6, 38267 12, 38274 18...</td>\n",
       "    </tr>\n",
       "    <tr>\n",
       "      <th>2</th>\n",
       "      <td>262912</td>\n",
       "      <td>POLYGON ((39148 0, 39147 3, 39150 11, 39157 15...</td>\n",
       "    </tr>\n",
       "    <tr>\n",
       "      <th>3</th>\n",
       "      <td>262911</td>\n",
       "      <td>POLYGON ((38413 0, 38410 9, 38414 17, 38416 18...</td>\n",
       "    </tr>\n",
       "    <tr>\n",
       "      <th>4</th>\n",
       "      <td>651333</td>\n",
       "      <td>POLYGON ((40289 0, 40286 7, 40285 15, 40291 25...</td>\n",
       "    </tr>\n",
       "    <tr>\n",
       "      <th>...</th>\n",
       "      <td>...</td>\n",
       "      <td>...</td>\n",
       "    </tr>\n",
       "    <tr>\n",
       "      <th>685800</th>\n",
       "      <td>622146</td>\n",
       "      <td>POLYGON ((63773 44428, 63764 44434, 63758 4444...</td>\n",
       "    </tr>\n",
       "    <tr>\n",
       "      <th>685801</th>\n",
       "      <td>582148</td>\n",
       "      <td>POLYGON ((65461 44415, 65449 44417, 65444 4442...</td>\n",
       "    </tr>\n",
       "    <tr>\n",
       "      <th>685802</th>\n",
       "      <td>582203</td>\n",
       "      <td>POLYGON ((66747 44435, 66740 44439, 66739 4444...</td>\n",
       "    </tr>\n",
       "    <tr>\n",
       "      <th>685803</th>\n",
       "      <td>582214</td>\n",
       "      <td>POLYGON ((66848 44445, 66829 44448, 66817 4444...</td>\n",
       "    </tr>\n",
       "    <tr>\n",
       "      <th>685804</th>\n",
       "      <td>399825</td>\n",
       "      <td>POLYGON ((73157 44441, 73148 44446, 73146 4446...</td>\n",
       "    </tr>\n",
       "  </tbody>\n",
       "</table>\n",
       "<p>685805 rows × 2 columns</p>\n",
       "</div>"
      ],
      "text/plain": [
       "        cellId                                           geometry\n",
       "0       262908  POLYGON ((38223 0, 38222 3, 38226 9, 38233 11,...\n",
       "1       262909  POLYGON ((38270 0, 38270 6, 38267 12, 38274 18...\n",
       "2       262912  POLYGON ((39148 0, 39147 3, 39150 11, 39157 15...\n",
       "3       262911  POLYGON ((38413 0, 38410 9, 38414 17, 38416 18...\n",
       "4       651333  POLYGON ((40289 0, 40286 7, 40285 15, 40291 25...\n",
       "...        ...                                                ...\n",
       "685800  622146  POLYGON ((63773 44428, 63764 44434, 63758 4444...\n",
       "685801  582148  POLYGON ((65461 44415, 65449 44417, 65444 4442...\n",
       "685802  582203  POLYGON ((66747 44435, 66740 44439, 66739 4444...\n",
       "685803  582214  POLYGON ((66848 44445, 66829 44448, 66817 4444...\n",
       "685804  399825  POLYGON ((73157 44441, 73148 44446, 73146 4446...\n",
       "\n",
       "[685805 rows x 2 columns]"
      ]
     },
     "execution_count": 20,
     "metadata": {},
     "output_type": "execute_result"
    }
   ],
   "source": [
    "gdf"
   ]
  },
  {
   "cell_type": "code",
   "execution_count": 21,
   "metadata": {},
   "outputs": [],
   "source": [
    "#load color_dict\n",
    "with open(\"../assets/RCN_colors.json\", \"r\") as f:\n",
    "    loaded_dict = json.load(f)"
   ]
  },
  {
   "cell_type": "code",
   "execution_count": 35,
   "metadata": {},
   "outputs": [
    {
     "data": {
      "text/plain": [
       "<module 'opendvp.anndata_utils' from '/Users/jnimoca/Jose_BI/1_Pipelines/openDVP/src/opendvp/anndata_utils.py'>"
      ]
     },
     "execution_count": 35,
     "metadata": {},
     "output_type": "execute_result"
    }
   ],
   "source": [
    "importlib.reload(anndata_utils)"
   ]
  },
  {
   "cell_type": "code",
   "execution_count": 42,
   "metadata": {},
   "outputs": [
    {
     "data": {
      "text/plain": [
       "CategoricalDtype(categories=['0', '1', '2', '3', '4', '5', '6'], ordered=False, categories_dtype=object)"
      ]
     },
     "execution_count": 42,
     "metadata": {},
     "output_type": "execute_result"
    }
   ],
   "source": [
    "adata.obs.spatial_lda_knn21_kmeans_k7.dtype"
   ]
  },
  {
   "cell_type": "code",
   "execution_count": 24,
   "metadata": {},
   "outputs": [
    {
     "name": "stderr",
     "output_type": "stream",
     "text": [
      "\u001b[32m2025-04-10 16:31:33.879\u001b[0m | \u001b[1mINFO    \u001b[0m | \u001b[36mopendvp.anndata_utils\u001b[0m:\u001b[36mcolor_geojson_w_adata\u001b[0m:\u001b[36m147\u001b[0m - \u001b[1m -- Adding color to polygons for QuPath visualization -- \u001b[0m\n",
      "\u001b[32m2025-04-10 16:31:33.990\u001b[0m | \u001b[33m\u001b[1mWARNING \u001b[0m | \u001b[36mopendvp.anndata_utils\u001b[0m:\u001b[36mcolor_geojson_w_adata\u001b[0m:\u001b[36m157\u001b[0m - \u001b[33m\u001b[1mData types between geodaframe int32 and adataobs col int64 do not match\u001b[0m\n",
      "\u001b[32m2025-04-10 16:31:33.991\u001b[0m | \u001b[1mINFO    \u001b[0m | \u001b[36mopendvp.anndata_utils\u001b[0m:\u001b[36mcolor_geojson_w_adata\u001b[0m:\u001b[36m160\u001b[0m - \u001b[1mMatching gdf[cellId] to adata.obs[CellID]\u001b[0m\n",
      "\u001b[32m2025-04-10 16:31:34.016\u001b[0m | \u001b[1mINFO    \u001b[0m | \u001b[36mopendvp.utils\u001b[0m:\u001b[36mparse_color_for_qupath\u001b[0m:\u001b[36m121\u001b[0m - \u001b[1mParsing colors compatible with QuPath\u001b[0m\n",
      "\u001b[32m2025-04-10 16:31:34.017\u001b[0m | \u001b[1mINFO    \u001b[0m | \u001b[36mopendvp.utils\u001b[0m:\u001b[36mparse_color_for_qupath\u001b[0m:\u001b[36m130\u001b[0m - \u001b[1mCustom color dictionary passed, adapting to QuPath color format\u001b[0m\n",
      "\u001b[32m2025-04-10 16:31:36.830\u001b[0m | \u001b[1mINFO    \u001b[0m | \u001b[36mopendvp.anndata_utils\u001b[0m:\u001b[36mcolor_geojson_w_adata\u001b[0m:\u001b[36m192\u001b[0m - \u001b[1mSimplifying the geometry with tolerance 1\u001b[0m\n",
      "\u001b[32m2025-04-10 16:31:43.585\u001b[0m | \u001b[1mINFO    \u001b[0m | \u001b[36mopendvp.anndata_utils\u001b[0m:\u001b[36mcolor_geojson_w_adata\u001b[0m:\u001b[36m195\u001b[0m - \u001b[1mSimplified all polygons in 6.8 seconds\u001b[0m\n",
      "\u001b[32m2025-04-10 16:31:43.585\u001b[0m | \u001b[1mINFO    \u001b[0m | \u001b[36mopendvp.anndata_utils\u001b[0m:\u001b[36mcolor_geojson_w_adata\u001b[0m:\u001b[36m197\u001b[0m - \u001b[1mWriting polygons as geojson file\u001b[0m\n",
      "\u001b[32m2025-04-10 16:32:03.893\u001b[0m | \u001b[1mINFO    \u001b[0m | \u001b[36mopendvp.anndata_utils\u001b[0m:\u001b[36mcolor_geojson_w_adata\u001b[0m:\u001b[36m200\u001b[0m - \u001b[1mFile written in 20.3 seconds\u001b[0m\n"
     ]
    }
   ],
   "source": [
    "anndata_utils.color_geojson_w_adata(\n",
    "    geodataframe = gdf,\n",
    "    geodataframe_index_key = \"cellId\",\n",
    "    adata=adata_991,\n",
    "    adata_obs_index_key=\"CellID\",\n",
    "    adata_obs_category_key=\"spatial_lda_knn21_kmeans_k7\",\n",
    "    color_dict = loaded_dict,\n",
    "    export_path = \"../data/perSample/991/qc/20250410_991_RCN_mask.geojson\"\n",
    ")"
   ]
  },
  {
   "cell_type": "code",
   "execution_count": 36,
   "metadata": {},
   "outputs": [
    {
     "name": "stderr",
     "output_type": "stream",
     "text": [
      "\u001b[32m2025-04-10 16:57:08.630\u001b[0m | \u001b[34m\u001b[1mDEBUG   \u001b[0m | \u001b[36mopendvp.anndata_utils\u001b[0m:\u001b[36madataobs_to_voronoi_geojson\u001b[0m:\u001b[36m226\u001b[0m - \u001b[34m\u001b[1m df shape: (1615233, 28)\u001b[0m\n",
      "\u001b[32m2025-04-10 16:57:08.842\u001b[0m | \u001b[34m\u001b[1mDEBUG   \u001b[0m | \u001b[36mopendvp.anndata_utils\u001b[0m:\u001b[36madataobs_to_voronoi_geojson\u001b[0m:\u001b[36m234\u001b[0m - \u001b[34m\u001b[1m df shape after imageid subset: (610182, 28)\u001b[0m\n",
      "\u001b[32m2025-04-10 16:57:08.842\u001b[0m | \u001b[1mINFO    \u001b[0m | \u001b[36mopendvp.anndata_utils\u001b[0m:\u001b[36madataobs_to_voronoi_geojson\u001b[0m:\u001b[36m235\u001b[0m - \u001b[1mProcessing 991, loaded dataframe\u001b[0m\n",
      "\u001b[32m2025-04-10 16:57:08.843\u001b[0m | \u001b[1mINFO    \u001b[0m | \u001b[36mopendvp.anndata_utils\u001b[0m:\u001b[36madataobs_to_voronoi_geojson\u001b[0m:\u001b[36m251\u001b[0m - \u001b[1mRunning Voronoi\u001b[0m\n",
      "\u001b[32m2025-04-10 16:57:34.776\u001b[0m | \u001b[1mINFO    \u001b[0m | \u001b[36mopendvp.anndata_utils\u001b[0m:\u001b[36madataobs_to_voronoi_geojson\u001b[0m:\u001b[36m261\u001b[0m - \u001b[1mVoronoi done\u001b[0m\n",
      "\u001b[32m2025-04-10 16:57:34.853\u001b[0m | \u001b[1mINFO    \u001b[0m | \u001b[36mopendvp.anndata_utils\u001b[0m:\u001b[36madataobs_to_voronoi_geojson\u001b[0m:\u001b[36m265\u001b[0m - \u001b[1mTransformed to geodataframe\u001b[0m\n",
      "\u001b[32m2025-04-10 16:57:34.856\u001b[0m | \u001b[1mINFO    \u001b[0m | \u001b[36mopendvp.anndata_utils\u001b[0m:\u001b[36madataobs_to_voronoi_geojson\u001b[0m:\u001b[36m273\u001b[0m - \u001b[1mBounding box: x_min: 878.0318021201414, x_max: 71605.30902111324, y_min: 6.78003120124805, y_max 42764.688888888886\u001b[0m\n",
      "\u001b[32m2025-04-10 16:57:39.396\u001b[0m | \u001b[1mINFO    \u001b[0m | \u001b[36mopendvp.anndata_utils\u001b[0m:\u001b[36madataobs_to_voronoi_geojson\u001b[0m:\u001b[36m277\u001b[0m - \u001b[1mFiltered out infinite polygons\u001b[0m\n",
      "\u001b[32m2025-04-10 16:57:39.482\u001b[0m | \u001b[1mINFO    \u001b[0m | \u001b[36mopendvp.anndata_utils\u001b[0m:\u001b[36madataobs_to_voronoi_geojson\u001b[0m:\u001b[36m282\u001b[0m - \u001b[1mFiltered out large polygons based on the 98% quantile\u001b[0m\n",
      "\u001b[32m2025-04-10 16:57:39.511\u001b[0m | \u001b[1mINFO    \u001b[0m | \u001b[36mopendvp.anndata_utils\u001b[0m:\u001b[36madataobs_to_voronoi_geojson\u001b[0m:\u001b[36m297\u001b[0m - \u001b[1mMerging polygons for cellular neighborhoods\u001b[0m\n",
      "/opt/homebrew/Caskroom/mambaforge/base/envs/spatialdata/lib/python3.12/site-packages/pyogrio/geopandas.py:662: UserWarning: 'crs' was not provided.  The output dataset will not have projection information defined and may not be usable in other systems.\n",
      "  write(\n",
      "/opt/homebrew/Caskroom/mambaforge/base/envs/spatialdata/lib/python3.12/site-packages/pyogrio/geopandas.py:662: UserWarning: 'crs' was not provided.  The output dataset will not have projection information defined and may not be usable in other systems.\n",
      "  write(\n",
      "\u001b[32m2025-04-10 16:58:24.166\u001b[0m | \u001b[32m\u001b[1mSUCCESS \u001b[0m | \u001b[36mopendvp.anndata_utils\u001b[0m:\u001b[36madataobs_to_voronoi_geojson\u001b[0m:\u001b[36m311\u001b[0m - \u001b[32m\u001b[1mExported 991 to geojson\u001b[0m\n"
     ]
    }
   ],
   "source": [
    "anndata_utils.adataobs_to_voronoi_geojson(\n",
    "    df = adata.obs,\n",
    "    imageid = 991,\n",
    "    subset = None,\n",
    "    category_1 = \"phenotype\",\n",
    "    category_2 = \"spatial_lda_knn21_kmeans_k7\",\n",
    "    output_path = \"../data/perSample/991/qc/\"\n",
    ")"
   ]
  },
  {
   "cell_type": "markdown",
   "metadata": {},
   "source": [
    "## Export 992 RCNs "
   ]
  },
  {
   "cell_type": "code",
   "execution_count": 37,
   "metadata": {},
   "outputs": [
    {
     "data": {
      "text/plain": [
       "AnnData object with n_obs × n_vars = 1005051 × 8\n",
       "    obs: 'CellID', 'Y_centroid', 'X_centroid', 'Area', 'MajorAxisLength', 'MinorAxisLength', 'Eccentricity', 'Orientation', 'Extent', 'Solidity', 'artefact', 'Area_filter_nottoobig', 'Area_filter_nottoolow', 'Area_filter', 'DAPI_ratio', 'DAPI_ratio_pass_nottoolow', 'DAPI_ratio_pass_nottoohigh', 'DAPI_ratio_pass', 'filtering', 'imageid', 'phenotype', 'cell_id', 'spatial_lda_knn7_kmeans_k7', 'spatial_lda_knn14_kmeans_k7', 'spatial_lda_knn21_kmeans_k7', 'spatial_lda_knn30_kmeans_k7', 'spatial_lda_knn40_kmeans_k7', 'spatial_lda_knn50_kmeans_k7'\n",
       "    uns: 'spatial_lda_knn14', 'spatial_lda_knn14_probability', 'spatial_lda_knn21', 'spatial_lda_knn21_probability', 'spatial_lda_knn30', 'spatial_lda_knn30_probability', 'spatial_lda_knn40', 'spatial_lda_knn40_probability', 'spatial_lda_knn50', 'spatial_lda_knn50_probability', 'spatial_lda_knn7', 'spatial_lda_knn7_probability'\n",
       "    layers: 'log'"
      ]
     },
     "execution_count": 37,
     "metadata": {},
     "output_type": "execute_result"
    }
   ],
   "source": [
    "adata_992 = adata[adata.obs.imageid==992].copy()\n",
    "adata_992"
   ]
  },
  {
   "cell_type": "code",
   "execution_count": 38,
   "metadata": {},
   "outputs": [],
   "source": [
    "# 992\n",
    "# load gdf with segmentation mask\n",
    "gdf = gpd.read_file(\"../data/perSample/992/qc/20250410_992_segmentation_as_polygons.geojson\")"
   ]
  },
  {
   "cell_type": "code",
   "execution_count": 39,
   "metadata": {},
   "outputs": [
    {
     "name": "stderr",
     "output_type": "stream",
     "text": [
      "\u001b[32m2025-04-10 17:04:12.072\u001b[0m | \u001b[1mINFO    \u001b[0m | \u001b[36mopendvp.anndata_utils\u001b[0m:\u001b[36mcolor_geojson_w_adata\u001b[0m:\u001b[36m153\u001b[0m - \u001b[1m -- Adding color to polygons for QuPath visualization -- \u001b[0m\n",
      "\u001b[32m2025-04-10 17:04:12.251\u001b[0m | \u001b[33m\u001b[1mWARNING \u001b[0m | \u001b[36mopendvp.anndata_utils\u001b[0m:\u001b[36mcolor_geojson_w_adata\u001b[0m:\u001b[36m163\u001b[0m - \u001b[33m\u001b[1mData types between geodaframe int32 and adataobs col int64 do not match\u001b[0m\n",
      "\u001b[32m2025-04-10 17:04:12.252\u001b[0m | \u001b[1mINFO    \u001b[0m | \u001b[36mopendvp.anndata_utils\u001b[0m:\u001b[36mcolor_geojson_w_adata\u001b[0m:\u001b[36m166\u001b[0m - \u001b[1mMatching gdf[cellId] to adata.obs[CellID]\u001b[0m\n",
      "\u001b[32m2025-04-10 17:04:12.292\u001b[0m | \u001b[1mINFO    \u001b[0m | \u001b[36mopendvp.utils\u001b[0m:\u001b[36mparse_color_for_qupath\u001b[0m:\u001b[36m121\u001b[0m - \u001b[1mParsing colors compatible with QuPath\u001b[0m\n",
      "\u001b[32m2025-04-10 17:04:12.292\u001b[0m | \u001b[1mINFO    \u001b[0m | \u001b[36mopendvp.utils\u001b[0m:\u001b[36mparse_color_for_qupath\u001b[0m:\u001b[36m130\u001b[0m - \u001b[1mCustom color dictionary passed, adapting to QuPath color format\u001b[0m\n",
      "\u001b[32m2025-04-10 17:04:16.254\u001b[0m | \u001b[1mINFO    \u001b[0m | \u001b[36mopendvp.anndata_utils\u001b[0m:\u001b[36mcolor_geojson_w_adata\u001b[0m:\u001b[36m198\u001b[0m - \u001b[1mSimplifying the geometry with tolerance 1\u001b[0m\n",
      "\u001b[32m2025-04-10 17:04:27.025\u001b[0m | \u001b[1mINFO    \u001b[0m | \u001b[36mopendvp.anndata_utils\u001b[0m:\u001b[36mcolor_geojson_w_adata\u001b[0m:\u001b[36m201\u001b[0m - \u001b[1mSimplified all polygons in 10.8 seconds\u001b[0m\n",
      "\u001b[32m2025-04-10 17:04:27.027\u001b[0m | \u001b[1mINFO    \u001b[0m | \u001b[36mopendvp.anndata_utils\u001b[0m:\u001b[36mcolor_geojson_w_adata\u001b[0m:\u001b[36m203\u001b[0m - \u001b[1mWriting polygons as geojson file\u001b[0m\n",
      "\u001b[32m2025-04-10 17:05:01.970\u001b[0m | \u001b[1mINFO    \u001b[0m | \u001b[36mopendvp.anndata_utils\u001b[0m:\u001b[36mcolor_geojson_w_adata\u001b[0m:\u001b[36m206\u001b[0m - \u001b[1mFile written in 34.9 seconds\u001b[0m\n"
     ]
    }
   ],
   "source": [
    "anndata_utils.color_geojson_w_adata(\n",
    "    geodataframe = gdf,\n",
    "    geodataframe_index_key = \"cellId\",\n",
    "    adata=adata_992,\n",
    "    adata_obs_index_key=\"CellID\",\n",
    "    adata_obs_category_key=\"spatial_lda_knn21_kmeans_k7\",\n",
    "    color_dict = loaded_dict,\n",
    "    export_path = \"../data/perSample/992/qc/20250410_992_RCN_mask.geojson\"\n",
    ")"
   ]
  },
  {
   "cell_type": "code",
   "execution_count": 40,
   "metadata": {},
   "outputs": [
    {
     "name": "stderr",
     "output_type": "stream",
     "text": [
      "\u001b[32m2025-04-10 17:06:21.880\u001b[0m | \u001b[34m\u001b[1mDEBUG   \u001b[0m | \u001b[36mopendvp.anndata_utils\u001b[0m:\u001b[36madataobs_to_voronoi_geojson\u001b[0m:\u001b[36m226\u001b[0m - \u001b[34m\u001b[1m df shape: (1615233, 28)\u001b[0m\n",
      "\u001b[32m2025-04-10 17:06:22.076\u001b[0m | \u001b[34m\u001b[1mDEBUG   \u001b[0m | \u001b[36mopendvp.anndata_utils\u001b[0m:\u001b[36madataobs_to_voronoi_geojson\u001b[0m:\u001b[36m234\u001b[0m - \u001b[34m\u001b[1m df shape after imageid subset: (1005051, 28)\u001b[0m\n",
      "\u001b[32m2025-04-10 17:06:22.077\u001b[0m | \u001b[1mINFO    \u001b[0m | \u001b[36mopendvp.anndata_utils\u001b[0m:\u001b[36madataobs_to_voronoi_geojson\u001b[0m:\u001b[36m235\u001b[0m - \u001b[1mProcessing 992, loaded dataframe\u001b[0m\n",
      "\u001b[32m2025-04-10 17:06:22.077\u001b[0m | \u001b[1mINFO    \u001b[0m | \u001b[36mopendvp.anndata_utils\u001b[0m:\u001b[36madataobs_to_voronoi_geojson\u001b[0m:\u001b[36m251\u001b[0m - \u001b[1mRunning Voronoi\u001b[0m\n",
      "\u001b[32m2025-04-10 17:07:03.440\u001b[0m | \u001b[1mINFO    \u001b[0m | \u001b[36mopendvp.anndata_utils\u001b[0m:\u001b[36madataobs_to_voronoi_geojson\u001b[0m:\u001b[36m261\u001b[0m - \u001b[1mVoronoi done\u001b[0m\n",
      "\u001b[32m2025-04-10 17:07:03.637\u001b[0m | \u001b[1mINFO    \u001b[0m | \u001b[36mopendvp.anndata_utils\u001b[0m:\u001b[36madataobs_to_voronoi_geojson\u001b[0m:\u001b[36m265\u001b[0m - \u001b[1mTransformed to geodataframe\u001b[0m\n",
      "\u001b[32m2025-04-10 17:07:03.642\u001b[0m | \u001b[1mINFO    \u001b[0m | \u001b[36mopendvp.anndata_utils\u001b[0m:\u001b[36madataobs_to_voronoi_geojson\u001b[0m:\u001b[36m273\u001b[0m - \u001b[1mBounding box: x_min: 2216.9608763693273, x_max: 70848.77680906713, y_min: 20.43081312410842, y_max 47084.98548812665\u001b[0m\n",
      "\u001b[32m2025-04-10 17:07:11.118\u001b[0m | \u001b[1mINFO    \u001b[0m | \u001b[36mopendvp.anndata_utils\u001b[0m:\u001b[36madataobs_to_voronoi_geojson\u001b[0m:\u001b[36m277\u001b[0m - \u001b[1mFiltered out infinite polygons\u001b[0m\n",
      "\u001b[32m2025-04-10 17:07:11.258\u001b[0m | \u001b[1mINFO    \u001b[0m | \u001b[36mopendvp.anndata_utils\u001b[0m:\u001b[36madataobs_to_voronoi_geojson\u001b[0m:\u001b[36m282\u001b[0m - \u001b[1mFiltered out large polygons based on the 98% quantile\u001b[0m\n",
      "\u001b[32m2025-04-10 17:07:11.328\u001b[0m | \u001b[1mINFO    \u001b[0m | \u001b[36mopendvp.anndata_utils\u001b[0m:\u001b[36madataobs_to_voronoi_geojson\u001b[0m:\u001b[36m297\u001b[0m - \u001b[1mMerging polygons for cellular neighborhoods\u001b[0m\n",
      "/opt/homebrew/Caskroom/mambaforge/base/envs/spatialdata/lib/python3.12/site-packages/pyogrio/geopandas.py:662: UserWarning: 'crs' was not provided.  The output dataset will not have projection information defined and may not be usable in other systems.\n",
      "  write(\n",
      "/opt/homebrew/Caskroom/mambaforge/base/envs/spatialdata/lib/python3.12/site-packages/pyogrio/geopandas.py:662: UserWarning: 'crs' was not provided.  The output dataset will not have projection information defined and may not be usable in other systems.\n",
      "  write(\n",
      "\u001b[32m2025-04-10 17:08:21.978\u001b[0m | \u001b[32m\u001b[1mSUCCESS \u001b[0m | \u001b[36mopendvp.anndata_utils\u001b[0m:\u001b[36madataobs_to_voronoi_geojson\u001b[0m:\u001b[36m311\u001b[0m - \u001b[32m\u001b[1mExported 992 to geojson\u001b[0m\n"
     ]
    }
   ],
   "source": [
    "anndata_utils.adataobs_to_voronoi_geojson(\n",
    "    df = adata.obs,\n",
    "    imageid = 992,\n",
    "    subset = None,\n",
    "    category_1 = \"phenotype\",\n",
    "    category_2 = \"spatial_lda_knn21_kmeans_k7\",\n",
    "    output_path = \"../data/perSample/992/qc/\"\n",
    ")"
   ]
  },
  {
   "cell_type": "markdown",
   "metadata": {},
   "source": [
    "# 15.04.2025 export RCN in mask in new colors"
   ]
  },
  {
   "cell_type": "code",
   "execution_count": 11,
   "metadata": {},
   "outputs": [],
   "source": [
    "adata = ad.read_h5ad(\"../data/perSample/991_992/2_spatial_distance/20250411_1544_2_spatial_distance_adata.h5ad\")"
   ]
  },
  {
   "cell_type": "code",
   "execution_count": 12,
   "metadata": {},
   "outputs": [
    {
     "data": {
      "text/plain": [
       "AnnData object with n_obs × n_vars = 610182 × 8\n",
       "    obs: 'CellID', 'Y_centroid', 'X_centroid', 'Area', 'MajorAxisLength', 'MinorAxisLength', 'Eccentricity', 'Orientation', 'Extent', 'Solidity', 'artefact', 'Area_filter_nottoobig', 'Area_filter_nottoolow', 'Area_filter', 'DAPI_ratio', 'DAPI_ratio_pass_nottoolow', 'DAPI_ratio_pass_nottoohigh', 'DAPI_ratio_pass', 'filtering', 'imageid', 'phenotype', 'cell_id', 'spatial_lda_knn7_kmeans_k7', 'spatial_lda_knn14_kmeans_k7', 'spatial_lda_knn21_kmeans_k7', 'spatial_lda_knn30_kmeans_k7', 'spatial_lda_knn40_kmeans_k7', 'spatial_lda_knn50_kmeans_k7'\n",
       "    uns: 'spatial_distance', 'spatial_interaction_radius', 'spatial_interaction_radius_perimage', 'spatial_lda_knn14', 'spatial_lda_knn14_probability', 'spatial_lda_knn21', 'spatial_lda_knn21_probability', 'spatial_lda_knn30', 'spatial_lda_knn30_probability', 'spatial_lda_knn40', 'spatial_lda_knn40_probability', 'spatial_lda_knn50', 'spatial_lda_knn50_probability', 'spatial_lda_knn7', 'spatial_lda_knn7_probability'\n",
       "    layers: 'log'"
      ]
     },
     "execution_count": 12,
     "metadata": {},
     "output_type": "execute_result"
    }
   ],
   "source": [
    "adata_991 = adata[adata.obs.imageid==991].copy()\n",
    "adata_991"
   ]
  },
  {
   "cell_type": "code",
   "execution_count": 13,
   "metadata": {},
   "outputs": [],
   "source": [
    "import json\n",
    "#load color_dict\n",
    "with open(\"../assets/RCN_colors.json\", \"r\") as f:\n",
    "    loaded_dict = json.load(f)"
   ]
  },
  {
   "cell_type": "code",
   "execution_count": 14,
   "metadata": {},
   "outputs": [],
   "source": [
    "# 991\n",
    "# load gdf with segmentation mask\n",
    "gdf = gpd.read_file(\"../data/perSample/991/qc/20250410_991_segmentation_as_polygons.geojson\")"
   ]
  },
  {
   "cell_type": "code",
   "execution_count": 15,
   "metadata": {},
   "outputs": [
    {
     "name": "stderr",
     "output_type": "stream",
     "text": [
      "\u001b[32m2025-04-15 14:59:47.331\u001b[0m | \u001b[1mINFO    \u001b[0m | \u001b[36mopendvp.anndata_utils\u001b[0m:\u001b[36mcolor_geojson_w_adata\u001b[0m:\u001b[36m153\u001b[0m - \u001b[1m -- Adding color to polygons for QuPath visualization -- \u001b[0m\n",
      "\u001b[32m2025-04-15 14:59:47.454\u001b[0m | \u001b[33m\u001b[1mWARNING \u001b[0m | \u001b[36mopendvp.anndata_utils\u001b[0m:\u001b[36mcolor_geojson_w_adata\u001b[0m:\u001b[36m163\u001b[0m - \u001b[33m\u001b[1mData types between geodaframe int32 and adataobs col int64 do not match\u001b[0m\n",
      "\u001b[32m2025-04-15 14:59:47.455\u001b[0m | \u001b[1mINFO    \u001b[0m | \u001b[36mopendvp.anndata_utils\u001b[0m:\u001b[36mcolor_geojson_w_adata\u001b[0m:\u001b[36m166\u001b[0m - \u001b[1mMatching gdf[cellId] to adata.obs[CellID]\u001b[0m\n",
      "\u001b[32m2025-04-15 14:59:47.480\u001b[0m | \u001b[1mINFO    \u001b[0m | \u001b[36mopendvp.utils\u001b[0m:\u001b[36mparse_color_for_qupath\u001b[0m:\u001b[36m121\u001b[0m - \u001b[1mParsing colors compatible with QuPath\u001b[0m\n",
      "\u001b[32m2025-04-15 14:59:47.481\u001b[0m | \u001b[1mINFO    \u001b[0m | \u001b[36mopendvp.utils\u001b[0m:\u001b[36mparse_color_for_qupath\u001b[0m:\u001b[36m130\u001b[0m - \u001b[1mCustom color dictionary passed, adapting to QuPath color format\u001b[0m\n",
      "\u001b[32m2025-04-15 14:59:49.762\u001b[0m | \u001b[1mINFO    \u001b[0m | \u001b[36mopendvp.anndata_utils\u001b[0m:\u001b[36mcolor_geojson_w_adata\u001b[0m:\u001b[36m189\u001b[0m - \u001b[1mSimplifying the geometry with tolerance 1\u001b[0m\n",
      "\u001b[32m2025-04-15 14:59:55.896\u001b[0m | \u001b[1mINFO    \u001b[0m | \u001b[36mopendvp.anndata_utils\u001b[0m:\u001b[36mcolor_geojson_w_adata\u001b[0m:\u001b[36m192\u001b[0m - \u001b[1mSimplified all polygons in 6.1 seconds\u001b[0m\n",
      "\u001b[32m2025-04-15 14:59:55.897\u001b[0m | \u001b[1mINFO    \u001b[0m | \u001b[36mopendvp.anndata_utils\u001b[0m:\u001b[36mcolor_geojson_w_adata\u001b[0m:\u001b[36m194\u001b[0m - \u001b[1mWriting polygons as geojson file\u001b[0m\n",
      "\u001b[32m2025-04-15 15:00:16.471\u001b[0m | \u001b[1mINFO    \u001b[0m | \u001b[36mopendvp.anndata_utils\u001b[0m:\u001b[36mcolor_geojson_w_adata\u001b[0m:\u001b[36m197\u001b[0m - \u001b[1mFile written in 20.6 seconds\u001b[0m\n"
     ]
    }
   ],
   "source": [
    "anndata_utils.color_geojson_w_adata(\n",
    "    geodataframe = gdf,\n",
    "    geodataframe_index_key = \"cellId\",\n",
    "    adata=adata_991,\n",
    "    adata_obs_index_key=\"CellID\",\n",
    "    adata_obs_category_key=\"spatial_lda_knn21_kmeans_k7\",\n",
    "    color_dict = loaded_dict,\n",
    "    export_path = \"../data/perSample/991/qc/20250415_991_RCN_mask.geojson\"\n",
    ")"
   ]
  },
  {
   "cell_type": "code",
   "execution_count": 16,
   "metadata": {},
   "outputs": [
    {
     "data": {
      "text/plain": [
       "AnnData object with n_obs × n_vars = 1005051 × 8\n",
       "    obs: 'CellID', 'Y_centroid', 'X_centroid', 'Area', 'MajorAxisLength', 'MinorAxisLength', 'Eccentricity', 'Orientation', 'Extent', 'Solidity', 'artefact', 'Area_filter_nottoobig', 'Area_filter_nottoolow', 'Area_filter', 'DAPI_ratio', 'DAPI_ratio_pass_nottoolow', 'DAPI_ratio_pass_nottoohigh', 'DAPI_ratio_pass', 'filtering', 'imageid', 'phenotype', 'cell_id', 'spatial_lda_knn7_kmeans_k7', 'spatial_lda_knn14_kmeans_k7', 'spatial_lda_knn21_kmeans_k7', 'spatial_lda_knn30_kmeans_k7', 'spatial_lda_knn40_kmeans_k7', 'spatial_lda_knn50_kmeans_k7'\n",
       "    uns: 'spatial_distance', 'spatial_interaction_radius', 'spatial_interaction_radius_perimage', 'spatial_lda_knn14', 'spatial_lda_knn14_probability', 'spatial_lda_knn21', 'spatial_lda_knn21_probability', 'spatial_lda_knn30', 'spatial_lda_knn30_probability', 'spatial_lda_knn40', 'spatial_lda_knn40_probability', 'spatial_lda_knn50', 'spatial_lda_knn50_probability', 'spatial_lda_knn7', 'spatial_lda_knn7_probability'\n",
       "    layers: 'log'"
      ]
     },
     "execution_count": 16,
     "metadata": {},
     "output_type": "execute_result"
    }
   ],
   "source": [
    "adata_992 = adata[adata.obs.imageid==992].copy()\n",
    "adata_992"
   ]
  },
  {
   "cell_type": "code",
   "execution_count": 17,
   "metadata": {},
   "outputs": [
    {
     "data": {
      "text/html": [
       "<div>\n",
       "<style scoped>\n",
       "    .dataframe tbody tr th:only-of-type {\n",
       "        vertical-align: middle;\n",
       "    }\n",
       "\n",
       "    .dataframe tbody tr th {\n",
       "        vertical-align: top;\n",
       "    }\n",
       "\n",
       "    .dataframe thead th {\n",
       "        text-align: right;\n",
       "    }\n",
       "</style>\n",
       "<table border=\"1\" class=\"dataframe\">\n",
       "  <thead>\n",
       "    <tr style=\"text-align: right;\">\n",
       "      <th></th>\n",
       "      <th>cellId</th>\n",
       "      <th>geometry</th>\n",
       "    </tr>\n",
       "  </thead>\n",
       "  <tbody>\n",
       "    <tr>\n",
       "      <th>0</th>\n",
       "      <td>202520</td>\n",
       "      <td>POLYGON ((68595 0, 68596 21, 68613 21, 68615 2...</td>\n",
       "    </tr>\n",
       "    <tr>\n",
       "      <th>1</th>\n",
       "      <td>202521</td>\n",
       "      <td>POLYGON ((71124 0, 71121 6, 71121 11, 71123 17...</td>\n",
       "    </tr>\n",
       "    <tr>\n",
       "      <th>2</th>\n",
       "      <td>906503</td>\n",
       "      <td>POLYGON ((44292 12, 44284 17, 44283 26, 44285 ...</td>\n",
       "    </tr>\n",
       "    <tr>\n",
       "      <th>3</th>\n",
       "      <td>202522</td>\n",
       "      <td>POLYGON ((72803 0, 72801 12, 72803 32, 72807 3...</td>\n",
       "    </tr>\n",
       "    <tr>\n",
       "      <th>4</th>\n",
       "      <td>207429</td>\n",
       "      <td>POLYGON ((43404 9, 43395 13, 43393 24, 43395 2...</td>\n",
       "    </tr>\n",
       "  </tbody>\n",
       "</table>\n",
       "</div>"
      ],
      "text/plain": [
       "   cellId                                           geometry\n",
       "0  202520  POLYGON ((68595 0, 68596 21, 68613 21, 68615 2...\n",
       "1  202521  POLYGON ((71124 0, 71121 6, 71121 11, 71123 17...\n",
       "2  906503  POLYGON ((44292 12, 44284 17, 44283 26, 44285 ...\n",
       "3  202522  POLYGON ((72803 0, 72801 12, 72803 32, 72807 3...\n",
       "4  207429  POLYGON ((43404 9, 43395 13, 43393 24, 43395 2..."
      ]
     },
     "execution_count": 17,
     "metadata": {},
     "output_type": "execute_result"
    }
   ],
   "source": [
    "gdf = gpd.read_file(\"../data/perSample/992/qc/20250410_992_segmentation_as_polygons.geojson\")\n",
    "gdf.head()"
   ]
  },
  {
   "cell_type": "code",
   "execution_count": 18,
   "metadata": {},
   "outputs": [
    {
     "name": "stderr",
     "output_type": "stream",
     "text": [
      "\u001b[32m2025-04-15 15:01:23.404\u001b[0m | \u001b[1mINFO    \u001b[0m | \u001b[36mopendvp.anndata_utils\u001b[0m:\u001b[36mcolor_geojson_w_adata\u001b[0m:\u001b[36m153\u001b[0m - \u001b[1m -- Adding color to polygons for QuPath visualization -- \u001b[0m\n",
      "\u001b[32m2025-04-15 15:01:23.521\u001b[0m | \u001b[33m\u001b[1mWARNING \u001b[0m | \u001b[36mopendvp.anndata_utils\u001b[0m:\u001b[36mcolor_geojson_w_adata\u001b[0m:\u001b[36m163\u001b[0m - \u001b[33m\u001b[1mData types between geodaframe int32 and adataobs col int64 do not match\u001b[0m\n",
      "\u001b[32m2025-04-15 15:01:23.521\u001b[0m | \u001b[1mINFO    \u001b[0m | \u001b[36mopendvp.anndata_utils\u001b[0m:\u001b[36mcolor_geojson_w_adata\u001b[0m:\u001b[36m166\u001b[0m - \u001b[1mMatching gdf[cellId] to adata.obs[CellID]\u001b[0m\n",
      "\u001b[32m2025-04-15 15:01:23.551\u001b[0m | \u001b[1mINFO    \u001b[0m | \u001b[36mopendvp.utils\u001b[0m:\u001b[36mparse_color_for_qupath\u001b[0m:\u001b[36m121\u001b[0m - \u001b[1mParsing colors compatible with QuPath\u001b[0m\n",
      "\u001b[32m2025-04-15 15:01:23.552\u001b[0m | \u001b[1mINFO    \u001b[0m | \u001b[36mopendvp.utils\u001b[0m:\u001b[36mparse_color_for_qupath\u001b[0m:\u001b[36m130\u001b[0m - \u001b[1mCustom color dictionary passed, adapting to QuPath color format\u001b[0m\n",
      "\u001b[32m2025-04-15 15:01:27.386\u001b[0m | \u001b[1mINFO    \u001b[0m | \u001b[36mopendvp.anndata_utils\u001b[0m:\u001b[36mcolor_geojson_w_adata\u001b[0m:\u001b[36m189\u001b[0m - \u001b[1mSimplifying the geometry with tolerance 1\u001b[0m\n",
      "\u001b[32m2025-04-15 15:01:38.213\u001b[0m | \u001b[1mINFO    \u001b[0m | \u001b[36mopendvp.anndata_utils\u001b[0m:\u001b[36mcolor_geojson_w_adata\u001b[0m:\u001b[36m192\u001b[0m - \u001b[1mSimplified all polygons in 10.8 seconds\u001b[0m\n",
      "\u001b[32m2025-04-15 15:01:38.220\u001b[0m | \u001b[1mINFO    \u001b[0m | \u001b[36mopendvp.anndata_utils\u001b[0m:\u001b[36mcolor_geojson_w_adata\u001b[0m:\u001b[36m194\u001b[0m - \u001b[1mWriting polygons as geojson file\u001b[0m\n",
      "\u001b[32m2025-04-15 15:02:14.275\u001b[0m | \u001b[1mINFO    \u001b[0m | \u001b[36mopendvp.anndata_utils\u001b[0m:\u001b[36mcolor_geojson_w_adata\u001b[0m:\u001b[36m197\u001b[0m - \u001b[1mFile written in 36.1 seconds\u001b[0m\n"
     ]
    }
   ],
   "source": [
    "anndata_utils.color_geojson_w_adata(\n",
    "    geodataframe = gdf,\n",
    "    geodataframe_index_key = \"cellId\",\n",
    "    adata=adata_992,\n",
    "    adata_obs_index_key=\"CellID\",\n",
    "    adata_obs_category_key=\"spatial_lda_knn21_kmeans_k7\",\n",
    "    color_dict = loaded_dict,\n",
    "    export_path = \"../data/perSample/992/qc/20250415_992_RCN_mask.geojson\"\n",
    ")"
   ]
  },
  {
   "cell_type": "code",
   "execution_count": 23,
   "metadata": {},
   "outputs": [
    {
     "data": {
      "text/plain": [
       "<module 'opendvp.anndata_utils' from '/Users/jnimoca/Jose_BI/1_Pipelines/openDVP/src/opendvp/anndata_utils.py'>"
      ]
     },
     "execution_count": 23,
     "metadata": {},
     "output_type": "execute_result"
    }
   ],
   "source": [
    "import importlib\n",
    "importlib.reload(anndata_utils)"
   ]
  },
  {
   "cell_type": "code",
   "execution_count": 21,
   "metadata": {},
   "outputs": [
    {
     "data": {
      "text/plain": [
       "{'0': '#FFA3FE',\n",
       " '1': '#F5887F',\n",
       " '2': '#5B5BDB',\n",
       " '3': '#8A7542',\n",
       " '4': '#959191',\n",
       " '5': '#FF973E',\n",
       " '6': '#AAFAB1'}"
      ]
     },
     "execution_count": 21,
     "metadata": {},
     "output_type": "execute_result"
    }
   ],
   "source": [
    "with open(\"../assets/RCN_colors.json\") as f:\n",
    "    RCN_colors = json.load(f)\n",
    "RCN_colors"
   ]
  },
  {
   "cell_type": "code",
   "execution_count": 24,
   "metadata": {},
   "outputs": [
    {
     "name": "stderr",
     "output_type": "stream",
     "text": [
      "\u001b[32m2025-04-15 17:27:31.850\u001b[0m | \u001b[1mINFO    \u001b[0m | \u001b[36mopendvp.anndata_utils\u001b[0m:\u001b[36madataobs_to_voronoi_geojson\u001b[0m:\u001b[36m277\u001b[0m - \u001b[1m[991 992]\u001b[0m\n",
      "\u001b[32m2025-04-15 17:27:31.851\u001b[0m | \u001b[1mINFO    \u001b[0m | \u001b[36mopendvp.anndata_utils\u001b[0m:\u001b[36madataobs_to_voronoi_geojson\u001b[0m:\u001b[36m278\u001b[0m - \u001b[1mSubset adata col dtype: int64\u001b[0m\n",
      "\u001b[32m2025-04-15 17:27:31.953\u001b[0m | \u001b[1mINFO    \u001b[0m | \u001b[36mopendvp.anndata_utils\u001b[0m:\u001b[36madataobs_to_voronoi_geojson\u001b[0m:\u001b[36m280\u001b[0m - \u001b[1m Shape after subset: (610182, 28)\u001b[0m\n",
      "\u001b[32m2025-04-15 17:27:31.954\u001b[0m | \u001b[1mINFO    \u001b[0m | \u001b[36mopendvp.anndata_utils\u001b[0m:\u001b[36madataobs_to_voronoi_geojson\u001b[0m:\u001b[36m283\u001b[0m - \u001b[1mRunning Voronoi\u001b[0m\n",
      "\u001b[32m2025-04-15 17:28:11.769\u001b[0m | \u001b[1mINFO    \u001b[0m | \u001b[36mopendvp.anndata_utils\u001b[0m:\u001b[36madataobs_to_voronoi_geojson\u001b[0m:\u001b[36m286\u001b[0m - \u001b[1mVoronoi done\u001b[0m\n",
      "\u001b[32m2025-04-15 17:28:11.831\u001b[0m | \u001b[1mINFO    \u001b[0m | \u001b[36mopendvp.anndata_utils\u001b[0m:\u001b[36madataobs_to_voronoi_geojson\u001b[0m:\u001b[36m290\u001b[0m - \u001b[1mTransformed to geodataframe\u001b[0m\n",
      "\u001b[32m2025-04-15 17:28:11.833\u001b[0m | \u001b[1mINFO    \u001b[0m | \u001b[36mopendvp.anndata_utils\u001b[0m:\u001b[36madataobs_to_voronoi_geojson\u001b[0m:\u001b[36m295\u001b[0m - \u001b[1mBounding box: x_min: 878.0, x_max: 71605.3, y_min: 6.8, y_max 42764.7\u001b[0m\n",
      "\u001b[32m2025-04-15 17:28:13.091\u001b[0m | \u001b[1mINFO    \u001b[0m | \u001b[36mopendvp.anndata_utils\u001b[0m:\u001b[36madataobs_to_voronoi_geojson\u001b[0m:\u001b[36m300\u001b[0m - \u001b[1mRetaining 609923 valid polygons after filtering large and infinite ones.\u001b[0m\n",
      "\u001b[32m2025-04-15 17:28:13.169\u001b[0m | \u001b[1mINFO    \u001b[0m | \u001b[36mopendvp.anndata_utils\u001b[0m:\u001b[36madataobs_to_voronoi_geojson\u001b[0m:\u001b[36m305\u001b[0m - \u001b[1mFiltered out large polygons based on the 0.98 quantile\u001b[0m\n",
      "\u001b[32m2025-04-15 17:28:13.171\u001b[0m | \u001b[1mINFO    \u001b[0m | \u001b[36mopendvp.anndata_utils\u001b[0m:\u001b[36madataobs_to_voronoi_geojson\u001b[0m:\u001b[36m313\u001b[0m - \u001b[1mMerging polygons adjacent and of same category\u001b[0m\n",
      "\u001b[32m2025-04-15 17:28:32.241\u001b[0m | \u001b[1mINFO    \u001b[0m | \u001b[36mopendvp.utils\u001b[0m:\u001b[36mparse_color_for_qupath\u001b[0m:\u001b[36m121\u001b[0m - \u001b[1mParsing colors compatible with QuPath\u001b[0m\n",
      "\u001b[32m2025-04-15 17:28:32.241\u001b[0m | \u001b[1mINFO    \u001b[0m | \u001b[36mopendvp.utils\u001b[0m:\u001b[36mparse_color_for_qupath\u001b[0m:\u001b[36m130\u001b[0m - \u001b[1mCustom color dictionary passed, adapting to QuPath color format\u001b[0m\n",
      "/opt/homebrew/Caskroom/mambaforge/base/envs/spatialdata/lib/python3.12/site-packages/pyogrio/geopandas.py:662: UserWarning: 'crs' was not provided.  The output dataset will not have projection information defined and may not be usable in other systems.\n",
      "  write(\n",
      "\u001b[32m2025-04-15 17:28:34.248\u001b[0m | \u001b[32m\u001b[1mSUCCESS \u001b[0m | \u001b[36mopendvp.anndata_utils\u001b[0m:\u001b[36madataobs_to_voronoi_geojson\u001b[0m:\u001b[36m327\u001b[0m - \u001b[32m\u001b[1mExported Voronoi projection to ../data/perSample/991/qc/20250415_voronoi_RCN.geojson\u001b[0m\n"
     ]
    }
   ],
   "source": [
    "anndata_utils.adataobs_to_voronoi_geojson(\n",
    "                        adata = adata,\n",
    "                        subset_adata_key = \"imageid\", \n",
    "                        subset_adata_value = 991,\n",
    "                        color_by_adata_key = \"spatial_lda_knn21_kmeans_k7\",\n",
    "                        color_dict = RCN_colors,\n",
    "                        threshold_quantile = 0.98,\n",
    "                        merge_adjacent_shapes = True,\n",
    "                        save_as_detection = True,  \n",
    "                        output_filepath = \"../data/perSample/991/qc/20250415_voronoi_RCN.geojson\"    \n",
    "                        )"
   ]
  },
  {
   "cell_type": "markdown",
   "metadata": {},
   "source": [
    "## Count frequencies"
   ]
  },
  {
   "cell_type": "code",
   "execution_count": null,
   "metadata": {},
   "outputs": [],
   "source": [
    "x_axis = \"spatial_lda_knn21_kmeans_k7\"\n",
    "y_axis = \"phenotype\"\n",
    "\n",
    "df = pd.DataFrame(data = adata.obs[[x_axis, y_axis]])"
   ]
  },
  {
   "cell_type": "code",
   "execution_count": 30,
   "metadata": {},
   "outputs": [
    {
     "data": {
      "text/html": [
       "<div>\n",
       "<style scoped>\n",
       "    .dataframe tbody tr th:only-of-type {\n",
       "        vertical-align: middle;\n",
       "    }\n",
       "\n",
       "    .dataframe tbody tr th {\n",
       "        vertical-align: top;\n",
       "    }\n",
       "\n",
       "    .dataframe thead th {\n",
       "        text-align: right;\n",
       "    }\n",
       "</style>\n",
       "<table border=\"1\" class=\"dataframe\">\n",
       "  <thead>\n",
       "    <tr style=\"text-align: right;\">\n",
       "      <th></th>\n",
       "      <th>spatial_lda_knn21_kmeans_k7</th>\n",
       "      <th>phenotype</th>\n",
       "    </tr>\n",
       "  </thead>\n",
       "  <tbody>\n",
       "    <tr>\n",
       "      <th>0</th>\n",
       "      <td>2</td>\n",
       "      <td>Cancer_cells</td>\n",
       "    </tr>\n",
       "    <tr>\n",
       "      <th>1</th>\n",
       "      <td>2</td>\n",
       "      <td>Cancer_cells</td>\n",
       "    </tr>\n",
       "    <tr>\n",
       "      <th>2</th>\n",
       "      <td>1</td>\n",
       "      <td>Cancer_cells</td>\n",
       "    </tr>\n",
       "    <tr>\n",
       "      <th>3</th>\n",
       "      <td>0</td>\n",
       "      <td>CD4_Tcells</td>\n",
       "    </tr>\n",
       "    <tr>\n",
       "      <th>4</th>\n",
       "      <td>1</td>\n",
       "      <td>Cancer_cells</td>\n",
       "    </tr>\n",
       "    <tr>\n",
       "      <th>...</th>\n",
       "      <td>...</td>\n",
       "      <td>...</td>\n",
       "    </tr>\n",
       "    <tr>\n",
       "      <th>1134342</th>\n",
       "      <td>3</td>\n",
       "      <td>Unknown</td>\n",
       "    </tr>\n",
       "    <tr>\n",
       "      <th>1134343</th>\n",
       "      <td>3</td>\n",
       "      <td>Cancer_cells</td>\n",
       "    </tr>\n",
       "    <tr>\n",
       "      <th>1134344</th>\n",
       "      <td>3</td>\n",
       "      <td>Cancer_cells</td>\n",
       "    </tr>\n",
       "    <tr>\n",
       "      <th>1134345</th>\n",
       "      <td>1</td>\n",
       "      <td>Cancer_cells</td>\n",
       "    </tr>\n",
       "    <tr>\n",
       "      <th>1134346</th>\n",
       "      <td>1</td>\n",
       "      <td>Cancer_cells</td>\n",
       "    </tr>\n",
       "  </tbody>\n",
       "</table>\n",
       "<p>1615233 rows × 2 columns</p>\n",
       "</div>"
      ],
      "text/plain": [
       "        spatial_lda_knn21_kmeans_k7     phenotype\n",
       "0                                 2  Cancer_cells\n",
       "1                                 2  Cancer_cells\n",
       "2                                 1  Cancer_cells\n",
       "3                                 0    CD4_Tcells\n",
       "4                                 1  Cancer_cells\n",
       "...                             ...           ...\n",
       "1134342                           3       Unknown\n",
       "1134343                           3  Cancer_cells\n",
       "1134344                           3  Cancer_cells\n",
       "1134345                           1  Cancer_cells\n",
       "1134346                           1  Cancer_cells\n",
       "\n",
       "[1615233 rows x 2 columns]"
      ]
     },
     "execution_count": 30,
     "metadata": {},
     "output_type": "execute_result"
    }
   ],
   "source": [
    "df"
   ]
  },
  {
   "cell_type": "code",
   "execution_count": 31,
   "metadata": {},
   "outputs": [
    {
     "name": "stderr",
     "output_type": "stream",
     "text": [
      "/var/folders/x7/grkjlk8s223dy6234rnz1885mxz2_6/T/ipykernel_13120/1564569861.py:1: FutureWarning: The default of observed=False is deprecated and will be changed to True in a future version of pandas. Pass observed=False to retain current behavior or observed=True to adopt the future default and silence this warning.\n",
      "  total = df.groupby([x_axis, y_axis]).size().unstack().fillna(0).sum(axis=1)\n"
     ]
    },
    {
     "data": {
      "text/plain": [
       "spatial_lda_knn21_kmeans_k7\n",
       "0    103248\n",
       "1    793529\n",
       "2    144619\n",
       "3    121190\n",
       "4    240363\n",
       "5    124245\n",
       "6     88039\n",
       "dtype: int64"
      ]
     },
     "execution_count": 31,
     "metadata": {},
     "output_type": "execute_result"
    }
   ],
   "source": [
    "total = df.groupby([x_axis, y_axis]).size().unstack().fillna(0).sum(axis=1)\n",
    "total"
   ]
  },
  {
   "cell_type": "code",
   "execution_count": 32,
   "metadata": {},
   "outputs": [
    {
     "name": "stderr",
     "output_type": "stream",
     "text": [
      "/var/folders/x7/grkjlk8s223dy6234rnz1885mxz2_6/T/ipykernel_13120/4257160829.py:2: FutureWarning: The default of observed=False is deprecated and will be changed to True in a future version of pandas. Pass observed=False to retain current behavior or observed=True to adopt the future default and silence this warning.\n",
      "  df.groupby([x_axis, y_axis])\n"
     ]
    },
    {
     "data": {
      "text/html": [
       "<div>\n",
       "<style scoped>\n",
       "    .dataframe tbody tr th:only-of-type {\n",
       "        vertical-align: middle;\n",
       "    }\n",
       "\n",
       "    .dataframe tbody tr th {\n",
       "        vertical-align: top;\n",
       "    }\n",
       "\n",
       "    .dataframe thead th {\n",
       "        text-align: right;\n",
       "    }\n",
       "</style>\n",
       "<table border=\"1\" class=\"dataframe\">\n",
       "  <thead>\n",
       "    <tr style=\"text-align: right;\">\n",
       "      <th>phenotype</th>\n",
       "      <th>B_cells</th>\n",
       "      <th>CD4_Tcells</th>\n",
       "      <th>CD8_Tcells</th>\n",
       "      <th>COL1A1_cells</th>\n",
       "      <th>Cancer_cells</th>\n",
       "      <th>Macrophages</th>\n",
       "      <th>Unknown</th>\n",
       "      <th>Vimentin_cells</th>\n",
       "    </tr>\n",
       "    <tr>\n",
       "      <th>spatial_lda_knn21_kmeans_k7</th>\n",
       "      <th></th>\n",
       "      <th></th>\n",
       "      <th></th>\n",
       "      <th></th>\n",
       "      <th></th>\n",
       "      <th></th>\n",
       "      <th></th>\n",
       "      <th></th>\n",
       "    </tr>\n",
       "  </thead>\n",
       "  <tbody>\n",
       "    <tr>\n",
       "      <th>0</th>\n",
       "      <td>0.022257</td>\n",
       "      <td>0.368075</td>\n",
       "      <td>0.003409</td>\n",
       "      <td>0.206948</td>\n",
       "      <td>0.103789</td>\n",
       "      <td>0.015313</td>\n",
       "      <td>0.273361</td>\n",
       "      <td>0.006848</td>\n",
       "    </tr>\n",
       "    <tr>\n",
       "      <th>1</th>\n",
       "      <td>0.000260</td>\n",
       "      <td>0.016970</td>\n",
       "      <td>0.002311</td>\n",
       "      <td>0.014575</td>\n",
       "      <td>0.924284</td>\n",
       "      <td>0.008484</td>\n",
       "      <td>0.029821</td>\n",
       "      <td>0.003295</td>\n",
       "    </tr>\n",
       "    <tr>\n",
       "      <th>2</th>\n",
       "      <td>0.000415</td>\n",
       "      <td>0.180481</td>\n",
       "      <td>0.000615</td>\n",
       "      <td>0.009805</td>\n",
       "      <td>0.711352</td>\n",
       "      <td>0.021021</td>\n",
       "      <td>0.070406</td>\n",
       "      <td>0.005905</td>\n",
       "    </tr>\n",
       "    <tr>\n",
       "      <th>3</th>\n",
       "      <td>0.000767</td>\n",
       "      <td>0.028154</td>\n",
       "      <td>0.000866</td>\n",
       "      <td>0.032692</td>\n",
       "      <td>0.435894</td>\n",
       "      <td>0.015661</td>\n",
       "      <td>0.480510</td>\n",
       "      <td>0.005454</td>\n",
       "    </tr>\n",
       "    <tr>\n",
       "      <th>4</th>\n",
       "      <td>0.001764</td>\n",
       "      <td>0.054705</td>\n",
       "      <td>0.000724</td>\n",
       "      <td>0.034585</td>\n",
       "      <td>0.013604</td>\n",
       "      <td>0.002866</td>\n",
       "      <td>0.870517</td>\n",
       "      <td>0.021235</td>\n",
       "    </tr>\n",
       "    <tr>\n",
       "      <th>5</th>\n",
       "      <td>0.000209</td>\n",
       "      <td>0.040171</td>\n",
       "      <td>0.002986</td>\n",
       "      <td>0.576804</td>\n",
       "      <td>0.044356</td>\n",
       "      <td>0.004910</td>\n",
       "      <td>0.109735</td>\n",
       "      <td>0.220830</td>\n",
       "    </tr>\n",
       "    <tr>\n",
       "      <th>6</th>\n",
       "      <td>0.009757</td>\n",
       "      <td>0.688127</td>\n",
       "      <td>0.090131</td>\n",
       "      <td>0.022683</td>\n",
       "      <td>0.030566</td>\n",
       "      <td>0.006690</td>\n",
       "      <td>0.112053</td>\n",
       "      <td>0.039994</td>\n",
       "    </tr>\n",
       "  </tbody>\n",
       "</table>\n",
       "</div>"
      ],
      "text/plain": [
       "phenotype                     B_cells  CD4_Tcells  CD8_Tcells  COL1A1_cells  \\\n",
       "spatial_lda_knn21_kmeans_k7                                                   \n",
       "0                            0.022257    0.368075    0.003409      0.206948   \n",
       "1                            0.000260    0.016970    0.002311      0.014575   \n",
       "2                            0.000415    0.180481    0.000615      0.009805   \n",
       "3                            0.000767    0.028154    0.000866      0.032692   \n",
       "4                            0.001764    0.054705    0.000724      0.034585   \n",
       "5                            0.000209    0.040171    0.002986      0.576804   \n",
       "6                            0.009757    0.688127    0.090131      0.022683   \n",
       "\n",
       "phenotype                    Cancer_cells  Macrophages   Unknown  \\\n",
       "spatial_lda_knn21_kmeans_k7                                        \n",
       "0                                0.103789     0.015313  0.273361   \n",
       "1                                0.924284     0.008484  0.029821   \n",
       "2                                0.711352     0.021021  0.070406   \n",
       "3                                0.435894     0.015661  0.480510   \n",
       "4                                0.013604     0.002866  0.870517   \n",
       "5                                0.044356     0.004910  0.109735   \n",
       "6                                0.030566     0.006690  0.112053   \n",
       "\n",
       "phenotype                    Vimentin_cells  \n",
       "spatial_lda_knn21_kmeans_k7                  \n",
       "0                                  0.006848  \n",
       "1                                  0.003295  \n",
       "2                                  0.005905  \n",
       "3                                  0.005454  \n",
       "4                                  0.021235  \n",
       "5                                  0.220830  \n",
       "6                                  0.039994  "
      ]
     },
     "execution_count": 32,
     "metadata": {},
     "output_type": "execute_result"
    }
   ],
   "source": [
    "rg = pd.DataFrame(\n",
    "    df.groupby([x_axis, y_axis])\n",
    "    .size()\n",
    "    .unstack()\n",
    "    .fillna(0)\n",
    "    .div(total, axis=0)\n",
    "    .stack()\n",
    ")\n",
    "rg.columns = ['count']\n",
    "rg.reset_index(inplace=True)\n",
    "pivot_df = rg.pivot(index=x_axis, columns=y_axis, values=\"count\")\n",
    "pivot_df"
   ]
  },
  {
   "cell_type": "code",
   "execution_count": 41,
   "metadata": {},
   "outputs": [
    {
     "data": {
      "text/plain": [
       "{'B_cells': '#ff7df3',\n",
       " 'CD4_Tcells': '#6efa6e',\n",
       " 'CD8_Tcells': '#2020d8',\n",
       " 'Cancer_cells': '#f55148',\n",
       " 'Vimentin_cells': '#866a21',\n",
       " 'Macrophages': '#ffff00',\n",
       " 'COL1A1_cells': '#ff7f0e',\n",
       " 'Unknown': '#7f7f7f'}"
      ]
     },
     "execution_count": 41,
     "metadata": {},
     "output_type": "execute_result"
    }
   ],
   "source": [
    "# load colors\n",
    "import json\n",
    "with open(\"../assets/pheno_colors.json\") as f:\n",
    "    pheno_colors = json.load(f)\n",
    "pheno_colors"
   ]
  },
  {
   "cell_type": "code",
   "execution_count": 38,
   "metadata": {},
   "outputs": [
    {
     "data": {
      "text/plain": [
       "<module 'opendvp.utils' from '/Users/jnimoca/Jose_BI/1_Pipelines/openDVP/src/opendvp/utils.py'>"
      ]
     },
     "execution_count": 38,
     "metadata": {},
     "output_type": "execute_result"
    }
   ],
   "source": [
    "importlib.reload(utils)"
   ]
  },
  {
   "cell_type": "code",
   "execution_count": 40,
   "metadata": {},
   "outputs": [
    {
     "data": {
      "text/html": [
       "<div>\n",
       "<style scoped>\n",
       "    .dataframe tbody tr th:only-of-type {\n",
       "        vertical-align: middle;\n",
       "    }\n",
       "\n",
       "    .dataframe tbody tr th {\n",
       "        vertical-align: top;\n",
       "    }\n",
       "\n",
       "    .dataframe thead th {\n",
       "        text-align: right;\n",
       "    }\n",
       "</style>\n",
       "<table border=\"1\" class=\"dataframe\">\n",
       "  <thead>\n",
       "    <tr style=\"text-align: right;\">\n",
       "      <th>phenotype</th>\n",
       "      <th>B_cells</th>\n",
       "      <th>CD4_Tcells</th>\n",
       "      <th>CD8_Tcells</th>\n",
       "      <th>COL1A1_cells</th>\n",
       "      <th>Cancer_cells</th>\n",
       "      <th>Macrophages</th>\n",
       "      <th>Unknown</th>\n",
       "      <th>Vimentin_cells</th>\n",
       "    </tr>\n",
       "    <tr>\n",
       "      <th>spatial_lda_knn21_kmeans_k7</th>\n",
       "      <th></th>\n",
       "      <th></th>\n",
       "      <th></th>\n",
       "      <th></th>\n",
       "      <th></th>\n",
       "      <th></th>\n",
       "      <th></th>\n",
       "      <th></th>\n",
       "    </tr>\n",
       "  </thead>\n",
       "  <tbody>\n",
       "    <tr>\n",
       "      <th>0</th>\n",
       "      <td>0.022257</td>\n",
       "      <td>0.368075</td>\n",
       "      <td>0.003409</td>\n",
       "      <td>0.206948</td>\n",
       "      <td>0.103789</td>\n",
       "      <td>0.015313</td>\n",
       "      <td>0.273361</td>\n",
       "      <td>0.006848</td>\n",
       "    </tr>\n",
       "    <tr>\n",
       "      <th>1</th>\n",
       "      <td>0.000260</td>\n",
       "      <td>0.016970</td>\n",
       "      <td>0.002311</td>\n",
       "      <td>0.014575</td>\n",
       "      <td>0.924284</td>\n",
       "      <td>0.008484</td>\n",
       "      <td>0.029821</td>\n",
       "      <td>0.003295</td>\n",
       "    </tr>\n",
       "    <tr>\n",
       "      <th>2</th>\n",
       "      <td>0.000415</td>\n",
       "      <td>0.180481</td>\n",
       "      <td>0.000615</td>\n",
       "      <td>0.009805</td>\n",
       "      <td>0.711352</td>\n",
       "      <td>0.021021</td>\n",
       "      <td>0.070406</td>\n",
       "      <td>0.005905</td>\n",
       "    </tr>\n",
       "    <tr>\n",
       "      <th>3</th>\n",
       "      <td>0.000767</td>\n",
       "      <td>0.028154</td>\n",
       "      <td>0.000866</td>\n",
       "      <td>0.032692</td>\n",
       "      <td>0.435894</td>\n",
       "      <td>0.015661</td>\n",
       "      <td>0.480510</td>\n",
       "      <td>0.005454</td>\n",
       "    </tr>\n",
       "    <tr>\n",
       "      <th>4</th>\n",
       "      <td>0.001764</td>\n",
       "      <td>0.054705</td>\n",
       "      <td>0.000724</td>\n",
       "      <td>0.034585</td>\n",
       "      <td>0.013604</td>\n",
       "      <td>0.002866</td>\n",
       "      <td>0.870517</td>\n",
       "      <td>0.021235</td>\n",
       "    </tr>\n",
       "    <tr>\n",
       "      <th>5</th>\n",
       "      <td>0.000209</td>\n",
       "      <td>0.040171</td>\n",
       "      <td>0.002986</td>\n",
       "      <td>0.576804</td>\n",
       "      <td>0.044356</td>\n",
       "      <td>0.004910</td>\n",
       "      <td>0.109735</td>\n",
       "      <td>0.220830</td>\n",
       "    </tr>\n",
       "    <tr>\n",
       "      <th>6</th>\n",
       "      <td>0.009757</td>\n",
       "      <td>0.688127</td>\n",
       "      <td>0.090131</td>\n",
       "      <td>0.022683</td>\n",
       "      <td>0.030566</td>\n",
       "      <td>0.006690</td>\n",
       "      <td>0.112053</td>\n",
       "      <td>0.039994</td>\n",
       "    </tr>\n",
       "  </tbody>\n",
       "</table>\n",
       "</div>"
      ],
      "text/plain": [
       "phenotype                     B_cells  CD4_Tcells  CD8_Tcells  COL1A1_cells  \\\n",
       "spatial_lda_knn21_kmeans_k7                                                   \n",
       "0                            0.022257    0.368075    0.003409      0.206948   \n",
       "1                            0.000260    0.016970    0.002311      0.014575   \n",
       "2                            0.000415    0.180481    0.000615      0.009805   \n",
       "3                            0.000767    0.028154    0.000866      0.032692   \n",
       "4                            0.001764    0.054705    0.000724      0.034585   \n",
       "5                            0.000209    0.040171    0.002986      0.576804   \n",
       "6                            0.009757    0.688127    0.090131      0.022683   \n",
       "\n",
       "phenotype                    Cancer_cells  Macrophages   Unknown  \\\n",
       "spatial_lda_knn21_kmeans_k7                                        \n",
       "0                                0.103789     0.015313  0.273361   \n",
       "1                                0.924284     0.008484  0.029821   \n",
       "2                                0.711352     0.021021  0.070406   \n",
       "3                                0.435894     0.015661  0.480510   \n",
       "4                                0.013604     0.002866  0.870517   \n",
       "5                                0.044356     0.004910  0.109735   \n",
       "6                                0.030566     0.006690  0.112053   \n",
       "\n",
       "phenotype                    Vimentin_cells  \n",
       "spatial_lda_knn21_kmeans_k7                  \n",
       "0                                  0.006848  \n",
       "1                                  0.003295  \n",
       "2                                  0.005905  \n",
       "3                                  0.005454  \n",
       "4                                  0.021235  \n",
       "5                                  0.220830  \n",
       "6                                  0.039994  "
      ]
     },
     "execution_count": 40,
     "metadata": {},
     "output_type": "execute_result"
    }
   ],
   "source": [
    "pivot_df"
   ]
  },
  {
   "cell_type": "code",
   "execution_count": 42,
   "metadata": {},
   "outputs": [
    {
     "name": "stdout",
     "output_type": "stream",
     "text": [
      "Figure saved as: ../figures/RCN_bar_plot/20250415_1801_RCN_bar_relative.pdf and ../figures/RCN_bar_plot/20250415_1801_RCN_bar_relative.svg\n"
     ]
    },
    {
     "data": {
      "image/png": "[encoded data removed]",
      "text/plain": [
       "<Figure size 800x800 with 1 Axes>"
      ]
     },
     "metadata": {},
     "output_type": "display_data"
    }
   ],
   "source": [
    "fig,ax = plt.subplots()\n",
    "fig.set_size_inches(8, 8)\n",
    "pivot_df.plot.bar(color=pheno_colors, stacked=True, ax=ax, edgecolor='none')\n",
    "plt.legend(bbox_to_anchor=(1,1))\n",
    "utils.export_figure(fig, \"../figures/RCN_bar_plot/\", suffix=\"RCN_bar_relative\")\n",
    "plt.show()"
   ]
  },
  {
   "cell_type": "markdown",
   "metadata": {},
   "source": [
    "# 16.04.2025 Export RCN labels for 992"
   ]
  },
  {
   "cell_type": "code",
   "execution_count": 6,
   "metadata": {},
   "outputs": [],
   "source": [
    "adata = ad.read_h5ad(\"../data/perSample/991_992/2_spatial_distance/20250411_1544_2_spatial_distance_adata.h5ad\")"
   ]
  },
  {
   "cell_type": "code",
   "execution_count": 7,
   "metadata": {},
   "outputs": [
    {
     "data": {
      "text/plain": [
       "AnnData object with n_obs × n_vars = 1615233 × 8\n",
       "    obs: 'CellID', 'Y_centroid', 'X_centroid', 'Area', 'MajorAxisLength', 'MinorAxisLength', 'Eccentricity', 'Orientation', 'Extent', 'Solidity', 'artefact', 'Area_filter_nottoobig', 'Area_filter_nottoolow', 'Area_filter', 'DAPI_ratio', 'DAPI_ratio_pass_nottoolow', 'DAPI_ratio_pass_nottoohigh', 'DAPI_ratio_pass', 'filtering', 'imageid', 'phenotype', 'cell_id', 'spatial_lda_knn7_kmeans_k7', 'spatial_lda_knn14_kmeans_k7', 'spatial_lda_knn21_kmeans_k7', 'spatial_lda_knn30_kmeans_k7', 'spatial_lda_knn40_kmeans_k7', 'spatial_lda_knn50_kmeans_k7'\n",
       "    uns: 'spatial_distance', 'spatial_interaction_radius', 'spatial_interaction_radius_perimage', 'spatial_lda_knn14', 'spatial_lda_knn14_probability', 'spatial_lda_knn21', 'spatial_lda_knn21_probability', 'spatial_lda_knn30', 'spatial_lda_knn30_probability', 'spatial_lda_knn40', 'spatial_lda_knn40_probability', 'spatial_lda_knn50', 'spatial_lda_knn50_probability', 'spatial_lda_knn7', 'spatial_lda_knn7_probability'\n",
       "    layers: 'log'"
      ]
     },
     "execution_count": 7,
     "metadata": {},
     "output_type": "execute_result"
    }
   ],
   "source": [
    "adata"
   ]
  },
  {
   "cell_type": "code",
   "execution_count": 8,
   "metadata": {},
   "outputs": [
    {
     "name": "stdout",
     "output_type": "stream",
     "text": [
      "Help on function adataobs_to_voronoi_geojson in module opendvp.anndata_utils:\n",
      "\n",
      "adataobs_to_voronoi_geojson(adata, subset_adata_key=None, subset_adata_value=None, color_by_adata_key: str = 'phenotype', color_dict: dict = None, threshold_quantile=0.98, merge_adjacent_shapes=True, save_as_detection=True, output_filepath: str = None)\n",
      "    Generate a Voronoi diagram from cell centroids stored in an AnnData object\n",
      "    and export it as a GeoJSON file or return it as a GeoDataFrame.\n",
      "\n",
      "    This function computes a 2D Voronoi tessellation from the 'X_centroid' and 'Y_centroid'\n",
      "    columns in `adata.obs`, optionally filters and merges polygons based on user-defined criteria,\n",
      "    and outputs the result in a GeoJSON-compatible format for visualization or downstream analysis\n",
      "    (e.g., in QuPath).\n",
      "\n",
      "    Parameters\n",
      "    ----------\n",
      "    adata : AnnData\n",
      "        AnnData object with centroid coordinates in `adata.obs[['X_centroid', 'Y_centroid']]`.\n",
      "\n",
      "    subset_adata_key : str, optional\n",
      "        Column in `adata.obs` used to filter a subset of cells (e.g., a specific image ID or tissue section).\n",
      "\n",
      "    subset_adata_value : Any, optional\n",
      "        Value used to subset the `subset_adata_key` column. Only rows matching this value will be used.\n",
      "\n",
      "    color_by_adata_key : str, default \"phenotype\"\n",
      "        Column in `adata.obs` that determines the class or type of each cell. Used for coloring and grouping.\n",
      "\n",
      "    color_dict : dict, optional\n",
      "        Dictionary mapping class names to RGB color codes. Used to color each class in QuPath style.\n",
      "        If not provided, a default palette will be generated.\n",
      "\n",
      "    threshold_quantile : float, default 0.98\n",
      "        Polygons with an area greater than this quantile will be excluded (used to remove oversized/outlier regions).\n",
      "\n",
      "    merge_adjacent_shapes : bool, default True\n",
      "        If True, merges adjacent polygons with the same class label.\n",
      "\n",
      "    save_as_detection : bool, default True\n",
      "        If True, sets the `objectType` property to \"detection\" in the output for QuPath compatibility.\n",
      "\n",
      "    output_filepath : str, optional\n",
      "        If provided, saves the output as a GeoJSON file at this path.\n",
      "        If None, returns the GeoDataFrame instead.\n",
      "\n",
      "    Returns\n",
      "    -------\n",
      "    geopandas.GeoDataFrame or None\n",
      "        If `output_filepath` is None, returns the resulting GeoDataFrame with Voronoi polygons.\n",
      "        Otherwise, writes to file and returns None.\n",
      "\n",
      "    Notes\n",
      "    -----\n",
      "    - Requires the `scipy`, `shapely`, `geopandas`, and `anndata` packages.\n",
      "    - Assumes `adata.obs` contains valid `X_centroid` and `Y_centroid` columns.\n",
      "\n"
     ]
    }
   ],
   "source": [
    "help(anndata_utils.adataobs_to_voronoi_geojson)"
   ]
  },
  {
   "cell_type": "code",
   "execution_count": 9,
   "metadata": {},
   "outputs": [],
   "source": [
    "import json\n",
    "with open(\"../assets/RCN_colors.json\") as f:\n",
    "    RCN_colors = json.load(f)"
   ]
  },
  {
   "cell_type": "code",
   "execution_count": 11,
   "metadata": {},
   "outputs": [
    {
     "name": "stderr",
     "output_type": "stream",
     "text": [
      "\u001b[32m2025-04-16 11:51:31.018\u001b[0m | \u001b[1mINFO    \u001b[0m | \u001b[36mopendvp.anndata_utils\u001b[0m:\u001b[36madataobs_to_voronoi_geojson\u001b[0m:\u001b[36m277\u001b[0m - \u001b[1m[991 992]\u001b[0m\n",
      "\u001b[32m2025-04-16 11:51:31.018\u001b[0m | \u001b[1mINFO    \u001b[0m | \u001b[36mopendvp.anndata_utils\u001b[0m:\u001b[36madataobs_to_voronoi_geojson\u001b[0m:\u001b[36m278\u001b[0m - \u001b[1mSubset adata col dtype: int64\u001b[0m\n",
      "\u001b[32m2025-04-16 11:51:31.096\u001b[0m | \u001b[1mINFO    \u001b[0m | \u001b[36mopendvp.anndata_utils\u001b[0m:\u001b[36madataobs_to_voronoi_geojson\u001b[0m:\u001b[36m280\u001b[0m - \u001b[1m Shape after subset: (1005051, 28)\u001b[0m\n",
      "\u001b[32m2025-04-16 11:51:31.097\u001b[0m | \u001b[1mINFO    \u001b[0m | \u001b[36mopendvp.anndata_utils\u001b[0m:\u001b[36madataobs_to_voronoi_geojson\u001b[0m:\u001b[36m283\u001b[0m - \u001b[1mRunning Voronoi\u001b[0m\n",
      "\u001b[32m2025-04-16 11:52:36.259\u001b[0m | \u001b[1mINFO    \u001b[0m | \u001b[36mopendvp.anndata_utils\u001b[0m:\u001b[36madataobs_to_voronoi_geojson\u001b[0m:\u001b[36m286\u001b[0m - \u001b[1mVoronoi done\u001b[0m\n",
      "\u001b[32m2025-04-16 11:52:36.451\u001b[0m | \u001b[1mINFO    \u001b[0m | \u001b[36mopendvp.anndata_utils\u001b[0m:\u001b[36madataobs_to_voronoi_geojson\u001b[0m:\u001b[36m290\u001b[0m - \u001b[1mTransformed to geodataframe\u001b[0m\n",
      "\u001b[32m2025-04-16 11:52:36.456\u001b[0m | \u001b[1mINFO    \u001b[0m | \u001b[36mopendvp.anndata_utils\u001b[0m:\u001b[36madataobs_to_voronoi_geojson\u001b[0m:\u001b[36m295\u001b[0m - \u001b[1mBounding box: x_min: 2217.0, x_max: 70848.8, y_min: 20.4, y_max 47085.0\u001b[0m\n",
      "\u001b[32m2025-04-16 11:52:38.604\u001b[0m | \u001b[1mINFO    \u001b[0m | \u001b[36mopendvp.anndata_utils\u001b[0m:\u001b[36madataobs_to_voronoi_geojson\u001b[0m:\u001b[36m300\u001b[0m - \u001b[1mRetaining 1003632 valid polygons after filtering large and infinite ones.\u001b[0m\n",
      "\u001b[32m2025-04-16 11:52:38.746\u001b[0m | \u001b[1mINFO    \u001b[0m | \u001b[36mopendvp.anndata_utils\u001b[0m:\u001b[36madataobs_to_voronoi_geojson\u001b[0m:\u001b[36m305\u001b[0m - \u001b[1mFiltered out large polygons based on the 0.98 quantile\u001b[0m\n",
      "\u001b[32m2025-04-16 11:52:38.748\u001b[0m | \u001b[1mINFO    \u001b[0m | \u001b[36mopendvp.anndata_utils\u001b[0m:\u001b[36madataobs_to_voronoi_geojson\u001b[0m:\u001b[36m313\u001b[0m - \u001b[1mMerging polygons adjacent and of same category\u001b[0m\n",
      "\u001b[32m2025-04-16 11:53:09.749\u001b[0m | \u001b[1mINFO    \u001b[0m | \u001b[36mopendvp.utils\u001b[0m:\u001b[36mparse_color_for_qupath\u001b[0m:\u001b[36m129\u001b[0m - \u001b[1mParsing colors compatible with QuPath\u001b[0m\n",
      "\u001b[32m2025-04-16 11:53:09.750\u001b[0m | \u001b[1mINFO    \u001b[0m | \u001b[36mopendvp.utils\u001b[0m:\u001b[36mparse_color_for_qupath\u001b[0m:\u001b[36m138\u001b[0m - \u001b[1mCustom color dictionary passed, adapting to QuPath color format\u001b[0m\n",
      "/opt/homebrew/Caskroom/mambaforge/base/envs/spatialdata/lib/python3.12/site-packages/pyogrio/geopandas.py:662: UserWarning: 'crs' was not provided.  The output dataset will not have projection information defined and may not be usable in other systems.\n",
      "  write(\n",
      "\u001b[32m2025-04-16 11:53:12.293\u001b[0m | \u001b[32m\u001b[1mSUCCESS \u001b[0m | \u001b[36mopendvp.anndata_utils\u001b[0m:\u001b[36madataobs_to_voronoi_geojson\u001b[0m:\u001b[36m327\u001b[0m - \u001b[32m\u001b[1mExported Voronoi projection to ../data/perSample/992/qc/20250416_992_RCN_voronoi.geojson\u001b[0m\n"
     ]
    }
   ],
   "source": [
    "anndata_utils.adataobs_to_voronoi_geojson(\n",
    " adata=adata,\n",
    " subset_adata_key = \"imageid\",\n",
    " subset_adata_value = 992,\n",
    " color_by_adata_key = \"spatial_lda_knn21_kmeans_k7\",\n",
    " color_dict = RCN_colors,\n",
    " output_filepath = \"../data/perSample/992/qc/20250416_992_RCN_voronoi.geojson\"\n",
    ")"
   ]
  },
  {
   "cell_type": "markdown",
   "metadata": {},
   "source": [
    "# 17.04.2025 Replot for figure 4"
   ]
  },
  {
   "cell_type": "code",
   "execution_count": 3,
   "metadata": {},
   "outputs": [],
   "source": [
    "adata = ad.read_h5ad(\"../data/perSample/991_992/2_spatial_distance/20250411_1544_2_spatial_distance_adata.h5ad\")"
   ]
  },
  {
   "cell_type": "code",
   "execution_count": 4,
   "metadata": {},
   "outputs": [
    {
     "name": "stderr",
     "output_type": "stream",
     "text": [
      "/var/folders/x7/grkjlk8s223dy6234rnz1885mxz2_6/T/ipykernel_8643/514186650.py:6: FutureWarning: The default of observed=False is deprecated and will be changed to True in a future version of pandas. Pass observed=False to retain current behavior or observed=True to adopt the future default and silence this warning.\n",
      "  total = df.groupby([x_axis, y_axis]).size().unstack().fillna(0).sum(axis=1)\n",
      "/var/folders/x7/grkjlk8s223dy6234rnz1885mxz2_6/T/ipykernel_8643/514186650.py:9: FutureWarning: The default of observed=False is deprecated and will be changed to True in a future version of pandas. Pass observed=False to retain current behavior or observed=True to adopt the future default and silence this warning.\n",
      "  df.groupby([x_axis, y_axis]).size().unstack().fillna(0).div(total, axis=0).stack())\n"
     ]
    }
   ],
   "source": [
    "x_axis = \"spatial_lda_knn21_kmeans_k7\"\n",
    "y_axis = \"phenotype\"\n",
    "\n",
    "df = pd.DataFrame(data = adata.obs[[x_axis, y_axis]])\n",
    "\n",
    "total = df.groupby([x_axis, y_axis]).size().unstack().fillna(0).sum(axis=1)\n",
    "\n",
    "rg = pd.DataFrame(\n",
    "    df.groupby([x_axis, y_axis]).size().unstack().fillna(0).div(total, axis=0).stack())\n",
    "rg.columns = ['count']\n",
    "rg.reset_index(inplace=True)\n",
    "pivot_df = rg.pivot(index=x_axis, columns=y_axis, values=\"count\")"
   ]
  },
  {
   "cell_type": "code",
   "execution_count": 5,
   "metadata": {},
   "outputs": [
    {
     "data": {
      "text/plain": [
       "{'B_cells': '#ff7df3',\n",
       " 'CD4_Tcells': '#6efa6e',\n",
       " 'CD8_Tcells': '#2020d8',\n",
       " 'Cancer_cells': '#f55148',\n",
       " 'Vimentin_cells': '#866a21',\n",
       " 'Macrophages': '#ffff00',\n",
       " 'COL1A1_cells': '#ff7f0e',\n",
       " 'Unknown': '#7f7f7f'}"
      ]
     },
     "execution_count": 5,
     "metadata": {},
     "output_type": "execute_result"
    }
   ],
   "source": [
    "# load colors\n",
    "import json\n",
    "with open(\"../assets/pheno_colors.json\") as f:\n",
    "    pheno_colors = json.load(f)\n",
    "pheno_colors"
   ]
  },
  {
   "cell_type": "code",
   "execution_count": 8,
   "metadata": {},
   "outputs": [
    {
     "name": "stdout",
     "output_type": "stream",
     "text": [
      "Figure saved as: ../figures/RCN_bar_plot/20250417_1429_RCN_bar_relative_4x8.pdf and ../figures/RCN_bar_plot/20250417_1429_RCN_bar_relative_4x8.svg\n"
     ]
    },
    {
     "data": {
      "image/png": "[encoded data removed]",
      "text/plain": [
       "<Figure size 400x800 with 1 Axes>"
      ]
     },
     "metadata": {},
     "output_type": "display_data"
    }
   ],
   "source": [
    "fig,ax = plt.subplots()\n",
    "fig.set_size_inches(4, 8)\n",
    "pivot_df.plot.bar(color=pheno_colors, stacked=True, ax=ax, edgecolor='none')\n",
    "plt.legend(bbox_to_anchor=(1,1))\n",
    "utils.export_figure(fig, \"../figures/RCN_bar_plot/\", suffix=\"RCN_bar_relative_4x8\")\n",
    "plt.show()"
   ]
  },
  {
   "cell_type": "code",
   "execution_count": 9,
   "metadata": {},
   "outputs": [
    {
     "name": "stdout",
     "output_type": "stream",
     "text": [
      "Figure saved as: ../figures/RCN_bar_plot/20250417_1430_RCN_bar_relative_4x4.pdf and ../figures/RCN_bar_plot/20250417_1430_RCN_bar_relative_4x4.svg\n"
     ]
    },
    {
     "data": {
      "image/png": "[encoded data removed]",
      "text/plain": [
       "<Figure size 400x400 with 1 Axes>"
      ]
     },
     "metadata": {},
     "output_type": "display_data"
    }
   ],
   "source": [
    "fig,ax = plt.subplots()\n",
    "fig.set_size_inches(4, 4)\n",
    "pivot_df.plot.bar(color=pheno_colors, stacked=True, ax=ax, edgecolor='none')\n",
    "plt.legend(bbox_to_anchor=(1,1))\n",
    "utils.export_figure(fig, \"../figures/RCN_bar_plot/\", suffix=\"RCN_bar_relative_4x4\")\n",
    "plt.show()"
   ]
  },
  {
   "cell_type": "markdown",
   "metadata": {},
   "source": [
    "# 25.04.2025 replot bars for RCNs"
   ]
  },
  {
   "cell_type": "code",
   "execution_count": 3,
   "metadata": {},
   "outputs": [],
   "source": [
    "adata = ad.read_h5ad(\"../data/perSample/991_992/2_spatial_distance/20250411_1544_2_spatial_distance_adata.h5ad\")"
   ]
  },
  {
   "cell_type": "code",
   "execution_count": 4,
   "metadata": {},
   "outputs": [
    {
     "name": "stderr",
     "output_type": "stream",
     "text": [
      "/var/folders/x7/grkjlk8s223dy6234rnz1885mxz2_6/T/ipykernel_16420/514186650.py:6: FutureWarning: The default of observed=False is deprecated and will be changed to True in a future version of pandas. Pass observed=False to retain current behavior or observed=True to adopt the future default and silence this warning.\n",
      "  total = df.groupby([x_axis, y_axis]).size().unstack().fillna(0).sum(axis=1)\n",
      "/var/folders/x7/grkjlk8s223dy6234rnz1885mxz2_6/T/ipykernel_16420/514186650.py:9: FutureWarning: The default of observed=False is deprecated and will be changed to True in a future version of pandas. Pass observed=False to retain current behavior or observed=True to adopt the future default and silence this warning.\n",
      "  df.groupby([x_axis, y_axis]).size().unstack().fillna(0).div(total, axis=0).stack())\n"
     ]
    }
   ],
   "source": [
    "x_axis = \"spatial_lda_knn21_kmeans_k7\"\n",
    "y_axis = \"phenotype\"\n",
    "\n",
    "df = pd.DataFrame(data = adata.obs[[x_axis, y_axis]])\n",
    "\n",
    "total = df.groupby([x_axis, y_axis]).size().unstack().fillna(0).sum(axis=1)\n",
    "\n",
    "rg = pd.DataFrame(\n",
    "    df.groupby([x_axis, y_axis]).size().unstack().fillna(0).div(total, axis=0).stack())\n",
    "rg.columns = ['count']\n",
    "rg.reset_index(inplace=True)\n",
    "pivot_df = rg.pivot(index=x_axis, columns=y_axis, values=\"count\")"
   ]
  },
  {
   "cell_type": "code",
   "execution_count": 5,
   "metadata": {},
   "outputs": [
    {
     "data": {
      "text/plain": [
       "{'B_cells': '#ff7df3',\n",
       " 'CD4_Tcells': '#6efa6e',\n",
       " 'CD8_Tcells': '#2020d8',\n",
       " 'Cancer_cells': '#f55148',\n",
       " 'Vimentin_cells': '#866a21',\n",
       " 'Macrophages': '#ffff00',\n",
       " 'COL1A1_cells': '#ff7f0e',\n",
       " 'Unknown': '#7f7f7f'}"
      ]
     },
     "execution_count": 5,
     "metadata": {},
     "output_type": "execute_result"
    }
   ],
   "source": [
    "# load colors\n",
    "import json\n",
    "with open(\"../assets/pheno_colors.json\") as f:\n",
    "    pheno_colors = json.load(f)\n",
    "pheno_colors"
   ]
  },
  {
   "cell_type": "code",
   "execution_count": 12,
   "metadata": {},
   "outputs": [
    {
     "name": "stdout",
     "output_type": "stream",
     "text": [
      "Figure saved as: ../figures/RCN_bar_plot/20250425_1532_RCN_bar_relative_4x6.pdf and ../figures/RCN_bar_plot/20250425_1532_RCN_bar_relative_4x6.svg\n"
     ]
    },
    {
     "data": {
      "image/png": "[encoded data removed]",
      "text/plain": [
       "<Figure size 400x600 with 1 Axes>"
      ]
     },
     "metadata": {},
     "output_type": "display_data"
    }
   ],
   "source": [
    "fig,ax = plt.subplots()\n",
    "fig.set_size_inches(4, 6)\n",
    "pivot_df.plot.bar(\n",
    "                color=pheno_colors, \n",
    "                stacked=True, \n",
    "                ax=ax, \n",
    "                #  edgecolor='none', \n",
    "                linewidth=0.3)\n",
    "\n",
    "plt.legend(bbox_to_anchor=(1,1))\n",
    "utils.export_figure(fig, \"../figures/RCN_bar_plot/\", suffix=\"RCN_bar_relative_4x6\")\n",
    "plt.show()"
   ]
  }
 ],
 "metadata": {
  "kernelspec": {
   "display_name": "spatialdata",
   "language": "python",
   "name": "python3"
  },
  "language_info": {
   "codemirror_mode": {
    "name": "ipython",
    "version": 3
   },
   "file_extension": ".py",
   "mimetype": "text/x-python",
   "name": "python",
   "nbconvert_exporter": "python",
   "pygments_lexer": "ipython3",
   "version": "3.12.9"
  }
 },
 "nbformat": 4,
 "nbformat_minor": 2
}
