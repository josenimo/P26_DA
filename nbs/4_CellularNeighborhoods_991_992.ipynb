{
 "cells": [
  {
   "cell_type": "markdown",
   "metadata": {},
   "source": [
    "# Cellular neighborhood analysis of cells in both slides 991 and 992\n",
    "**Goal:**  Perform cellular neighborhood analysis    \n",
    "**Input:** Merged adata from 991 and 992    \n",
    "**Output:** Cellular neighborhood categories for all cells     \n",
    "**Author:** Jose Nimo    \n",
    "**Date_of_creation:** 15.01.2025     \n",
    "**Date_of_latest_modification:** 10.04.2025    \n",
    "**Status:** In Progress"
   ]
  },
  {
   "cell_type": "markdown",
   "metadata": {},
   "source": [
    "# Setup and imports"
   ]
  },
  {
   "cell_type": "code",
   "execution_count": 2,
   "metadata": {},
   "outputs": [
    {
     "name": "stdout",
     "output_type": "stream",
     "text": [
      "numpy 1.26.4\n",
      "pandas 2.2.2\n",
      "geopandas 1.0.1\n",
      "anndata 0.11.3\n"
     ]
    }
   ],
   "source": [
    "import os,sys,time\n",
    "from loguru import logger \n",
    "\n",
    "# import scimap as sm\n",
    "\n",
    "import numpy as np\n",
    "import pandas as pd\n",
    "import shapely\n",
    "import geopandas as gpd\n",
    "import anndata as ad\n",
    "\n",
    "import pyarrow\n",
    "import ast\n",
    "\n",
    "#plotting\n",
    "import matplotlib.pyplot as plt\n",
    "import seaborn as sns\n",
    "\n",
    "#custom functions\n",
    "sys.path.append(os.path.abspath('/Users/jnimoca/Jose_BI/1_Pipelines/openDVP/src/'))\n",
    "from opendvp import anndata_utils\n",
    "from opendvp import filtering\n",
    "from opendvp import imaging\n",
    "import importlib\n",
    "\n",
    "for package in [np,pd,gpd,ad]:\n",
    "    print(f\"{package.__name__} {package.__version__}\")"
   ]
  },
  {
   "cell_type": "markdown",
   "metadata": {},
   "source": [
    "## Create recurrent cellular neighborhood labels for all cells in 991 and 992"
   ]
  },
  {
   "cell_type": "code",
   "execution_count": 4,
   "metadata": {},
   "outputs": [
    {
     "name": "stderr",
     "output_type": "stream",
     "text": [
      "/Users/jnimoca/Jose_BI/4_Projects/P26_BCCN/P26E10_E11_ImageAnalysis/.pixi/envs/default/lib/python3.11/site-packages/anndata/_core/anndata.py:1754: UserWarning:\n",
      "\n",
      "Observation names are not unique. To make them unique, call `.obs_names_make_unique`.\n",
      "\n"
     ]
    }
   ],
   "source": [
    "adata = ad.read_h5ad(\"../data/perSample/991_992/0_concat/20250303_1336_0_concat_adata.h5ad\")"
   ]
  },
  {
   "cell_type": "code",
   "execution_count": 5,
   "metadata": {},
   "outputs": [],
   "source": [
    "adata.obs_names_make_unique()"
   ]
  },
  {
   "cell_type": "code",
   "execution_count": 7,
   "metadata": {},
   "outputs": [
    {
     "name": "stderr",
     "output_type": "stream",
     "text": [
      "\u001b[32m2025-03-03 15:55:02.641\u001b[0m | \u001b[1mINFO    \u001b[0m | \u001b[36m__main__\u001b[0m:\u001b[36m<module>\u001b[0m:\u001b[36m4\u001b[0m - \u001b[1mProcessing knn=7\u001b[0m\n"
     ]
    },
    {
     "name": "stdout",
     "output_type": "stream",
     "text": [
      "Processing: [991]\n",
      "Identifying the 7 nearest neighbours for every cell\n",
      "Processing: [992]\n",
      "Identifying the 7 nearest neighbours for every cell\n",
      "Pre-Processing Spatial LDA\n",
      "Training Spatial LDA\n",
      "Calculating the Coherence Score\n",
      "\n",
      "Coherence Score:  0.3178528435660482\n",
      "Gathering the latent weights\n",
      "Kmeans clustering\n"
     ]
    },
    {
     "name": "stderr",
     "output_type": "stream",
     "text": [
      "\u001b[32m2025-03-03 15:57:25.338\u001b[0m | \u001b[1mINFO    \u001b[0m | \u001b[36m__main__\u001b[0m:\u001b[36m<module>\u001b[0m:\u001b[36m18\u001b[0m - \u001b[1mDone in 142.69472813606262 seconds\u001b[0m\n",
      "\u001b[32m2025-03-03 15:57:25.339\u001b[0m | \u001b[1mINFO    \u001b[0m | \u001b[36m__main__\u001b[0m:\u001b[36m<module>\u001b[0m:\u001b[36m4\u001b[0m - \u001b[1mProcessing knn=14\u001b[0m\n"
     ]
    },
    {
     "name": "stdout",
     "output_type": "stream",
     "text": [
      "Processing: [991]\n",
      "Identifying the 14 nearest neighbours for every cell\n",
      "Processing: [992]\n",
      "Identifying the 14 nearest neighbours for every cell\n",
      "Pre-Processing Spatial LDA\n",
      "Training Spatial LDA\n",
      "Calculating the Coherence Score\n",
      "\n",
      "Coherence Score:  0.34420324107822475\n",
      "Gathering the latent weights\n",
      "Kmeans clustering\n"
     ]
    },
    {
     "name": "stderr",
     "output_type": "stream",
     "text": [
      "\u001b[32m2025-03-03 16:00:48.351\u001b[0m | \u001b[1mINFO    \u001b[0m | \u001b[36m__main__\u001b[0m:\u001b[36m<module>\u001b[0m:\u001b[36m18\u001b[0m - \u001b[1mDone in 203.0119869709015 seconds\u001b[0m\n",
      "\u001b[32m2025-03-03 16:00:48.352\u001b[0m | \u001b[1mINFO    \u001b[0m | \u001b[36m__main__\u001b[0m:\u001b[36m<module>\u001b[0m:\u001b[36m4\u001b[0m - \u001b[1mProcessing knn=21\u001b[0m\n"
     ]
    },
    {
     "name": "stdout",
     "output_type": "stream",
     "text": [
      "Processing: [991]\n",
      "Identifying the 21 nearest neighbours for every cell\n",
      "Processing: [992]\n",
      "Identifying the 21 nearest neighbours for every cell\n",
      "Pre-Processing Spatial LDA\n",
      "Training Spatial LDA\n",
      "Calculating the Coherence Score\n",
      "\n",
      "Coherence Score:  0.3516907772022454\n",
      "Gathering the latent weights\n",
      "Kmeans clustering\n"
     ]
    },
    {
     "name": "stderr",
     "output_type": "stream",
     "text": [
      "\u001b[32m2025-03-03 16:04:48.706\u001b[0m | \u001b[1mINFO    \u001b[0m | \u001b[36m__main__\u001b[0m:\u001b[36m<module>\u001b[0m:\u001b[36m18\u001b[0m - \u001b[1mDone in 240.3536880016327 seconds\u001b[0m\n",
      "\u001b[32m2025-03-03 16:04:48.706\u001b[0m | \u001b[1mINFO    \u001b[0m | \u001b[36m__main__\u001b[0m:\u001b[36m<module>\u001b[0m:\u001b[36m4\u001b[0m - \u001b[1mProcessing knn=30\u001b[0m\n"
     ]
    },
    {
     "name": "stdout",
     "output_type": "stream",
     "text": [
      "Processing: [991]\n",
      "Identifying the 30 nearest neighbours for every cell\n",
      "Processing: [992]\n",
      "Identifying the 30 nearest neighbours for every cell\n",
      "Pre-Processing Spatial LDA\n",
      "Training Spatial LDA\n",
      "Calculating the Coherence Score\n",
      "\n",
      "Coherence Score:  0.35583355796432947\n",
      "Gathering the latent weights\n",
      "Kmeans clustering\n"
     ]
    },
    {
     "name": "stderr",
     "output_type": "stream",
     "text": [
      "\u001b[32m2025-03-03 16:09:31.288\u001b[0m | \u001b[1mINFO    \u001b[0m | \u001b[36m__main__\u001b[0m:\u001b[36m<module>\u001b[0m:\u001b[36m18\u001b[0m - \u001b[1mDone in 282.58131408691406 seconds\u001b[0m\n",
      "\u001b[32m2025-03-03 16:09:31.289\u001b[0m | \u001b[1mINFO    \u001b[0m | \u001b[36m__main__\u001b[0m:\u001b[36m<module>\u001b[0m:\u001b[36m4\u001b[0m - \u001b[1mProcessing knn=40\u001b[0m\n"
     ]
    },
    {
     "name": "stdout",
     "output_type": "stream",
     "text": [
      "Processing: [991]\n",
      "Identifying the 40 nearest neighbours for every cell\n",
      "Processing: [992]\n",
      "Identifying the 40 nearest neighbours for every cell\n",
      "Pre-Processing Spatial LDA\n",
      "Training Spatial LDA\n",
      "Calculating the Coherence Score\n",
      "\n",
      "Coherence Score:  0.3577975141441595\n",
      "Gathering the latent weights\n",
      "Kmeans clustering\n"
     ]
    },
    {
     "name": "stderr",
     "output_type": "stream",
     "text": [
      "\u001b[32m2025-03-03 16:15:07.620\u001b[0m | \u001b[1mINFO    \u001b[0m | \u001b[36m__main__\u001b[0m:\u001b[36m<module>\u001b[0m:\u001b[36m18\u001b[0m - \u001b[1mDone in 336.3305866718292 seconds\u001b[0m\n",
      "\u001b[32m2025-03-03 16:15:07.621\u001b[0m | \u001b[1mINFO    \u001b[0m | \u001b[36m__main__\u001b[0m:\u001b[36m<module>\u001b[0m:\u001b[36m4\u001b[0m - \u001b[1mProcessing knn=50\u001b[0m\n"
     ]
    },
    {
     "name": "stdout",
     "output_type": "stream",
     "text": [
      "Processing: [991]\n",
      "Identifying the 50 nearest neighbours for every cell\n",
      "Processing: [992]\n",
      "Identifying the 50 nearest neighbours for every cell\n",
      "Pre-Processing Spatial LDA\n",
      "Training Spatial LDA\n",
      "Calculating the Coherence Score\n",
      "\n",
      "Coherence Score:  0.3593188273293075\n",
      "Gathering the latent weights\n",
      "Kmeans clustering\n"
     ]
    },
    {
     "name": "stderr",
     "output_type": "stream",
     "text": [
      "\u001b[32m2025-03-03 16:38:11.138\u001b[0m | \u001b[1mINFO    \u001b[0m | \u001b[36m__main__\u001b[0m:\u001b[36m<module>\u001b[0m:\u001b[36m18\u001b[0m - \u001b[1mDone in 1383.5169188976288 seconds\u001b[0m\n"
     ]
    }
   ],
   "source": [
    "knn_list = [7,14,21,30,40,50]\n",
    "\n",
    "for knn_number in knn_list:\n",
    "    logger.info(f\"Processing knn={knn_number}\")\n",
    "    start = time.time()\n",
    "\n",
    "    adata = sm.tl.spatial_lda(adata, \n",
    "                              method='knn', \n",
    "                              knn=knn_number, \n",
    "                              label=f'spatial_lda_knn{knn_number}')\n",
    "    \n",
    "    adata = sm.tl.spatial_cluster(adata, \n",
    "                                  df_name=f'spatial_lda_knn{knn_number}', \n",
    "                                  method='kmeans', \n",
    "                                  k=7, \n",
    "                                  label=f'spatial_lda_knn{knn_number}_kmeans_k7')\n",
    "\n",
    "    logger.info(f\"Done in {time.time()-start} seconds\")"
   ]
  },
  {
   "cell_type": "code",
   "execution_count": null,
   "metadata": {},
   "outputs": [
    {
     "name": "stderr",
     "output_type": "stream",
     "text": [
      "\u001b[32m2025-03-03 16:54:17.626\u001b[0m | \u001b[1mINFO    \u001b[0m | \u001b[36mopendvp.anndata_utils\u001b[0m:\u001b[36msave_adata_checkpoint\u001b[0m:\u001b[36m73\u001b[0m - \u001b[1mWriting h5ad\u001b[0m\n",
      "\u001b[32m2025-03-03 16:54:22.675\u001b[0m | \u001b[32m\u001b[1mSUCCESS \u001b[0m | \u001b[36mopendvp.anndata_utils\u001b[0m:\u001b[36msave_adata_checkpoint\u001b[0m:\u001b[36m75\u001b[0m - \u001b[32m\u001b[1mWrote h5ad file\u001b[0m\n",
      "\u001b[32m2025-03-03 16:54:22.676\u001b[0m | \u001b[1mINFO    \u001b[0m | \u001b[36mopendvp.anndata_utils\u001b[0m:\u001b[36msave_adata_checkpoint\u001b[0m:\u001b[36m82\u001b[0m - \u001b[1mWriting parquet\u001b[0m\n",
      "\u001b[32m2025-03-03 16:54:23.129\u001b[0m | \u001b[32m\u001b[1mSUCCESS \u001b[0m | \u001b[36mopendvp.anndata_utils\u001b[0m:\u001b[36msave_adata_checkpoint\u001b[0m:\u001b[36m84\u001b[0m - \u001b[32m\u001b[1mWrote parquet file\u001b[0m\n"
     ]
    }
   ],
   "source": [
    "anndata_utils.save_adata_checkpoint(adata, path_to_dir=\"../data/perSample/991_992\", checkpoint_name=\"1_spatial_LDA\" )"
   ]
  },
  {
   "cell_type": "markdown",
   "metadata": {},
   "source": [
    "## QC with QuPath"
   ]
  },
  {
   "cell_type": "markdown",
   "metadata": {},
   "source": [
    "### export RCN as geojsons for 991"
   ]
  },
  {
   "cell_type": "code",
   "execution_count": 7,
   "metadata": {},
   "outputs": [],
   "source": [
    "import geopandas as gpd\n",
    "import json\n",
    "import anndata as ad"
   ]
  },
  {
   "cell_type": "code",
   "execution_count": 8,
   "metadata": {},
   "outputs": [],
   "source": [
    "adata = ad.read_h5ad(\"../data/perSample/991_992/1_spatial_LDA/20250303_1654_1_spatial_LDA_adata.h5ad\")"
   ]
  },
  {
   "cell_type": "code",
   "execution_count": 9,
   "metadata": {},
   "outputs": [
    {
     "data": {
      "text/plain": [
       "AnnData object with n_obs × n_vars = 1615233 × 8\n",
       "    obs: 'CellID', 'Y_centroid', 'X_centroid', 'Area', 'MajorAxisLength', 'MinorAxisLength', 'Eccentricity', 'Orientation', 'Extent', 'Solidity', 'artefact', 'Area_filter_nottoobig', 'Area_filter_nottoolow', 'Area_filter', 'DAPI_ratio', 'DAPI_ratio_pass_nottoolow', 'DAPI_ratio_pass_nottoohigh', 'DAPI_ratio_pass', 'filtering', 'imageid', 'phenotype', 'cell_id', 'spatial_lda_knn7_kmeans_k7', 'spatial_lda_knn14_kmeans_k7', 'spatial_lda_knn21_kmeans_k7', 'spatial_lda_knn30_kmeans_k7', 'spatial_lda_knn40_kmeans_k7', 'spatial_lda_knn50_kmeans_k7'\n",
       "    uns: 'spatial_lda_knn14', 'spatial_lda_knn14_probability', 'spatial_lda_knn21', 'spatial_lda_knn21_probability', 'spatial_lda_knn30', 'spatial_lda_knn30_probability', 'spatial_lda_knn40', 'spatial_lda_knn40_probability', 'spatial_lda_knn50', 'spatial_lda_knn50_probability', 'spatial_lda_knn7', 'spatial_lda_knn7_probability'\n",
       "    layers: 'log'"
      ]
     },
     "execution_count": 9,
     "metadata": {},
     "output_type": "execute_result"
    }
   ],
   "source": [
    "adata"
   ]
  },
  {
   "cell_type": "code",
   "execution_count": 10,
   "metadata": {},
   "outputs": [
    {
     "data": {
      "text/plain": [
       "Index(['CellID', 'Y_centroid', 'X_centroid', 'Area', 'MajorAxisLength',\n",
       "       'MinorAxisLength', 'Eccentricity', 'Orientation', 'Extent', 'Solidity',\n",
       "       'artefact', 'Area_filter_nottoobig', 'Area_filter_nottoolow',\n",
       "       'Area_filter', 'DAPI_ratio', 'DAPI_ratio_pass_nottoolow',\n",
       "       'DAPI_ratio_pass_nottoohigh', 'DAPI_ratio_pass', 'filtering', 'imageid',\n",
       "       'phenotype', 'cell_id', 'spatial_lda_knn7_kmeans_k7',\n",
       "       'spatial_lda_knn14_kmeans_k7', 'spatial_lda_knn21_kmeans_k7',\n",
       "       'spatial_lda_knn30_kmeans_k7', 'spatial_lda_knn40_kmeans_k7',\n",
       "       'spatial_lda_knn50_kmeans_k7'],\n",
       "      dtype='object')"
      ]
     },
     "execution_count": 10,
     "metadata": {},
     "output_type": "execute_result"
    }
   ],
   "source": [
    "adata.obs.columns"
   ]
  },
  {
   "cell_type": "code",
   "execution_count": 13,
   "metadata": {},
   "outputs": [
    {
     "data": {
      "text/plain": [
       "imageid\n",
       "992    1005051\n",
       "991     610182\n",
       "Name: count, dtype: int64"
      ]
     },
     "execution_count": 13,
     "metadata": {},
     "output_type": "execute_result"
    }
   ],
   "source": [
    "adata.obs.imageid.value_counts()"
   ]
  },
  {
   "cell_type": "code",
   "execution_count": 14,
   "metadata": {},
   "outputs": [
    {
     "data": {
      "text/plain": [
       "dtype('int64')"
      ]
     },
     "execution_count": 14,
     "metadata": {},
     "output_type": "execute_result"
    }
   ],
   "source": [
    "adata.obs.imageid.dtype"
   ]
  },
  {
   "cell_type": "code",
   "execution_count": 15,
   "metadata": {},
   "outputs": [
    {
     "data": {
      "text/html": [
       "<div>\n",
       "<style scoped>\n",
       "    .dataframe tbody tr th:only-of-type {\n",
       "        vertical-align: middle;\n",
       "    }\n",
       "\n",
       "    .dataframe tbody tr th {\n",
       "        vertical-align: top;\n",
       "    }\n",
       "\n",
       "    .dataframe thead th {\n",
       "        text-align: right;\n",
       "    }\n",
       "</style>\n",
       "<table border=\"1\" class=\"dataframe\">\n",
       "  <thead>\n",
       "    <tr style=\"text-align: right;\">\n",
       "      <th></th>\n",
       "      <th>CellID</th>\n",
       "      <th>Y_centroid</th>\n",
       "      <th>X_centroid</th>\n",
       "      <th>Area</th>\n",
       "      <th>MajorAxisLength</th>\n",
       "      <th>MinorAxisLength</th>\n",
       "      <th>Eccentricity</th>\n",
       "      <th>Orientation</th>\n",
       "      <th>Extent</th>\n",
       "      <th>Solidity</th>\n",
       "      <th>...</th>\n",
       "      <th>filtering</th>\n",
       "      <th>imageid</th>\n",
       "      <th>phenotype</th>\n",
       "      <th>cell_id</th>\n",
       "      <th>spatial_lda_knn7_kmeans_k7</th>\n",
       "      <th>spatial_lda_knn14_kmeans_k7</th>\n",
       "      <th>spatial_lda_knn21_kmeans_k7</th>\n",
       "      <th>spatial_lda_knn30_kmeans_k7</th>\n",
       "      <th>spatial_lda_knn40_kmeans_k7</th>\n",
       "      <th>spatial_lda_knn50_kmeans_k7</th>\n",
       "    </tr>\n",
       "  </thead>\n",
       "  <tbody>\n",
       "    <tr>\n",
       "      <th>0</th>\n",
       "      <td>1</td>\n",
       "      <td>29410.806452</td>\n",
       "      <td>35874.857801</td>\n",
       "      <td>1519.0</td>\n",
       "      <td>98.696620</td>\n",
       "      <td>30.646839</td>\n",
       "      <td>0.950568</td>\n",
       "      <td>-1.524977</td>\n",
       "      <td>228.651804</td>\n",
       "      <td>0.676615</td>\n",
       "      <td>...</td>\n",
       "      <td>True</td>\n",
       "      <td>991</td>\n",
       "      <td>Cancer_cells</td>\n",
       "      <td>991_1</td>\n",
       "      <td>0</td>\n",
       "      <td>3</td>\n",
       "      <td>2</td>\n",
       "      <td>5</td>\n",
       "      <td>3</td>\n",
       "      <td>6</td>\n",
       "    </tr>\n",
       "    <tr>\n",
       "      <th>1</th>\n",
       "      <td>2</td>\n",
       "      <td>29445.080408</td>\n",
       "      <td>36162.243140</td>\n",
       "      <td>1567.0</td>\n",
       "      <td>50.422862</td>\n",
       "      <td>39.687556</td>\n",
       "      <td>0.616832</td>\n",
       "      <td>0.160002</td>\n",
       "      <td>148.710678</td>\n",
       "      <td>0.975109</td>\n",
       "      <td>...</td>\n",
       "      <td>True</td>\n",
       "      <td>991</td>\n",
       "      <td>Cancer_cells</td>\n",
       "      <td>991_2</td>\n",
       "      <td>2</td>\n",
       "      <td>3</td>\n",
       "      <td>2</td>\n",
       "      <td>5</td>\n",
       "      <td>3</td>\n",
       "      <td>6</td>\n",
       "    </tr>\n",
       "    <tr>\n",
       "      <th>2</th>\n",
       "      <td>3</td>\n",
       "      <td>29505.171707</td>\n",
       "      <td>38455.235122</td>\n",
       "      <td>1025.0</td>\n",
       "      <td>40.280587</td>\n",
       "      <td>34.195207</td>\n",
       "      <td>0.528513</td>\n",
       "      <td>-0.346644</td>\n",
       "      <td>131.438600</td>\n",
       "      <td>0.927602</td>\n",
       "      <td>...</td>\n",
       "      <td>True</td>\n",
       "      <td>991</td>\n",
       "      <td>Cancer_cells</td>\n",
       "      <td>991_3</td>\n",
       "      <td>0</td>\n",
       "      <td>0</td>\n",
       "      <td>1</td>\n",
       "      <td>0</td>\n",
       "      <td>3</td>\n",
       "      <td>6</td>\n",
       "    </tr>\n",
       "    <tr>\n",
       "      <th>3</th>\n",
       "      <td>4</td>\n",
       "      <td>29539.721673</td>\n",
       "      <td>35060.844867</td>\n",
       "      <td>1315.0</td>\n",
       "      <td>61.049935</td>\n",
       "      <td>28.208869</td>\n",
       "      <td>0.886848</td>\n",
       "      <td>-1.447088</td>\n",
       "      <td>151.254834</td>\n",
       "      <td>0.947406</td>\n",
       "      <td>...</td>\n",
       "      <td>True</td>\n",
       "      <td>991</td>\n",
       "      <td>CD4_Tcells</td>\n",
       "      <td>991_4</td>\n",
       "      <td>3</td>\n",
       "      <td>5</td>\n",
       "      <td>0</td>\n",
       "      <td>2</td>\n",
       "      <td>4</td>\n",
       "      <td>2</td>\n",
       "    </tr>\n",
       "    <tr>\n",
       "      <th>4</th>\n",
       "      <td>5</td>\n",
       "      <td>29982.642779</td>\n",
       "      <td>36765.660558</td>\n",
       "      <td>3656.0</td>\n",
       "      <td>84.178897</td>\n",
       "      <td>57.384893</td>\n",
       "      <td>0.731630</td>\n",
       "      <td>0.251203</td>\n",
       "      <td>243.379726</td>\n",
       "      <td>0.926743</td>\n",
       "      <td>...</td>\n",
       "      <td>True</td>\n",
       "      <td>991</td>\n",
       "      <td>Cancer_cells</td>\n",
       "      <td>991_5</td>\n",
       "      <td>0</td>\n",
       "      <td>0</td>\n",
       "      <td>1</td>\n",
       "      <td>0</td>\n",
       "      <td>1</td>\n",
       "      <td>3</td>\n",
       "    </tr>\n",
       "    <tr>\n",
       "      <th>...</th>\n",
       "      <td>...</td>\n",
       "      <td>...</td>\n",
       "      <td>...</td>\n",
       "      <td>...</td>\n",
       "      <td>...</td>\n",
       "      <td>...</td>\n",
       "      <td>...</td>\n",
       "      <td>...</td>\n",
       "      <td>...</td>\n",
       "      <td>...</td>\n",
       "      <td>...</td>\n",
       "      <td>...</td>\n",
       "      <td>...</td>\n",
       "      <td>...</td>\n",
       "      <td>...</td>\n",
       "      <td>...</td>\n",
       "      <td>...</td>\n",
       "      <td>...</td>\n",
       "      <td>...</td>\n",
       "      <td>...</td>\n",
       "      <td>...</td>\n",
       "    </tr>\n",
       "    <tr>\n",
       "      <th>685800</th>\n",
       "      <td>685801</td>\n",
       "      <td>40389.067593</td>\n",
       "      <td>46087.962963</td>\n",
       "      <td>1080.0</td>\n",
       "      <td>56.372404</td>\n",
       "      <td>25.352581</td>\n",
       "      <td>0.893163</td>\n",
       "      <td>1.002754</td>\n",
       "      <td>141.610173</td>\n",
       "      <td>0.961710</td>\n",
       "      <td>...</td>\n",
       "      <td>True</td>\n",
       "      <td>991</td>\n",
       "      <td>COL1A1_cells</td>\n",
       "      <td>991_685801</td>\n",
       "      <td>1</td>\n",
       "      <td>5</td>\n",
       "      <td>0</td>\n",
       "      <td>2</td>\n",
       "      <td>4</td>\n",
       "      <td>4</td>\n",
       "    </tr>\n",
       "    <tr>\n",
       "      <th>685801</th>\n",
       "      <td>685802</td>\n",
       "      <td>40382.629182</td>\n",
       "      <td>47716.017658</td>\n",
       "      <td>1076.0</td>\n",
       "      <td>41.856049</td>\n",
       "      <td>34.076776</td>\n",
       "      <td>0.580666</td>\n",
       "      <td>1.330143</td>\n",
       "      <td>129.396970</td>\n",
       "      <td>0.951370</td>\n",
       "      <td>...</td>\n",
       "      <td>True</td>\n",
       "      <td>991</td>\n",
       "      <td>Cancer_cells</td>\n",
       "      <td>991_685802</td>\n",
       "      <td>0</td>\n",
       "      <td>0</td>\n",
       "      <td>1</td>\n",
       "      <td>0</td>\n",
       "      <td>1</td>\n",
       "      <td>3</td>\n",
       "    </tr>\n",
       "    <tr>\n",
       "      <th>685802</th>\n",
       "      <td>685803</td>\n",
       "      <td>40382.072917</td>\n",
       "      <td>48436.798177</td>\n",
       "      <td>768.0</td>\n",
       "      <td>33.256837</td>\n",
       "      <td>29.969709</td>\n",
       "      <td>0.433488</td>\n",
       "      <td>0.983058</td>\n",
       "      <td>105.254834</td>\n",
       "      <td>0.957606</td>\n",
       "      <td>...</td>\n",
       "      <td>True</td>\n",
       "      <td>991</td>\n",
       "      <td>CD8_Tcells</td>\n",
       "      <td>991_685803</td>\n",
       "      <td>1</td>\n",
       "      <td>5</td>\n",
       "      <td>6</td>\n",
       "      <td>6</td>\n",
       "      <td>0</td>\n",
       "      <td>5</td>\n",
       "    </tr>\n",
       "    <tr>\n",
       "      <th>685803</th>\n",
       "      <td>685804</td>\n",
       "      <td>40383.786948</td>\n",
       "      <td>45011.021113</td>\n",
       "      <td>1042.0</td>\n",
       "      <td>45.051210</td>\n",
       "      <td>31.924524</td>\n",
       "      <td>0.705583</td>\n",
       "      <td>1.218499</td>\n",
       "      <td>133.189863</td>\n",
       "      <td>0.964815</td>\n",
       "      <td>...</td>\n",
       "      <td>True</td>\n",
       "      <td>991</td>\n",
       "      <td>Unknown</td>\n",
       "      <td>991_685804</td>\n",
       "      <td>6</td>\n",
       "      <td>6</td>\n",
       "      <td>0</td>\n",
       "      <td>6</td>\n",
       "      <td>4</td>\n",
       "      <td>2</td>\n",
       "    </tr>\n",
       "    <tr>\n",
       "      <th>685804</th>\n",
       "      <td>685805</td>\n",
       "      <td>40381.744269</td>\n",
       "      <td>45377.274355</td>\n",
       "      <td>1396.0</td>\n",
       "      <td>54.635806</td>\n",
       "      <td>32.941409</td>\n",
       "      <td>0.797796</td>\n",
       "      <td>1.467234</td>\n",
       "      <td>148.953319</td>\n",
       "      <td>0.960771</td>\n",
       "      <td>...</td>\n",
       "      <td>True</td>\n",
       "      <td>991</td>\n",
       "      <td>CD4_Tcells</td>\n",
       "      <td>991_685805</td>\n",
       "      <td>5</td>\n",
       "      <td>5</td>\n",
       "      <td>0</td>\n",
       "      <td>6</td>\n",
       "      <td>0</td>\n",
       "      <td>2</td>\n",
       "    </tr>\n",
       "  </tbody>\n",
       "</table>\n",
       "<p>610182 rows × 28 columns</p>\n",
       "</div>"
      ],
      "text/plain": [
       "        CellID    Y_centroid    X_centroid    Area  MajorAxisLength  \\\n",
       "0            1  29410.806452  35874.857801  1519.0        98.696620   \n",
       "1            2  29445.080408  36162.243140  1567.0        50.422862   \n",
       "2            3  29505.171707  38455.235122  1025.0        40.280587   \n",
       "3            4  29539.721673  35060.844867  1315.0        61.049935   \n",
       "4            5  29982.642779  36765.660558  3656.0        84.178897   \n",
       "...        ...           ...           ...     ...              ...   \n",
       "685800  685801  40389.067593  46087.962963  1080.0        56.372404   \n",
       "685801  685802  40382.629182  47716.017658  1076.0        41.856049   \n",
       "685802  685803  40382.072917  48436.798177   768.0        33.256837   \n",
       "685803  685804  40383.786948  45011.021113  1042.0        45.051210   \n",
       "685804  685805  40381.744269  45377.274355  1396.0        54.635806   \n",
       "\n",
       "        MinorAxisLength  Eccentricity  Orientation      Extent  Solidity  ...  \\\n",
       "0             30.646839      0.950568    -1.524977  228.651804  0.676615  ...   \n",
       "1             39.687556      0.616832     0.160002  148.710678  0.975109  ...   \n",
       "2             34.195207      0.528513    -0.346644  131.438600  0.927602  ...   \n",
       "3             28.208869      0.886848    -1.447088  151.254834  0.947406  ...   \n",
       "4             57.384893      0.731630     0.251203  243.379726  0.926743  ...   \n",
       "...                 ...           ...          ...         ...       ...  ...   \n",
       "685800        25.352581      0.893163     1.002754  141.610173  0.961710  ...   \n",
       "685801        34.076776      0.580666     1.330143  129.396970  0.951370  ...   \n",
       "685802        29.969709      0.433488     0.983058  105.254834  0.957606  ...   \n",
       "685803        31.924524      0.705583     1.218499  133.189863  0.964815  ...   \n",
       "685804        32.941409      0.797796     1.467234  148.953319  0.960771  ...   \n",
       "\n",
       "        filtering  imageid     phenotype     cell_id  \\\n",
       "0            True      991  Cancer_cells       991_1   \n",
       "1            True      991  Cancer_cells       991_2   \n",
       "2            True      991  Cancer_cells       991_3   \n",
       "3            True      991    CD4_Tcells       991_4   \n",
       "4            True      991  Cancer_cells       991_5   \n",
       "...           ...      ...           ...         ...   \n",
       "685800       True      991  COL1A1_cells  991_685801   \n",
       "685801       True      991  Cancer_cells  991_685802   \n",
       "685802       True      991    CD8_Tcells  991_685803   \n",
       "685803       True      991       Unknown  991_685804   \n",
       "685804       True      991    CD4_Tcells  991_685805   \n",
       "\n",
       "        spatial_lda_knn7_kmeans_k7  spatial_lda_knn14_kmeans_k7  \\\n",
       "0                                0                            3   \n",
       "1                                2                            3   \n",
       "2                                0                            0   \n",
       "3                                3                            5   \n",
       "4                                0                            0   \n",
       "...                            ...                          ...   \n",
       "685800                           1                            5   \n",
       "685801                           0                            0   \n",
       "685802                           1                            5   \n",
       "685803                           6                            6   \n",
       "685804                           5                            5   \n",
       "\n",
       "        spatial_lda_knn21_kmeans_k7  spatial_lda_knn30_kmeans_k7  \\\n",
       "0                                 2                            5   \n",
       "1                                 2                            5   \n",
       "2                                 1                            0   \n",
       "3                                 0                            2   \n",
       "4                                 1                            0   \n",
       "...                             ...                          ...   \n",
       "685800                            0                            2   \n",
       "685801                            1                            0   \n",
       "685802                            6                            6   \n",
       "685803                            0                            6   \n",
       "685804                            0                            6   \n",
       "\n",
       "        spatial_lda_knn40_kmeans_k7  spatial_lda_knn50_kmeans_k7  \n",
       "0                                 3                            6  \n",
       "1                                 3                            6  \n",
       "2                                 3                            6  \n",
       "3                                 4                            2  \n",
       "4                                 1                            3  \n",
       "...                             ...                          ...  \n",
       "685800                            4                            4  \n",
       "685801                            1                            3  \n",
       "685802                            0                            5  \n",
       "685803                            4                            2  \n",
       "685804                            0                            2  \n",
       "\n",
       "[610182 rows x 28 columns]"
      ]
     },
     "execution_count": 15,
     "metadata": {},
     "output_type": "execute_result"
    }
   ],
   "source": [
    "adata_991 = adata[adata.obs[\"imageid\"]==991].copy()\n",
    "adata_991.obs"
   ]
  },
  {
   "cell_type": "code",
   "execution_count": 19,
   "metadata": {},
   "outputs": [],
   "source": [
    "# 991\n",
    "# load gdf with segmentation mask\n",
    "gdf = gpd.read_file(\"../data/perSample/991/qc/20250410_991_segmentation_as_polygons.geojson\")"
   ]
  },
  {
   "cell_type": "code",
   "execution_count": 20,
   "metadata": {},
   "outputs": [
    {
     "data": {
      "text/html": [
       "<div>\n",
       "<style scoped>\n",
       "    .dataframe tbody tr th:only-of-type {\n",
       "        vertical-align: middle;\n",
       "    }\n",
       "\n",
       "    .dataframe tbody tr th {\n",
       "        vertical-align: top;\n",
       "    }\n",
       "\n",
       "    .dataframe thead th {\n",
       "        text-align: right;\n",
       "    }\n",
       "</style>\n",
       "<table border=\"1\" class=\"dataframe\">\n",
       "  <thead>\n",
       "    <tr style=\"text-align: right;\">\n",
       "      <th></th>\n",
       "      <th>cellId</th>\n",
       "      <th>geometry</th>\n",
       "    </tr>\n",
       "  </thead>\n",
       "  <tbody>\n",
       "    <tr>\n",
       "      <th>0</th>\n",
       "      <td>262908</td>\n",
       "      <td>POLYGON ((38223 0, 38222 3, 38226 9, 38233 11,...</td>\n",
       "    </tr>\n",
       "    <tr>\n",
       "      <th>1</th>\n",
       "      <td>262909</td>\n",
       "      <td>POLYGON ((38270 0, 38270 6, 38267 12, 38274 18...</td>\n",
       "    </tr>\n",
       "    <tr>\n",
       "      <th>2</th>\n",
       "      <td>262912</td>\n",
       "      <td>POLYGON ((39148 0, 39147 3, 39150 11, 39157 15...</td>\n",
       "    </tr>\n",
       "    <tr>\n",
       "      <th>3</th>\n",
       "      <td>262911</td>\n",
       "      <td>POLYGON ((38413 0, 38410 9, 38414 17, 38416 18...</td>\n",
       "    </tr>\n",
       "    <tr>\n",
       "      <th>4</th>\n",
       "      <td>651333</td>\n",
       "      <td>POLYGON ((40289 0, 40286 7, 40285 15, 40291 25...</td>\n",
       "    </tr>\n",
       "    <tr>\n",
       "      <th>...</th>\n",
       "      <td>...</td>\n",
       "      <td>...</td>\n",
       "    </tr>\n",
       "    <tr>\n",
       "      <th>685800</th>\n",
       "      <td>622146</td>\n",
       "      <td>POLYGON ((63773 44428, 63764 44434, 63758 4444...</td>\n",
       "    </tr>\n",
       "    <tr>\n",
       "      <th>685801</th>\n",
       "      <td>582148</td>\n",
       "      <td>POLYGON ((65461 44415, 65449 44417, 65444 4442...</td>\n",
       "    </tr>\n",
       "    <tr>\n",
       "      <th>685802</th>\n",
       "      <td>582203</td>\n",
       "      <td>POLYGON ((66747 44435, 66740 44439, 66739 4444...</td>\n",
       "    </tr>\n",
       "    <tr>\n",
       "      <th>685803</th>\n",
       "      <td>582214</td>\n",
       "      <td>POLYGON ((66848 44445, 66829 44448, 66817 4444...</td>\n",
       "    </tr>\n",
       "    <tr>\n",
       "      <th>685804</th>\n",
       "      <td>399825</td>\n",
       "      <td>POLYGON ((73157 44441, 73148 44446, 73146 4446...</td>\n",
       "    </tr>\n",
       "  </tbody>\n",
       "</table>\n",
       "<p>685805 rows × 2 columns</p>\n",
       "</div>"
      ],
      "text/plain": [
       "        cellId                                           geometry\n",
       "0       262908  POLYGON ((38223 0, 38222 3, 38226 9, 38233 11,...\n",
       "1       262909  POLYGON ((38270 0, 38270 6, 38267 12, 38274 18...\n",
       "2       262912  POLYGON ((39148 0, 39147 3, 39150 11, 39157 15...\n",
       "3       262911  POLYGON ((38413 0, 38410 9, 38414 17, 38416 18...\n",
       "4       651333  POLYGON ((40289 0, 40286 7, 40285 15, 40291 25...\n",
       "...        ...                                                ...\n",
       "685800  622146  POLYGON ((63773 44428, 63764 44434, 63758 4444...\n",
       "685801  582148  POLYGON ((65461 44415, 65449 44417, 65444 4442...\n",
       "685802  582203  POLYGON ((66747 44435, 66740 44439, 66739 4444...\n",
       "685803  582214  POLYGON ((66848 44445, 66829 44448, 66817 4444...\n",
       "685804  399825  POLYGON ((73157 44441, 73148 44446, 73146 4446...\n",
       "\n",
       "[685805 rows x 2 columns]"
      ]
     },
     "execution_count": 20,
     "metadata": {},
     "output_type": "execute_result"
    }
   ],
   "source": [
    "gdf"
   ]
  },
  {
   "cell_type": "code",
   "execution_count": 21,
   "metadata": {},
   "outputs": [],
   "source": [
    "#load color_dict\n",
    "with open(\"../assets/RCN_colors.json\", \"r\") as f:\n",
    "    loaded_dict = json.load(f)"
   ]
  },
  {
   "cell_type": "code",
   "execution_count": 35,
   "metadata": {},
   "outputs": [
    {
     "data": {
      "text/plain": [
       "<module 'opendvp.anndata_utils' from '/Users/jnimoca/Jose_BI/1_Pipelines/openDVP/src/opendvp/anndata_utils.py'>"
      ]
     },
     "execution_count": 35,
     "metadata": {},
     "output_type": "execute_result"
    }
   ],
   "source": [
    "importlib.reload(anndata_utils)"
   ]
  },
  {
   "cell_type": "code",
   "execution_count": 42,
   "metadata": {},
   "outputs": [
    {
     "data": {
      "text/plain": [
       "CategoricalDtype(categories=['0', '1', '2', '3', '4', '5', '6'], ordered=False, categories_dtype=object)"
      ]
     },
     "execution_count": 42,
     "metadata": {},
     "output_type": "execute_result"
    }
   ],
   "source": [
    "adata.obs.spatial_lda_knn21_kmeans_k7.dtype"
   ]
  },
  {
   "cell_type": "code",
   "execution_count": 24,
   "metadata": {},
   "outputs": [
    {
     "name": "stderr",
     "output_type": "stream",
     "text": [
      "\u001b[32m2025-04-10 16:31:33.879\u001b[0m | \u001b[1mINFO    \u001b[0m | \u001b[36mopendvp.anndata_utils\u001b[0m:\u001b[36mcolor_geojson_w_adata\u001b[0m:\u001b[36m147\u001b[0m - \u001b[1m -- Adding color to polygons for QuPath visualization -- \u001b[0m\n",
      "\u001b[32m2025-04-10 16:31:33.990\u001b[0m | \u001b[33m\u001b[1mWARNING \u001b[0m | \u001b[36mopendvp.anndata_utils\u001b[0m:\u001b[36mcolor_geojson_w_adata\u001b[0m:\u001b[36m157\u001b[0m - \u001b[33m\u001b[1mData types between geodaframe int32 and adataobs col int64 do not match\u001b[0m\n",
      "\u001b[32m2025-04-10 16:31:33.991\u001b[0m | \u001b[1mINFO    \u001b[0m | \u001b[36mopendvp.anndata_utils\u001b[0m:\u001b[36mcolor_geojson_w_adata\u001b[0m:\u001b[36m160\u001b[0m - \u001b[1mMatching gdf[cellId] to adata.obs[CellID]\u001b[0m\n",
      "\u001b[32m2025-04-10 16:31:34.016\u001b[0m | \u001b[1mINFO    \u001b[0m | \u001b[36mopendvp.utils\u001b[0m:\u001b[36mparse_color_for_qupath\u001b[0m:\u001b[36m121\u001b[0m - \u001b[1mParsing colors compatible with QuPath\u001b[0m\n",
      "\u001b[32m2025-04-10 16:31:34.017\u001b[0m | \u001b[1mINFO    \u001b[0m | \u001b[36mopendvp.utils\u001b[0m:\u001b[36mparse_color_for_qupath\u001b[0m:\u001b[36m130\u001b[0m - \u001b[1mCustom color dictionary passed, adapting to QuPath color format\u001b[0m\n",
      "\u001b[32m2025-04-10 16:31:36.830\u001b[0m | \u001b[1mINFO    \u001b[0m | \u001b[36mopendvp.anndata_utils\u001b[0m:\u001b[36mcolor_geojson_w_adata\u001b[0m:\u001b[36m192\u001b[0m - \u001b[1mSimplifying the geometry with tolerance 1\u001b[0m\n",
      "\u001b[32m2025-04-10 16:31:43.585\u001b[0m | \u001b[1mINFO    \u001b[0m | \u001b[36mopendvp.anndata_utils\u001b[0m:\u001b[36mcolor_geojson_w_adata\u001b[0m:\u001b[36m195\u001b[0m - \u001b[1mSimplified all polygons in 6.8 seconds\u001b[0m\n",
      "\u001b[32m2025-04-10 16:31:43.585\u001b[0m | \u001b[1mINFO    \u001b[0m | \u001b[36mopendvp.anndata_utils\u001b[0m:\u001b[36mcolor_geojson_w_adata\u001b[0m:\u001b[36m197\u001b[0m - \u001b[1mWriting polygons as geojson file\u001b[0m\n",
      "\u001b[32m2025-04-10 16:32:03.893\u001b[0m | \u001b[1mINFO    \u001b[0m | \u001b[36mopendvp.anndata_utils\u001b[0m:\u001b[36mcolor_geojson_w_adata\u001b[0m:\u001b[36m200\u001b[0m - \u001b[1mFile written in 20.3 seconds\u001b[0m\n"
     ]
    }
   ],
   "source": [
    "anndata_utils.color_geojson_w_adata(\n",
    "    geodataframe = gdf,\n",
    "    geodataframe_index_key = \"cellId\",\n",
    "    adata=adata_991,\n",
    "    adata_obs_index_key=\"CellID\",\n",
    "    adata_obs_category_key=\"spatial_lda_knn21_kmeans_k7\",\n",
    "    color_dict = loaded_dict,\n",
    "    export_path = \"../data/perSample/991/qc/20250410_991_RCN_mask.geojson\"\n",
    ")"
   ]
  },
  {
   "cell_type": "code",
   "execution_count": 36,
   "metadata": {},
   "outputs": [
    {
     "name": "stderr",
     "output_type": "stream",
     "text": [
      "\u001b[32m2025-04-10 16:57:08.630\u001b[0m | \u001b[34m\u001b[1mDEBUG   \u001b[0m | \u001b[36mopendvp.anndata_utils\u001b[0m:\u001b[36madataobs_to_voronoi_geojson\u001b[0m:\u001b[36m226\u001b[0m - \u001b[34m\u001b[1m df shape: (1615233, 28)\u001b[0m\n",
      "\u001b[32m2025-04-10 16:57:08.842\u001b[0m | \u001b[34m\u001b[1mDEBUG   \u001b[0m | \u001b[36mopendvp.anndata_utils\u001b[0m:\u001b[36madataobs_to_voronoi_geojson\u001b[0m:\u001b[36m234\u001b[0m - \u001b[34m\u001b[1m df shape after imageid subset: (610182, 28)\u001b[0m\n",
      "\u001b[32m2025-04-10 16:57:08.842\u001b[0m | \u001b[1mINFO    \u001b[0m | \u001b[36mopendvp.anndata_utils\u001b[0m:\u001b[36madataobs_to_voronoi_geojson\u001b[0m:\u001b[36m235\u001b[0m - \u001b[1mProcessing 991, loaded dataframe\u001b[0m\n",
      "\u001b[32m2025-04-10 16:57:08.843\u001b[0m | \u001b[1mINFO    \u001b[0m | \u001b[36mopendvp.anndata_utils\u001b[0m:\u001b[36madataobs_to_voronoi_geojson\u001b[0m:\u001b[36m251\u001b[0m - \u001b[1mRunning Voronoi\u001b[0m\n",
      "\u001b[32m2025-04-10 16:57:34.776\u001b[0m | \u001b[1mINFO    \u001b[0m | \u001b[36mopendvp.anndata_utils\u001b[0m:\u001b[36madataobs_to_voronoi_geojson\u001b[0m:\u001b[36m261\u001b[0m - \u001b[1mVoronoi done\u001b[0m\n",
      "\u001b[32m2025-04-10 16:57:34.853\u001b[0m | \u001b[1mINFO    \u001b[0m | \u001b[36mopendvp.anndata_utils\u001b[0m:\u001b[36madataobs_to_voronoi_geojson\u001b[0m:\u001b[36m265\u001b[0m - \u001b[1mTransformed to geodataframe\u001b[0m\n",
      "\u001b[32m2025-04-10 16:57:34.856\u001b[0m | \u001b[1mINFO    \u001b[0m | \u001b[36mopendvp.anndata_utils\u001b[0m:\u001b[36madataobs_to_voronoi_geojson\u001b[0m:\u001b[36m273\u001b[0m - \u001b[1mBounding box: x_min: 878.0318021201414, x_max: 71605.30902111324, y_min: 6.78003120124805, y_max 42764.688888888886\u001b[0m\n",
      "\u001b[32m2025-04-10 16:57:39.396\u001b[0m | \u001b[1mINFO    \u001b[0m | \u001b[36mopendvp.anndata_utils\u001b[0m:\u001b[36madataobs_to_voronoi_geojson\u001b[0m:\u001b[36m277\u001b[0m - \u001b[1mFiltered out infinite polygons\u001b[0m\n",
      "\u001b[32m2025-04-10 16:57:39.482\u001b[0m | \u001b[1mINFO    \u001b[0m | \u001b[36mopendvp.anndata_utils\u001b[0m:\u001b[36madataobs_to_voronoi_geojson\u001b[0m:\u001b[36m282\u001b[0m - \u001b[1mFiltered out large polygons based on the 98% quantile\u001b[0m\n",
      "\u001b[32m2025-04-10 16:57:39.511\u001b[0m | \u001b[1mINFO    \u001b[0m | \u001b[36mopendvp.anndata_utils\u001b[0m:\u001b[36madataobs_to_voronoi_geojson\u001b[0m:\u001b[36m297\u001b[0m - \u001b[1mMerging polygons for cellular neighborhoods\u001b[0m\n",
      "/opt/homebrew/Caskroom/mambaforge/base/envs/spatialdata/lib/python3.12/site-packages/pyogrio/geopandas.py:662: UserWarning: 'crs' was not provided.  The output dataset will not have projection information defined and may not be usable in other systems.\n",
      "  write(\n",
      "/opt/homebrew/Caskroom/mambaforge/base/envs/spatialdata/lib/python3.12/site-packages/pyogrio/geopandas.py:662: UserWarning: 'crs' was not provided.  The output dataset will not have projection information defined and may not be usable in other systems.\n",
      "  write(\n",
      "\u001b[32m2025-04-10 16:58:24.166\u001b[0m | \u001b[32m\u001b[1mSUCCESS \u001b[0m | \u001b[36mopendvp.anndata_utils\u001b[0m:\u001b[36madataobs_to_voronoi_geojson\u001b[0m:\u001b[36m311\u001b[0m - \u001b[32m\u001b[1mExported 991 to geojson\u001b[0m\n"
     ]
    }
   ],
   "source": [
    "anndata_utils.adataobs_to_voronoi_geojson(\n",
    "    df = adata.obs,\n",
    "    imageid = 991,\n",
    "    subset = None,\n",
    "    category_1 = \"phenotype\",\n",
    "    category_2 = \"spatial_lda_knn21_kmeans_k7\",\n",
    "    output_path = \"../data/perSample/991/qc/\"\n",
    ")"
   ]
  },
  {
   "cell_type": "markdown",
   "metadata": {},
   "source": [
    "## Export 992 RCNs "
   ]
  },
  {
   "cell_type": "code",
   "execution_count": 37,
   "metadata": {},
   "outputs": [
    {
     "data": {
      "text/plain": [
       "AnnData object with n_obs × n_vars = 1005051 × 8\n",
       "    obs: 'CellID', 'Y_centroid', 'X_centroid', 'Area', 'MajorAxisLength', 'MinorAxisLength', 'Eccentricity', 'Orientation', 'Extent', 'Solidity', 'artefact', 'Area_filter_nottoobig', 'Area_filter_nottoolow', 'Area_filter', 'DAPI_ratio', 'DAPI_ratio_pass_nottoolow', 'DAPI_ratio_pass_nottoohigh', 'DAPI_ratio_pass', 'filtering', 'imageid', 'phenotype', 'cell_id', 'spatial_lda_knn7_kmeans_k7', 'spatial_lda_knn14_kmeans_k7', 'spatial_lda_knn21_kmeans_k7', 'spatial_lda_knn30_kmeans_k7', 'spatial_lda_knn40_kmeans_k7', 'spatial_lda_knn50_kmeans_k7'\n",
       "    uns: 'spatial_lda_knn14', 'spatial_lda_knn14_probability', 'spatial_lda_knn21', 'spatial_lda_knn21_probability', 'spatial_lda_knn30', 'spatial_lda_knn30_probability', 'spatial_lda_knn40', 'spatial_lda_knn40_probability', 'spatial_lda_knn50', 'spatial_lda_knn50_probability', 'spatial_lda_knn7', 'spatial_lda_knn7_probability'\n",
       "    layers: 'log'"
      ]
     },
     "execution_count": 37,
     "metadata": {},
     "output_type": "execute_result"
    }
   ],
   "source": [
    "adata_992 = adata[adata.obs.imageid==992].copy()\n",
    "adata_992"
   ]
  },
  {
   "cell_type": "code",
   "execution_count": 38,
   "metadata": {},
   "outputs": [],
   "source": [
    "# 992\n",
    "# load gdf with segmentation mask\n",
    "gdf = gpd.read_file(\"../data/perSample/992/qc/20250410_992_segmentation_as_polygons.geojson\")"
   ]
  },
  {
   "cell_type": "code",
   "execution_count": 39,
   "metadata": {},
   "outputs": [
    {
     "name": "stderr",
     "output_type": "stream",
     "text": [
      "\u001b[32m2025-04-10 17:04:12.072\u001b[0m | \u001b[1mINFO    \u001b[0m | \u001b[36mopendvp.anndata_utils\u001b[0m:\u001b[36mcolor_geojson_w_adata\u001b[0m:\u001b[36m153\u001b[0m - \u001b[1m -- Adding color to polygons for QuPath visualization -- \u001b[0m\n",
      "\u001b[32m2025-04-10 17:04:12.251\u001b[0m | \u001b[33m\u001b[1mWARNING \u001b[0m | \u001b[36mopendvp.anndata_utils\u001b[0m:\u001b[36mcolor_geojson_w_adata\u001b[0m:\u001b[36m163\u001b[0m - \u001b[33m\u001b[1mData types between geodaframe int32 and adataobs col int64 do not match\u001b[0m\n",
      "\u001b[32m2025-04-10 17:04:12.252\u001b[0m | \u001b[1mINFO    \u001b[0m | \u001b[36mopendvp.anndata_utils\u001b[0m:\u001b[36mcolor_geojson_w_adata\u001b[0m:\u001b[36m166\u001b[0m - \u001b[1mMatching gdf[cellId] to adata.obs[CellID]\u001b[0m\n",
      "\u001b[32m2025-04-10 17:04:12.292\u001b[0m | \u001b[1mINFO    \u001b[0m | \u001b[36mopendvp.utils\u001b[0m:\u001b[36mparse_color_for_qupath\u001b[0m:\u001b[36m121\u001b[0m - \u001b[1mParsing colors compatible with QuPath\u001b[0m\n",
      "\u001b[32m2025-04-10 17:04:12.292\u001b[0m | \u001b[1mINFO    \u001b[0m | \u001b[36mopendvp.utils\u001b[0m:\u001b[36mparse_color_for_qupath\u001b[0m:\u001b[36m130\u001b[0m - \u001b[1mCustom color dictionary passed, adapting to QuPath color format\u001b[0m\n",
      "\u001b[32m2025-04-10 17:04:16.254\u001b[0m | \u001b[1mINFO    \u001b[0m | \u001b[36mopendvp.anndata_utils\u001b[0m:\u001b[36mcolor_geojson_w_adata\u001b[0m:\u001b[36m198\u001b[0m - \u001b[1mSimplifying the geometry with tolerance 1\u001b[0m\n",
      "\u001b[32m2025-04-10 17:04:27.025\u001b[0m | \u001b[1mINFO    \u001b[0m | \u001b[36mopendvp.anndata_utils\u001b[0m:\u001b[36mcolor_geojson_w_adata\u001b[0m:\u001b[36m201\u001b[0m - \u001b[1mSimplified all polygons in 10.8 seconds\u001b[0m\n",
      "\u001b[32m2025-04-10 17:04:27.027\u001b[0m | \u001b[1mINFO    \u001b[0m | \u001b[36mopendvp.anndata_utils\u001b[0m:\u001b[36mcolor_geojson_w_adata\u001b[0m:\u001b[36m203\u001b[0m - \u001b[1mWriting polygons as geojson file\u001b[0m\n",
      "\u001b[32m2025-04-10 17:05:01.970\u001b[0m | \u001b[1mINFO    \u001b[0m | \u001b[36mopendvp.anndata_utils\u001b[0m:\u001b[36mcolor_geojson_w_adata\u001b[0m:\u001b[36m206\u001b[0m - \u001b[1mFile written in 34.9 seconds\u001b[0m\n"
     ]
    }
   ],
   "source": [
    "anndata_utils.color_geojson_w_adata(\n",
    "    geodataframe = gdf,\n",
    "    geodataframe_index_key = \"cellId\",\n",
    "    adata=adata_992,\n",
    "    adata_obs_index_key=\"CellID\",\n",
    "    adata_obs_category_key=\"spatial_lda_knn21_kmeans_k7\",\n",
    "    color_dict = loaded_dict,\n",
    "    export_path = \"../data/perSample/992/qc/20250410_992_RCN_mask.geojson\"\n",
    ")"
   ]
  },
  {
   "cell_type": "code",
   "execution_count": 40,
   "metadata": {},
   "outputs": [
    {
     "name": "stderr",
     "output_type": "stream",
     "text": [
      "\u001b[32m2025-04-10 17:06:21.880\u001b[0m | \u001b[34m\u001b[1mDEBUG   \u001b[0m | \u001b[36mopendvp.anndata_utils\u001b[0m:\u001b[36madataobs_to_voronoi_geojson\u001b[0m:\u001b[36m226\u001b[0m - \u001b[34m\u001b[1m df shape: (1615233, 28)\u001b[0m\n",
      "\u001b[32m2025-04-10 17:06:22.076\u001b[0m | \u001b[34m\u001b[1mDEBUG   \u001b[0m | \u001b[36mopendvp.anndata_utils\u001b[0m:\u001b[36madataobs_to_voronoi_geojson\u001b[0m:\u001b[36m234\u001b[0m - \u001b[34m\u001b[1m df shape after imageid subset: (1005051, 28)\u001b[0m\n",
      "\u001b[32m2025-04-10 17:06:22.077\u001b[0m | \u001b[1mINFO    \u001b[0m | \u001b[36mopendvp.anndata_utils\u001b[0m:\u001b[36madataobs_to_voronoi_geojson\u001b[0m:\u001b[36m235\u001b[0m - \u001b[1mProcessing 992, loaded dataframe\u001b[0m\n",
      "\u001b[32m2025-04-10 17:06:22.077\u001b[0m | \u001b[1mINFO    \u001b[0m | \u001b[36mopendvp.anndata_utils\u001b[0m:\u001b[36madataobs_to_voronoi_geojson\u001b[0m:\u001b[36m251\u001b[0m - \u001b[1mRunning Voronoi\u001b[0m\n",
      "\u001b[32m2025-04-10 17:07:03.440\u001b[0m | \u001b[1mINFO    \u001b[0m | \u001b[36mopendvp.anndata_utils\u001b[0m:\u001b[36madataobs_to_voronoi_geojson\u001b[0m:\u001b[36m261\u001b[0m - \u001b[1mVoronoi done\u001b[0m\n",
      "\u001b[32m2025-04-10 17:07:03.637\u001b[0m | \u001b[1mINFO    \u001b[0m | \u001b[36mopendvp.anndata_utils\u001b[0m:\u001b[36madataobs_to_voronoi_geojson\u001b[0m:\u001b[36m265\u001b[0m - \u001b[1mTransformed to geodataframe\u001b[0m\n",
      "\u001b[32m2025-04-10 17:07:03.642\u001b[0m | \u001b[1mINFO    \u001b[0m | \u001b[36mopendvp.anndata_utils\u001b[0m:\u001b[36madataobs_to_voronoi_geojson\u001b[0m:\u001b[36m273\u001b[0m - \u001b[1mBounding box: x_min: 2216.9608763693273, x_max: 70848.77680906713, y_min: 20.43081312410842, y_max 47084.98548812665\u001b[0m\n",
      "\u001b[32m2025-04-10 17:07:11.118\u001b[0m | \u001b[1mINFO    \u001b[0m | \u001b[36mopendvp.anndata_utils\u001b[0m:\u001b[36madataobs_to_voronoi_geojson\u001b[0m:\u001b[36m277\u001b[0m - \u001b[1mFiltered out infinite polygons\u001b[0m\n",
      "\u001b[32m2025-04-10 17:07:11.258\u001b[0m | \u001b[1mINFO    \u001b[0m | \u001b[36mopendvp.anndata_utils\u001b[0m:\u001b[36madataobs_to_voronoi_geojson\u001b[0m:\u001b[36m282\u001b[0m - \u001b[1mFiltered out large polygons based on the 98% quantile\u001b[0m\n",
      "\u001b[32m2025-04-10 17:07:11.328\u001b[0m | \u001b[1mINFO    \u001b[0m | \u001b[36mopendvp.anndata_utils\u001b[0m:\u001b[36madataobs_to_voronoi_geojson\u001b[0m:\u001b[36m297\u001b[0m - \u001b[1mMerging polygons for cellular neighborhoods\u001b[0m\n",
      "/opt/homebrew/Caskroom/mambaforge/base/envs/spatialdata/lib/python3.12/site-packages/pyogrio/geopandas.py:662: UserWarning: 'crs' was not provided.  The output dataset will not have projection information defined and may not be usable in other systems.\n",
      "  write(\n",
      "/opt/homebrew/Caskroom/mambaforge/base/envs/spatialdata/lib/python3.12/site-packages/pyogrio/geopandas.py:662: UserWarning: 'crs' was not provided.  The output dataset will not have projection information defined and may not be usable in other systems.\n",
      "  write(\n",
      "\u001b[32m2025-04-10 17:08:21.978\u001b[0m | \u001b[32m\u001b[1mSUCCESS \u001b[0m | \u001b[36mopendvp.anndata_utils\u001b[0m:\u001b[36madataobs_to_voronoi_geojson\u001b[0m:\u001b[36m311\u001b[0m - \u001b[32m\u001b[1mExported 992 to geojson\u001b[0m\n"
     ]
    }
   ],
   "source": [
    "anndata_utils.adataobs_to_voronoi_geojson(\n",
    "    df = adata.obs,\n",
    "    imageid = 992,\n",
    "    subset = None,\n",
    "    category_1 = \"phenotype\",\n",
    "    category_2 = \"spatial_lda_knn21_kmeans_k7\",\n",
    "    output_path = \"../data/perSample/992/qc/\"\n",
    ")"
   ]
  }
 ],
 "metadata": {
  "kernelspec": {
   "display_name": "spatialdata",
   "language": "python",
   "name": "python3"
  },
  "language_info": {
   "codemirror_mode": {
    "name": "ipython",
    "version": 3
   },
   "file_extension": ".py",
   "mimetype": "text/x-python",
   "name": "python",
   "nbconvert_exporter": "python",
   "pygments_lexer": "ipython3",
   "version": "3.12.9"
  }
 },
 "nbformat": 4,
 "nbformat_minor": 2
}
