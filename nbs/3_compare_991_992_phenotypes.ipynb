{
 "cells": [
  {
   "cell_type": "code",
   "execution_count": 1,
   "metadata": {},
   "outputs": [
    {
     "name": "stdout",
     "output_type": "stream",
     "text": [
      "Running SCIMAP  2.2.11\n",
      "numpy 1.26.4\n",
      "pandas 2.2.3\n",
      "geopandas 1.0.1\n",
      "anndata 0.10.9\n",
      "scimap 2.2.11\n"
     ]
    }
   ],
   "source": [
    "import os,sys,time\n",
    "from loguru import logger \n",
    "\n",
    "import scimap as sm\n",
    "\n",
    "import numpy as np\n",
    "import pandas as pd\n",
    "import shapely\n",
    "import geopandas as gpd\n",
    "import anndata as ad\n",
    "\n",
    "import pyarrow\n",
    "import ast\n",
    "\n",
    "#plotting\n",
    "import matplotlib.pyplot as plt\n",
    "import seaborn as sns\n",
    "\n",
    "#custom functions\n",
    "sys.path.append(os.path.abspath('/Users/jnimoca/Jose_BI/1_Pipelines/openDVP/src/'))\n",
    "import opendvp.anndata_utils\n",
    "import opendvp.filtering\n",
    "import importlib\n",
    "\n",
    "for package in [np,pd,gpd,ad,sm]:\n",
    "    print(f\"{package.__name__} {package.__version__}\")"
   ]
  },
  {
   "cell_type": "markdown",
   "metadata": {},
   "source": [
    "## Step 1: Merge phenotyped adatas"
   ]
  },
  {
   "cell_type": "code",
   "execution_count": 2,
   "metadata": {},
   "outputs": [],
   "source": [
    "adata_991 = ad.read_h5ad(\"../data/perSample/991/adata_checkpoints/7_adata_pheno/20250302_1823_7_adata_pheno_adata.h5ad\")\n",
    "adata_992 = ad.read_h5ad(\"../data/perSample/992/adata_checkpoints/7_adata_pheno/20250303_1112_7_adata_pheno_adata.h5ad\")"
   ]
  },
  {
   "cell_type": "code",
   "execution_count": 3,
   "metadata": {},
   "outputs": [
    {
     "name": "stderr",
     "output_type": "stream",
     "text": [
      "/Users/jnimoca/Jose_BI/4_Projects/P26_BCCN/P26E10_E11_ImageAnalysis/.pixi/envs/default/lib/python3.11/site-packages/anndata/_core/anndata.py:1754: UserWarning:\n",
      "\n",
      "Observation names are not unique. To make them unique, call `.obs_names_make_unique`.\n",
      "\n",
      "/Users/jnimoca/Jose_BI/4_Projects/P26_BCCN/P26E10_E11_ImageAnalysis/.pixi/envs/default/lib/python3.11/site-packages/anndata/_core/anndata.py:1754: UserWarning:\n",
      "\n",
      "Observation names are not unique. To make them unique, call `.obs_names_make_unique`.\n",
      "\n"
     ]
    }
   ],
   "source": [
    "adata_concat = ad.concat([adata_991,adata_992])"
   ]
  },
  {
   "cell_type": "code",
   "execution_count": 15,
   "metadata": {},
   "outputs": [
    {
     "data": {
      "text/plain": [
       "imageid\n",
       "992    1005051\n",
       "991     610182\n",
       "Name: count, dtype: int64"
      ]
     },
     "execution_count": 15,
     "metadata": {},
     "output_type": "execute_result"
    }
   ],
   "source": [
    "adata_concat.obs['imageid'].value_counts()"
   ]
  },
  {
   "cell_type": "code",
   "execution_count": 27,
   "metadata": {},
   "outputs": [],
   "source": [
    "adata_concat.obs['cell_id'] = adata_concat.obs['imageid'].astype('str') + \"_\" + adata_concat.obs['CellID'].astype('str')"
   ]
  },
  {
   "cell_type": "code",
   "execution_count": 29,
   "metadata": {},
   "outputs": [
    {
     "name": "stderr",
     "output_type": "stream",
     "text": [
      "\u001b[32m2025-03-03 13:36:30.990\u001b[0m | \u001b[1mINFO    \u001b[0m | \u001b[36mopendvp.anndata_utils\u001b[0m:\u001b[36msave_adata_checkpoint\u001b[0m:\u001b[36m73\u001b[0m - \u001b[1mWriting h5ad\u001b[0m\n",
      "\u001b[32m2025-03-03 13:36:33.154\u001b[0m | \u001b[32m\u001b[1mSUCCESS \u001b[0m | \u001b[36mopendvp.anndata_utils\u001b[0m:\u001b[36msave_adata_checkpoint\u001b[0m:\u001b[36m75\u001b[0m - \u001b[32m\u001b[1mWrote h5ad file\u001b[0m\n",
      "\u001b[32m2025-03-03 13:36:33.154\u001b[0m | \u001b[1mINFO    \u001b[0m | \u001b[36mopendvp.anndata_utils\u001b[0m:\u001b[36msave_adata_checkpoint\u001b[0m:\u001b[36m82\u001b[0m - \u001b[1mWriting parquet\u001b[0m\n",
      "\u001b[32m2025-03-03 13:36:33.953\u001b[0m | \u001b[32m\u001b[1mSUCCESS \u001b[0m | \u001b[36mopendvp.anndata_utils\u001b[0m:\u001b[36msave_adata_checkpoint\u001b[0m:\u001b[36m84\u001b[0m - \u001b[32m\u001b[1mWrote parquet file\u001b[0m\n"
     ]
    }
   ],
   "source": [
    "opendvp.anndata_utils.save_adata_checkpoint(adata_concat, path_to_dir=\"../data/perSample/991_992/\", checkpoint_name=\"0_concat\")"
   ]
  },
  {
   "cell_type": "markdown",
   "metadata": {},
   "source": [
    "## Compare phenotypes"
   ]
  },
  {
   "cell_type": "code",
   "execution_count": 45,
   "metadata": {},
   "outputs": [],
   "source": [
    "x_axis='imageid'\n",
    "y_axis='phenotype'\n",
    "\n",
    "data = pd.DataFrame(adata_concat.obs)[[x_axis, y_axis]].astype(str)"
   ]
  },
  {
   "cell_type": "code",
   "execution_count": 46,
   "metadata": {},
   "outputs": [
    {
     "data": {
      "application/vnd.microsoft.datawrangler.viewer.v0+json": {
       "columns": [
        {
         "name": "index",
         "rawType": "object",
         "type": "string"
        },
        {
         "name": "imageid",
         "rawType": "object",
         "type": "string"
        },
        {
         "name": "phenotype",
         "rawType": "object",
         "type": "string"
        }
       ],
       "conversionMethod": "pd.DataFrame",
       "ref": "f1968197-0345-46ad-b145-b7afb079e9fc",
       "rows": [
        [
         "0",
         "991",
         "Cancer_cells"
        ],
        [
         "1",
         "991",
         "Cancer_cells"
        ],
        [
         "2",
         "991",
         "Cancer_cells"
        ],
        [
         "3",
         "991",
         "CD4_Tcells"
        ],
        [
         "4",
         "991",
         "Cancer_cells"
        ],
        [
         "5",
         "991",
         "CD4_Tcells"
        ],
        [
         "6",
         "991",
         "Cancer_cells"
        ],
        [
         "7",
         "991",
         "CD4_Tcells"
        ],
        [
         "8",
         "991",
         "CD4_Tcells"
        ],
        [
         "9",
         "991",
         "CD8_Tcells"
        ],
        [
         "10",
         "991",
         "CD8_Tcells"
        ],
        [
         "11",
         "991",
         "COL1A1_cells"
        ],
        [
         "12",
         "991",
         "CD8_Tcells"
        ],
        [
         "13",
         "991",
         "CD4_Tcells"
        ],
        [
         "14",
         "991",
         "Cancer_cells"
        ],
        [
         "15",
         "991",
         "Cancer_cells"
        ],
        [
         "16",
         "991",
         "CD8_Tcells"
        ],
        [
         "17",
         "991",
         "CD4_Tcells"
        ],
        [
         "18",
         "991",
         "CD8_Tcells"
        ],
        [
         "19",
         "991",
         "CD4_Tcells"
        ],
        [
         "20",
         "991",
         "COL1A1_cells"
        ],
        [
         "21",
         "991",
         "COL1A1_cells"
        ],
        [
         "22",
         "991",
         "COL1A1_cells"
        ],
        [
         "23",
         "991",
         "CD4_Tcells"
        ],
        [
         "24",
         "991",
         "Cancer_cells"
        ],
        [
         "25",
         "991",
         "Cancer_cells"
        ],
        [
         "26",
         "991",
         "CD4_Tcells"
        ],
        [
         "27",
         "991",
         "CD4_Tcells"
        ],
        [
         "28",
         "991",
         "Cancer_cells"
        ],
        [
         "29",
         "991",
         "Cancer_cells"
        ],
        [
         "30",
         "991",
         "Cancer_cells"
        ],
        [
         "31",
         "991",
         "CD8_Tcells"
        ],
        [
         "32",
         "991",
         "Cancer_cells"
        ],
        [
         "33",
         "991",
         "CD4_Tcells"
        ],
        [
         "34",
         "991",
         "CD8_Tcells"
        ],
        [
         "35",
         "991",
         "CD8_Tcells"
        ],
        [
         "36",
         "991",
         "Cancer_cells"
        ],
        [
         "37",
         "991",
         "Cancer_cells"
        ],
        [
         "38",
         "991",
         "Unknown"
        ],
        [
         "40",
         "991",
         "CD4_Tcells"
        ],
        [
         "41",
         "991",
         "COL1A1_cells"
        ],
        [
         "42",
         "991",
         "Cancer_cells"
        ],
        [
         "43",
         "991",
         "CD4_Tcells"
        ],
        [
         "44",
         "991",
         "CD4_Tcells"
        ],
        [
         "45",
         "991",
         "CD8_Tcells"
        ],
        [
         "46",
         "991",
         "Vimentin_cells"
        ],
        [
         "47",
         "991",
         "CD4_Tcells"
        ],
        [
         "48",
         "991",
         "COL1A1_cells"
        ],
        [
         "49",
         "991",
         "Cancer_cells"
        ],
        [
         "50",
         "991",
         "Unknown"
        ]
       ],
       "shape": {
        "columns": 2,
        "rows": 1615233
       }
      },
      "text/html": [
       "<div>\n",
       "<style scoped>\n",
       "    .dataframe tbody tr th:only-of-type {\n",
       "        vertical-align: middle;\n",
       "    }\n",
       "\n",
       "    .dataframe tbody tr th {\n",
       "        vertical-align: top;\n",
       "    }\n",
       "\n",
       "    .dataframe thead th {\n",
       "        text-align: right;\n",
       "    }\n",
       "</style>\n",
       "<table border=\"1\" class=\"dataframe\">\n",
       "  <thead>\n",
       "    <tr style=\"text-align: right;\">\n",
       "      <th></th>\n",
       "      <th>imageid</th>\n",
       "      <th>phenotype</th>\n",
       "    </tr>\n",
       "  </thead>\n",
       "  <tbody>\n",
       "    <tr>\n",
       "      <th>0</th>\n",
       "      <td>991</td>\n",
       "      <td>Cancer_cells</td>\n",
       "    </tr>\n",
       "    <tr>\n",
       "      <th>1</th>\n",
       "      <td>991</td>\n",
       "      <td>Cancer_cells</td>\n",
       "    </tr>\n",
       "    <tr>\n",
       "      <th>2</th>\n",
       "      <td>991</td>\n",
       "      <td>Cancer_cells</td>\n",
       "    </tr>\n",
       "    <tr>\n",
       "      <th>3</th>\n",
       "      <td>991</td>\n",
       "      <td>CD4_Tcells</td>\n",
       "    </tr>\n",
       "    <tr>\n",
       "      <th>4</th>\n",
       "      <td>991</td>\n",
       "      <td>Cancer_cells</td>\n",
       "    </tr>\n",
       "    <tr>\n",
       "      <th>...</th>\n",
       "      <td>...</td>\n",
       "      <td>...</td>\n",
       "    </tr>\n",
       "    <tr>\n",
       "      <th>1134342</th>\n",
       "      <td>992</td>\n",
       "      <td>Unknown</td>\n",
       "    </tr>\n",
       "    <tr>\n",
       "      <th>1134343</th>\n",
       "      <td>992</td>\n",
       "      <td>Cancer_cells</td>\n",
       "    </tr>\n",
       "    <tr>\n",
       "      <th>1134344</th>\n",
       "      <td>992</td>\n",
       "      <td>Cancer_cells</td>\n",
       "    </tr>\n",
       "    <tr>\n",
       "      <th>1134345</th>\n",
       "      <td>992</td>\n",
       "      <td>Cancer_cells</td>\n",
       "    </tr>\n",
       "    <tr>\n",
       "      <th>1134346</th>\n",
       "      <td>992</td>\n",
       "      <td>Cancer_cells</td>\n",
       "    </tr>\n",
       "  </tbody>\n",
       "</table>\n",
       "<p>1615233 rows × 2 columns</p>\n",
       "</div>"
      ],
      "text/plain": [
       "        imageid     phenotype\n",
       "0           991  Cancer_cells\n",
       "1           991  Cancer_cells\n",
       "2           991  Cancer_cells\n",
       "3           991    CD4_Tcells\n",
       "4           991  Cancer_cells\n",
       "...         ...           ...\n",
       "1134342     992       Unknown\n",
       "1134343     992  Cancer_cells\n",
       "1134344     992  Cancer_cells\n",
       "1134345     992  Cancer_cells\n",
       "1134346     992  Cancer_cells\n",
       "\n",
       "[1615233 rows x 2 columns]"
      ]
     },
     "execution_count": 46,
     "metadata": {},
     "output_type": "execute_result"
    }
   ],
   "source": [
    "data"
   ]
  },
  {
   "cell_type": "code",
   "execution_count": 47,
   "metadata": {},
   "outputs": [],
   "source": [
    "total = data.groupby([x_axis, y_axis]).size().unstack().fillna(0).sum(axis=1)\n",
    "rg = pd.DataFrame(\n",
    "    data.groupby([x_axis, y_axis])\n",
    "    .size()\n",
    "    .unstack()\n",
    "    .fillna(0)\n",
    "    .div(total, axis=0)\n",
    "    .stack()\n",
    ")"
   ]
  },
  {
   "cell_type": "code",
   "execution_count": 48,
   "metadata": {},
   "outputs": [
    {
     "data": {
      "text/plain": [
       "imageid\n",
       "991     610182\n",
       "992    1005051\n",
       "dtype: int64"
      ]
     },
     "execution_count": 48,
     "metadata": {},
     "output_type": "execute_result"
    }
   ],
   "source": [
    "total"
   ]
  },
  {
   "cell_type": "code",
   "execution_count": 49,
   "metadata": {},
   "outputs": [
    {
     "data": {
      "application/vnd.microsoft.datawrangler.viewer.v0+json": {
       "columns": [
        {
         "name": "('imageid', 'phenotype')",
         "rawType": "object",
         "type": "unknown"
        },
        {
         "name": "0",
         "rawType": "float64",
         "type": "float"
        }
       ],
       "conversionMethod": "pd.DataFrame",
       "ref": "0f4f1d9c-3b73-4d71-b078-991e5810c09c",
       "rows": [
        [
         "('991', 'B_cells')",
         "0.005863824236047605"
        ],
        [
         "('991', 'CD4_Tcells')",
         "0.17918424338967717"
        ],
        [
         "('991', 'CD8_Tcells')",
         "0.01446453681032872"
        ],
        [
         "('991', 'COL1A1_cells')",
         "0.07395170621224487"
        ],
        [
         "('991', 'Cancer_cells')",
         "0.35464336869983054"
        ],
        [
         "('991', 'Macrophages')",
         "0.0015093857242593194"
        ],
        [
         "('991', 'Unknown')",
         "0.3573818958933564"
        ],
        [
         "('991', 'Vimentin_cells')",
         "0.013001039034255353"
        ],
        [
         "('992', 'B_cells')",
         "0.0003860500611411759"
        ],
        [
         "('992', 'CD4_Tcells')",
         "0.05011586476706157"
        ],
        [
         "('992', 'CD8_Tcells')",
         "0.00202377789783802"
        ],
        [
         "('992', 'COL1A1_cells')",
         "0.07478625462787461"
        ],
        [
         "('992', 'Cancer_cells')",
         "0.6914455087353776"
        ],
        [
         "('992', 'Macrophages')",
         "0.014146545797178452"
        ],
        [
         "('992', 'Unknown')",
         "0.13429567255791"
        ],
        [
         "('992', 'Vimentin_cells')",
         "0.03280032555561857"
        ]
       ],
       "shape": {
        "columns": 1,
        "rows": 16
       }
      },
      "text/html": [
       "<div>\n",
       "<style scoped>\n",
       "    .dataframe tbody tr th:only-of-type {\n",
       "        vertical-align: middle;\n",
       "    }\n",
       "\n",
       "    .dataframe tbody tr th {\n",
       "        vertical-align: top;\n",
       "    }\n",
       "\n",
       "    .dataframe thead th {\n",
       "        text-align: right;\n",
       "    }\n",
       "</style>\n",
       "<table border=\"1\" class=\"dataframe\">\n",
       "  <thead>\n",
       "    <tr style=\"text-align: right;\">\n",
       "      <th></th>\n",
       "      <th></th>\n",
       "      <th>0</th>\n",
       "    </tr>\n",
       "    <tr>\n",
       "      <th>imageid</th>\n",
       "      <th>phenotype</th>\n",
       "      <th></th>\n",
       "    </tr>\n",
       "  </thead>\n",
       "  <tbody>\n",
       "    <tr>\n",
       "      <th rowspan=\"8\" valign=\"top\">991</th>\n",
       "      <th>B_cells</th>\n",
       "      <td>0.005864</td>\n",
       "    </tr>\n",
       "    <tr>\n",
       "      <th>CD4_Tcells</th>\n",
       "      <td>0.179184</td>\n",
       "    </tr>\n",
       "    <tr>\n",
       "      <th>CD8_Tcells</th>\n",
       "      <td>0.014465</td>\n",
       "    </tr>\n",
       "    <tr>\n",
       "      <th>COL1A1_cells</th>\n",
       "      <td>0.073952</td>\n",
       "    </tr>\n",
       "    <tr>\n",
       "      <th>Cancer_cells</th>\n",
       "      <td>0.354643</td>\n",
       "    </tr>\n",
       "    <tr>\n",
       "      <th>Macrophages</th>\n",
       "      <td>0.001509</td>\n",
       "    </tr>\n",
       "    <tr>\n",
       "      <th>Unknown</th>\n",
       "      <td>0.357382</td>\n",
       "    </tr>\n",
       "    <tr>\n",
       "      <th>Vimentin_cells</th>\n",
       "      <td>0.013001</td>\n",
       "    </tr>\n",
       "    <tr>\n",
       "      <th rowspan=\"8\" valign=\"top\">992</th>\n",
       "      <th>B_cells</th>\n",
       "      <td>0.000386</td>\n",
       "    </tr>\n",
       "    <tr>\n",
       "      <th>CD4_Tcells</th>\n",
       "      <td>0.050116</td>\n",
       "    </tr>\n",
       "    <tr>\n",
       "      <th>CD8_Tcells</th>\n",
       "      <td>0.002024</td>\n",
       "    </tr>\n",
       "    <tr>\n",
       "      <th>COL1A1_cells</th>\n",
       "      <td>0.074786</td>\n",
       "    </tr>\n",
       "    <tr>\n",
       "      <th>Cancer_cells</th>\n",
       "      <td>0.691446</td>\n",
       "    </tr>\n",
       "    <tr>\n",
       "      <th>Macrophages</th>\n",
       "      <td>0.014147</td>\n",
       "    </tr>\n",
       "    <tr>\n",
       "      <th>Unknown</th>\n",
       "      <td>0.134296</td>\n",
       "    </tr>\n",
       "    <tr>\n",
       "      <th>Vimentin_cells</th>\n",
       "      <td>0.032800</td>\n",
       "    </tr>\n",
       "  </tbody>\n",
       "</table>\n",
       "</div>"
      ],
      "text/plain": [
       "                               0\n",
       "imageid phenotype               \n",
       "991     B_cells         0.005864\n",
       "        CD4_Tcells      0.179184\n",
       "        CD8_Tcells      0.014465\n",
       "        COL1A1_cells    0.073952\n",
       "        Cancer_cells    0.354643\n",
       "        Macrophages     0.001509\n",
       "        Unknown         0.357382\n",
       "        Vimentin_cells  0.013001\n",
       "992     B_cells         0.000386\n",
       "        CD4_Tcells      0.050116\n",
       "        CD8_Tcells      0.002024\n",
       "        COL1A1_cells    0.074786\n",
       "        Cancer_cells    0.691446\n",
       "        Macrophages     0.014147\n",
       "        Unknown         0.134296\n",
       "        Vimentin_cells  0.032800"
      ]
     },
     "execution_count": 49,
     "metadata": {},
     "output_type": "execute_result"
    }
   ],
   "source": [
    "rg"
   ]
  },
  {
   "cell_type": "code",
   "execution_count": 67,
   "metadata": {},
   "outputs": [
    {
     "data": {
      "application/vnd.microsoft.datawrangler.viewer.v0+json": {
       "columns": [
        {
         "name": "('imageid', 'phenotype')",
         "rawType": "object",
         "type": "unknown"
        },
        {
         "name": "count",
         "rawType": "float64",
         "type": "float"
        }
       ],
       "conversionMethod": "pd.DataFrame",
       "ref": "eb54400e-3801-4283-b2a8-cd48c61e5269",
       "rows": [
        [
         "('991', 'B_cells')",
         "0.005863824236047605"
        ],
        [
         "('991', 'CD4_Tcells')",
         "0.17918424338967717"
        ],
        [
         "('991', 'CD8_Tcells')",
         "0.01446453681032872"
        ],
        [
         "('991', 'COL1A1_cells')",
         "0.07395170621224487"
        ],
        [
         "('991', 'Cancer_cells')",
         "0.35464336869983054"
        ],
        [
         "('991', 'Macrophages')",
         "0.0015093857242593194"
        ],
        [
         "('991', 'Unknown')",
         "0.3573818958933564"
        ],
        [
         "('991', 'Vimentin_cells')",
         "0.013001039034255353"
        ],
        [
         "('992', 'B_cells')",
         "0.0003860500611411759"
        ],
        [
         "('992', 'CD4_Tcells')",
         "0.05011586476706157"
        ],
        [
         "('992', 'CD8_Tcells')",
         "0.00202377789783802"
        ],
        [
         "('992', 'COL1A1_cells')",
         "0.07478625462787461"
        ],
        [
         "('992', 'Cancer_cells')",
         "0.6914455087353776"
        ],
        [
         "('992', 'Macrophages')",
         "0.014146545797178452"
        ],
        [
         "('992', 'Unknown')",
         "0.13429567255791"
        ],
        [
         "('992', 'Vimentin_cells')",
         "0.03280032555561857"
        ]
       ],
       "shape": {
        "columns": 1,
        "rows": 16
       }
      },
      "text/html": [
       "<div>\n",
       "<style scoped>\n",
       "    .dataframe tbody tr th:only-of-type {\n",
       "        vertical-align: middle;\n",
       "    }\n",
       "\n",
       "    .dataframe tbody tr th {\n",
       "        vertical-align: top;\n",
       "    }\n",
       "\n",
       "    .dataframe thead th {\n",
       "        text-align: right;\n",
       "    }\n",
       "</style>\n",
       "<table border=\"1\" class=\"dataframe\">\n",
       "  <thead>\n",
       "    <tr style=\"text-align: right;\">\n",
       "      <th></th>\n",
       "      <th></th>\n",
       "      <th>count</th>\n",
       "    </tr>\n",
       "    <tr>\n",
       "      <th>imageid</th>\n",
       "      <th>phenotype</th>\n",
       "      <th></th>\n",
       "    </tr>\n",
       "  </thead>\n",
       "  <tbody>\n",
       "    <tr>\n",
       "      <th rowspan=\"8\" valign=\"top\">991</th>\n",
       "      <th>B_cells</th>\n",
       "      <td>0.005864</td>\n",
       "    </tr>\n",
       "    <tr>\n",
       "      <th>CD4_Tcells</th>\n",
       "      <td>0.179184</td>\n",
       "    </tr>\n",
       "    <tr>\n",
       "      <th>CD8_Tcells</th>\n",
       "      <td>0.014465</td>\n",
       "    </tr>\n",
       "    <tr>\n",
       "      <th>COL1A1_cells</th>\n",
       "      <td>0.073952</td>\n",
       "    </tr>\n",
       "    <tr>\n",
       "      <th>Cancer_cells</th>\n",
       "      <td>0.354643</td>\n",
       "    </tr>\n",
       "    <tr>\n",
       "      <th>Macrophages</th>\n",
       "      <td>0.001509</td>\n",
       "    </tr>\n",
       "    <tr>\n",
       "      <th>Unknown</th>\n",
       "      <td>0.357382</td>\n",
       "    </tr>\n",
       "    <tr>\n",
       "      <th>Vimentin_cells</th>\n",
       "      <td>0.013001</td>\n",
       "    </tr>\n",
       "    <tr>\n",
       "      <th rowspan=\"8\" valign=\"top\">992</th>\n",
       "      <th>B_cells</th>\n",
       "      <td>0.000386</td>\n",
       "    </tr>\n",
       "    <tr>\n",
       "      <th>CD4_Tcells</th>\n",
       "      <td>0.050116</td>\n",
       "    </tr>\n",
       "    <tr>\n",
       "      <th>CD8_Tcells</th>\n",
       "      <td>0.002024</td>\n",
       "    </tr>\n",
       "    <tr>\n",
       "      <th>COL1A1_cells</th>\n",
       "      <td>0.074786</td>\n",
       "    </tr>\n",
       "    <tr>\n",
       "      <th>Cancer_cells</th>\n",
       "      <td>0.691446</td>\n",
       "    </tr>\n",
       "    <tr>\n",
       "      <th>Macrophages</th>\n",
       "      <td>0.014147</td>\n",
       "    </tr>\n",
       "    <tr>\n",
       "      <th>Unknown</th>\n",
       "      <td>0.134296</td>\n",
       "    </tr>\n",
       "    <tr>\n",
       "      <th>Vimentin_cells</th>\n",
       "      <td>0.032800</td>\n",
       "    </tr>\n",
       "  </tbody>\n",
       "</table>\n",
       "</div>"
      ],
      "text/plain": [
       "                           count\n",
       "imageid phenotype               \n",
       "991     B_cells         0.005864\n",
       "        CD4_Tcells      0.179184\n",
       "        CD8_Tcells      0.014465\n",
       "        COL1A1_cells    0.073952\n",
       "        Cancer_cells    0.354643\n",
       "        Macrophages     0.001509\n",
       "        Unknown         0.357382\n",
       "        Vimentin_cells  0.013001\n",
       "992     B_cells         0.000386\n",
       "        CD4_Tcells      0.050116\n",
       "        CD8_Tcells      0.002024\n",
       "        COL1A1_cells    0.074786\n",
       "        Cancer_cells    0.691446\n",
       "        Macrophages     0.014147\n",
       "        Unknown         0.134296\n",
       "        Vimentin_cells  0.032800"
      ]
     },
     "execution_count": 67,
     "metadata": {},
     "output_type": "execute_result"
    }
   ],
   "source": [
    "rg.columns = ['count']\n",
    "rg"
   ]
  },
  {
   "cell_type": "code",
   "execution_count": 68,
   "metadata": {},
   "outputs": [
    {
     "data": {
      "application/vnd.microsoft.datawrangler.viewer.v0+json": {
       "columns": [
        {
         "name": "index",
         "rawType": "int64",
         "type": "integer"
        },
        {
         "name": "imageid",
         "rawType": "object",
         "type": "string"
        },
        {
         "name": "phenotype",
         "rawType": "object",
         "type": "string"
        },
        {
         "name": "count",
         "rawType": "float64",
         "type": "float"
        }
       ],
       "conversionMethod": "pd.DataFrame",
       "ref": "b44a7eec-12a1-42df-972f-219530e826e6",
       "rows": [
        [
         "0",
         "991",
         "B_cells",
         "0.005863824236047605"
        ],
        [
         "1",
         "991",
         "CD4_Tcells",
         "0.17918424338967717"
        ],
        [
         "2",
         "991",
         "CD8_Tcells",
         "0.01446453681032872"
        ],
        [
         "3",
         "991",
         "COL1A1_cells",
         "0.07395170621224487"
        ],
        [
         "4",
         "991",
         "Cancer_cells",
         "0.35464336869983054"
        ],
        [
         "5",
         "991",
         "Macrophages",
         "0.0015093857242593194"
        ],
        [
         "6",
         "991",
         "Unknown",
         "0.3573818958933564"
        ],
        [
         "7",
         "991",
         "Vimentin_cells",
         "0.013001039034255353"
        ],
        [
         "8",
         "992",
         "B_cells",
         "0.0003860500611411759"
        ],
        [
         "9",
         "992",
         "CD4_Tcells",
         "0.05011586476706157"
        ],
        [
         "10",
         "992",
         "CD8_Tcells",
         "0.00202377789783802"
        ],
        [
         "11",
         "992",
         "COL1A1_cells",
         "0.07478625462787461"
        ],
        [
         "12",
         "992",
         "Cancer_cells",
         "0.6914455087353776"
        ],
        [
         "13",
         "992",
         "Macrophages",
         "0.014146545797178452"
        ],
        [
         "14",
         "992",
         "Unknown",
         "0.13429567255791"
        ],
        [
         "15",
         "992",
         "Vimentin_cells",
         "0.03280032555561857"
        ]
       ],
       "shape": {
        "columns": 3,
        "rows": 16
       }
      },
      "text/html": [
       "<div>\n",
       "<style scoped>\n",
       "    .dataframe tbody tr th:only-of-type {\n",
       "        vertical-align: middle;\n",
       "    }\n",
       "\n",
       "    .dataframe tbody tr th {\n",
       "        vertical-align: top;\n",
       "    }\n",
       "\n",
       "    .dataframe thead th {\n",
       "        text-align: right;\n",
       "    }\n",
       "</style>\n",
       "<table border=\"1\" class=\"dataframe\">\n",
       "  <thead>\n",
       "    <tr style=\"text-align: right;\">\n",
       "      <th></th>\n",
       "      <th>imageid</th>\n",
       "      <th>phenotype</th>\n",
       "      <th>count</th>\n",
       "    </tr>\n",
       "  </thead>\n",
       "  <tbody>\n",
       "    <tr>\n",
       "      <th>0</th>\n",
       "      <td>991</td>\n",
       "      <td>B_cells</td>\n",
       "      <td>0.005864</td>\n",
       "    </tr>\n",
       "    <tr>\n",
       "      <th>1</th>\n",
       "      <td>991</td>\n",
       "      <td>CD4_Tcells</td>\n",
       "      <td>0.179184</td>\n",
       "    </tr>\n",
       "    <tr>\n",
       "      <th>2</th>\n",
       "      <td>991</td>\n",
       "      <td>CD8_Tcells</td>\n",
       "      <td>0.014465</td>\n",
       "    </tr>\n",
       "    <tr>\n",
       "      <th>3</th>\n",
       "      <td>991</td>\n",
       "      <td>COL1A1_cells</td>\n",
       "      <td>0.073952</td>\n",
       "    </tr>\n",
       "    <tr>\n",
       "      <th>4</th>\n",
       "      <td>991</td>\n",
       "      <td>Cancer_cells</td>\n",
       "      <td>0.354643</td>\n",
       "    </tr>\n",
       "    <tr>\n",
       "      <th>5</th>\n",
       "      <td>991</td>\n",
       "      <td>Macrophages</td>\n",
       "      <td>0.001509</td>\n",
       "    </tr>\n",
       "    <tr>\n",
       "      <th>6</th>\n",
       "      <td>991</td>\n",
       "      <td>Unknown</td>\n",
       "      <td>0.357382</td>\n",
       "    </tr>\n",
       "    <tr>\n",
       "      <th>7</th>\n",
       "      <td>991</td>\n",
       "      <td>Vimentin_cells</td>\n",
       "      <td>0.013001</td>\n",
       "    </tr>\n",
       "    <tr>\n",
       "      <th>8</th>\n",
       "      <td>992</td>\n",
       "      <td>B_cells</td>\n",
       "      <td>0.000386</td>\n",
       "    </tr>\n",
       "    <tr>\n",
       "      <th>9</th>\n",
       "      <td>992</td>\n",
       "      <td>CD4_Tcells</td>\n",
       "      <td>0.050116</td>\n",
       "    </tr>\n",
       "    <tr>\n",
       "      <th>10</th>\n",
       "      <td>992</td>\n",
       "      <td>CD8_Tcells</td>\n",
       "      <td>0.002024</td>\n",
       "    </tr>\n",
       "    <tr>\n",
       "      <th>11</th>\n",
       "      <td>992</td>\n",
       "      <td>COL1A1_cells</td>\n",
       "      <td>0.074786</td>\n",
       "    </tr>\n",
       "    <tr>\n",
       "      <th>12</th>\n",
       "      <td>992</td>\n",
       "      <td>Cancer_cells</td>\n",
       "      <td>0.691446</td>\n",
       "    </tr>\n",
       "    <tr>\n",
       "      <th>13</th>\n",
       "      <td>992</td>\n",
       "      <td>Macrophages</td>\n",
       "      <td>0.014147</td>\n",
       "    </tr>\n",
       "    <tr>\n",
       "      <th>14</th>\n",
       "      <td>992</td>\n",
       "      <td>Unknown</td>\n",
       "      <td>0.134296</td>\n",
       "    </tr>\n",
       "    <tr>\n",
       "      <th>15</th>\n",
       "      <td>992</td>\n",
       "      <td>Vimentin_cells</td>\n",
       "      <td>0.032800</td>\n",
       "    </tr>\n",
       "  </tbody>\n",
       "</table>\n",
       "</div>"
      ],
      "text/plain": [
       "   imageid       phenotype     count\n",
       "0      991         B_cells  0.005864\n",
       "1      991      CD4_Tcells  0.179184\n",
       "2      991      CD8_Tcells  0.014465\n",
       "3      991    COL1A1_cells  0.073952\n",
       "4      991    Cancer_cells  0.354643\n",
       "5      991     Macrophages  0.001509\n",
       "6      991         Unknown  0.357382\n",
       "7      991  Vimentin_cells  0.013001\n",
       "8      992         B_cells  0.000386\n",
       "9      992      CD4_Tcells  0.050116\n",
       "10     992      CD8_Tcells  0.002024\n",
       "11     992    COL1A1_cells  0.074786\n",
       "12     992    Cancer_cells  0.691446\n",
       "13     992     Macrophages  0.014147\n",
       "14     992         Unknown  0.134296\n",
       "15     992  Vimentin_cells  0.032800"
      ]
     },
     "execution_count": 68,
     "metadata": {},
     "output_type": "execute_result"
    }
   ],
   "source": [
    "# Add the index as columns in the data frame\n",
    "rg.reset_index(inplace=True)\n",
    "rg\n"
   ]
  },
  {
   "cell_type": "code",
   "execution_count": 69,
   "metadata": {},
   "outputs": [
    {
     "data": {
      "application/vnd.microsoft.datawrangler.viewer.v0+json": {
       "columns": [
        {
         "name": "imageid",
         "rawType": "object",
         "type": "string"
        },
        {
         "name": "B_cells",
         "rawType": "float64",
         "type": "float"
        },
        {
         "name": "CD4_Tcells",
         "rawType": "float64",
         "type": "float"
        },
        {
         "name": "CD8_Tcells",
         "rawType": "float64",
         "type": "float"
        },
        {
         "name": "COL1A1_cells",
         "rawType": "float64",
         "type": "float"
        },
        {
         "name": "Cancer_cells",
         "rawType": "float64",
         "type": "float"
        },
        {
         "name": "Macrophages",
         "rawType": "float64",
         "type": "float"
        },
        {
         "name": "Unknown",
         "rawType": "float64",
         "type": "float"
        },
        {
         "name": "Vimentin_cells",
         "rawType": "float64",
         "type": "float"
        }
       ],
       "conversionMethod": "pd.DataFrame",
       "ref": "d44d986c-a2fa-444d-a685-e4b1e5638c15",
       "rows": [
        [
         "991",
         "0.005863824236047605",
         "0.17918424338967717",
         "0.01446453681032872",
         "0.07395170621224487",
         "0.35464336869983054",
         "0.0015093857242593194",
         "0.3573818958933564",
         "0.013001039034255353"
        ],
        [
         "992",
         "0.0003860500611411759",
         "0.05011586476706157",
         "0.00202377789783802",
         "0.07478625462787461",
         "0.6914455087353776",
         "0.014146545797178452",
         "0.13429567255791",
         "0.03280032555561857"
        ]
       ],
       "shape": {
        "columns": 8,
        "rows": 2
       }
      },
      "text/html": [
       "<div>\n",
       "<style scoped>\n",
       "    .dataframe tbody tr th:only-of-type {\n",
       "        vertical-align: middle;\n",
       "    }\n",
       "\n",
       "    .dataframe tbody tr th {\n",
       "        vertical-align: top;\n",
       "    }\n",
       "\n",
       "    .dataframe thead th {\n",
       "        text-align: right;\n",
       "    }\n",
       "</style>\n",
       "<table border=\"1\" class=\"dataframe\">\n",
       "  <thead>\n",
       "    <tr style=\"text-align: right;\">\n",
       "      <th>phenotype</th>\n",
       "      <th>B_cells</th>\n",
       "      <th>CD4_Tcells</th>\n",
       "      <th>CD8_Tcells</th>\n",
       "      <th>COL1A1_cells</th>\n",
       "      <th>Cancer_cells</th>\n",
       "      <th>Macrophages</th>\n",
       "      <th>Unknown</th>\n",
       "      <th>Vimentin_cells</th>\n",
       "    </tr>\n",
       "    <tr>\n",
       "      <th>imageid</th>\n",
       "      <th></th>\n",
       "      <th></th>\n",
       "      <th></th>\n",
       "      <th></th>\n",
       "      <th></th>\n",
       "      <th></th>\n",
       "      <th></th>\n",
       "      <th></th>\n",
       "    </tr>\n",
       "  </thead>\n",
       "  <tbody>\n",
       "    <tr>\n",
       "      <th>991</th>\n",
       "      <td>0.005864</td>\n",
       "      <td>0.179184</td>\n",
       "      <td>0.014465</td>\n",
       "      <td>0.073952</td>\n",
       "      <td>0.354643</td>\n",
       "      <td>0.001509</td>\n",
       "      <td>0.357382</td>\n",
       "      <td>0.013001</td>\n",
       "    </tr>\n",
       "    <tr>\n",
       "      <th>992</th>\n",
       "      <td>0.000386</td>\n",
       "      <td>0.050116</td>\n",
       "      <td>0.002024</td>\n",
       "      <td>0.074786</td>\n",
       "      <td>0.691446</td>\n",
       "      <td>0.014147</td>\n",
       "      <td>0.134296</td>\n",
       "      <td>0.032800</td>\n",
       "    </tr>\n",
       "  </tbody>\n",
       "</table>\n",
       "</div>"
      ],
      "text/plain": [
       "phenotype   B_cells  CD4_Tcells  CD8_Tcells  COL1A1_cells  Cancer_cells  \\\n",
       "imageid                                                                   \n",
       "991        0.005864    0.179184    0.014465      0.073952      0.354643   \n",
       "992        0.000386    0.050116    0.002024      0.074786      0.691446   \n",
       "\n",
       "phenotype  Macrophages   Unknown  Vimentin_cells  \n",
       "imageid                                           \n",
       "991           0.001509  0.357382        0.013001  \n",
       "992           0.014147  0.134296        0.032800  "
      ]
     },
     "execution_count": 69,
     "metadata": {},
     "output_type": "execute_result"
    }
   ],
   "source": [
    "pivot_df = rg.pivot(index=x_axis, columns=y_axis, values='count')\n",
    "pivot_df"
   ]
  },
  {
   "cell_type": "code",
   "execution_count": 79,
   "metadata": {},
   "outputs": [
    {
     "data": {
      "image/png": "[encoded data removed]",
      "text/plain": [
       "<Figure size 300x900 with 1 Axes>"
      ]
     },
     "metadata": {},
     "output_type": "display_data"
    }
   ],
   "source": [
    "fig,ax = plt.subplots()\n",
    "fig.set_size_inches(3, 9)\n",
    "pivot_df.plot.bar(stacked=True, ax=ax)\n",
    "\n",
    "plt.legend(bbox_to_anchor=(1,1))\n",
    "\n",
    "plt.show()"
   ]
  },
  {
   "cell_type": "markdown",
   "metadata": {},
   "source": [
    "# Heatmap for measured intensities "
   ]
  },
  {
   "cell_type": "code",
   "execution_count": 86,
   "metadata": {},
   "outputs": [
    {
     "data": {
      "image/png": "[encoded data removed]",
      "text/plain": [
       "<Figure size 800x400 with 1 Axes>"
      ]
     },
     "metadata": {},
     "output_type": "display_data"
    }
   ],
   "source": [
    "sm.pl.heatmap(adata_concat, groupBy=\"phenotype\", figsize=(8,4), standardScale=\"column\")"
   ]
  },
  {
   "cell_type": "code",
   "execution_count": 87,
   "metadata": {},
   "outputs": [
    {
     "data": {
      "text/plain": [
       "AnnData object with n_obs × n_vars = 1615233 × 8\n",
       "    obs: 'CellID', 'Y_centroid', 'X_centroid', 'Area', 'MajorAxisLength', 'MinorAxisLength', 'Eccentricity', 'Orientation', 'Extent', 'Solidity', 'artefact', 'Area_filter_nottoobig', 'Area_filter_nottoolow', 'Area_filter', 'DAPI_ratio', 'DAPI_ratio_pass_nottoolow', 'DAPI_ratio_pass_nottoohigh', 'DAPI_ratio_pass', 'filtering', 'imageid', 'phenotype', 'cell_id'\n",
       "    layers: 'log'"
      ]
     },
     "execution_count": 87,
     "metadata": {},
     "output_type": "execute_result"
    }
   ],
   "source": [
    "adata_concat"
   ]
  },
  {
   "cell_type": "code",
   "execution_count": 115,
   "metadata": {},
   "outputs": [
    {
     "data": {
      "image/png": "[encoded data removed]",
      "text/plain": [
       "<Figure size 800x400 with 1 Axes>"
      ]
     },
     "metadata": {},
     "output_type": "display_data"
    }
   ],
   "source": [
    "sm.pl.heatmap(\n",
    "    adata=adata_concat,\n",
    "    groupBy=\"phenotype\",\n",
    "    # layer=\"log\",\n",
    "    # subsetGroups=[\"B_cells\",\"Vimentin_cells\", \"CD4_Tcells\", \"CD8_Tcells\", \"COL1A1_cells\", \"Cancer_cells\", \"Macrophages\"],\n",
    "    clusterRows=True,\n",
    "    clusterColumns=True,\n",
    "    standardScale=\"column\",\n",
    "    showPrevalence=True,\n",
    "    figsize=(8,4),\n",
    "    vmin=-1, vmax=1.5 \n",
    "    )"
   ]
  },
  {
   "cell_type": "code",
   "execution_count": 116,
   "metadata": {},
   "outputs": [
    {
     "data": {
      "image/png": "[encoded data removed]",
      "text/plain": [
       "<Figure size 800x400 with 1 Axes>"
      ]
     },
     "metadata": {},
     "output_type": "display_data"
    }
   ],
   "source": [
    "sm.pl.heatmap(\n",
    "    adata=adata_991,\n",
    "    groupBy=\"phenotype\",\n",
    "    # layer=\"log\",\n",
    "    # subsetGroups=[\"B_cells\",\"Vimentin_cells\", \"CD4_Tcells\", \"CD8_Tcells\", \"COL1A1_cells\", \"Cancer_cells\", \"Macrophages\"],\n",
    "    standardScale=\"column\",\n",
    "    showPrevalence=True,\n",
    "    figsize=(8,4),\n",
    "    vmin=-2, vmax=2\n",
    "    )"
   ]
  }
 ],
 "metadata": {
  "kernelspec": {
   "display_name": "default",
   "language": "python",
   "name": "python3"
  },
  "language_info": {
   "codemirror_mode": {
    "name": "ipython",
    "version": 3
   },
   "file_extension": ".py",
   "mimetype": "text/x-python",
   "name": "python",
   "nbconvert_exporter": "python",
   "pygments_lexer": "ipython3",
   "version": "3.11.11"
  }
 },
 "nbformat": 4,
 "nbformat_minor": 2
}
